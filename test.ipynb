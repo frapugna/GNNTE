{
 "cells": [
  {
   "cell_type": "code",
   "execution_count": 1,
   "metadata": {},
   "outputs": [],
   "source": [
    "import pandas as pd\n",
    "import pickle\n",
    "from tqdm import tqdm\n",
    "from data_visualization import *"
   ]
  },
  {
   "cell_type": "code",
   "execution_count": 2,
   "metadata": {},
   "outputs": [],
   "source": [
    "dd = pd.read_csv('/home/francesco.pugnaloni/GNNTE/test_data/performance/samples_enriched_for_plotting.csv')"
   ]
  },
  {
   "cell_type": "code",
   "execution_count": 3,
   "metadata": {},
   "outputs": [
    {
     "data": {
      "text/html": [
       "<div>\n",
       "<style scoped>\n",
       "    .dataframe tbody tr th:only-of-type {\n",
       "        vertical-align: middle;\n",
       "    }\n",
       "\n",
       "    .dataframe tbody tr th {\n",
       "        vertical-align: top;\n",
       "    }\n",
       "\n",
       "    .dataframe thead th {\n",
       "        text-align: right;\n",
       "    }\n",
       "</style>\n",
       "<table border=\"1\" class=\"dataframe\">\n",
       "  <thead>\n",
       "    <tr style=\"text-align: right;\">\n",
       "      <th></th>\n",
       "      <th>l_id</th>\n",
       "      <th>r_id</th>\n",
       "      <th>overlap_pred</th>\n",
       "      <th>overlap_true</th>\n",
       "      <th>AE</th>\n",
       "      <th>perc_num</th>\n",
       "      <th>perc_text</th>\n",
       "      <th>perc_nans</th>\n",
       "      <th>areas_ratio</th>\n",
       "      <th>area_to_tokens_ratio</th>\n",
       "      <th>...</th>\n",
       "      <th>is_num</th>\n",
       "      <th>has_nan</th>\n",
       "      <th>tot_area</th>\n",
       "      <th>area_l</th>\n",
       "      <th>area_r</th>\n",
       "      <th>area_min</th>\n",
       "      <th>overlap_area_true</th>\n",
       "      <th>overlap_area_pred</th>\n",
       "      <th>overlap_area_AE</th>\n",
       "      <th>overlap_area_error</th>\n",
       "    </tr>\n",
       "  </thead>\n",
       "  <tbody>\n",
       "    <tr>\n",
       "      <th>0</th>\n",
       "      <td>100.90674</td>\n",
       "      <td>599.39969</td>\n",
       "      <td>0.250864</td>\n",
       "      <td>0.416667</td>\n",
       "      <td>0.165802</td>\n",
       "      <td>0.808824</td>\n",
       "      <td>0.191176</td>\n",
       "      <td>0.0</td>\n",
       "      <td>0.545455</td>\n",
       "      <td>0.772727</td>\n",
       "      <td>...</td>\n",
       "      <td>False</td>\n",
       "      <td>False</td>\n",
       "      <td>68</td>\n",
       "      <td>24</td>\n",
       "      <td>44</td>\n",
       "      <td>24</td>\n",
       "      <td>10.0</td>\n",
       "      <td>6.020747</td>\n",
       "      <td>3.979253</td>\n",
       "      <td>-3.979253</td>\n",
       "    </tr>\n",
       "    <tr>\n",
       "      <th>1</th>\n",
       "      <td>101.98420</td>\n",
       "      <td>349.84227</td>\n",
       "      <td>0.844124</td>\n",
       "      <td>0.690476</td>\n",
       "      <td>0.153648</td>\n",
       "      <td>0.118841</td>\n",
       "      <td>0.881159</td>\n",
       "      <td>0.0</td>\n",
       "      <td>0.437500</td>\n",
       "      <td>0.360313</td>\n",
       "      <td>...</td>\n",
       "      <td>False</td>\n",
       "      <td>False</td>\n",
       "      <td>690</td>\n",
       "      <td>480</td>\n",
       "      <td>210</td>\n",
       "      <td>210</td>\n",
       "      <td>145.0</td>\n",
       "      <td>177.266107</td>\n",
       "      <td>32.266107</td>\n",
       "      <td>32.266107</td>\n",
       "    </tr>\n",
       "    <tr>\n",
       "      <th>2</th>\n",
       "      <td>103.11614</td>\n",
       "      <td>442.62098</td>\n",
       "      <td>0.922987</td>\n",
       "      <td>0.944444</td>\n",
       "      <td>0.021457</td>\n",
       "      <td>0.315315</td>\n",
       "      <td>0.684685</td>\n",
       "      <td>0.0</td>\n",
       "      <td>0.947368</td>\n",
       "      <td>0.462500</td>\n",
       "      <td>...</td>\n",
       "      <td>False</td>\n",
       "      <td>False</td>\n",
       "      <td>111</td>\n",
       "      <td>57</td>\n",
       "      <td>54</td>\n",
       "      <td>54</td>\n",
       "      <td>51.0</td>\n",
       "      <td>49.841304</td>\n",
       "      <td>1.158696</td>\n",
       "      <td>-1.158696</td>\n",
       "    </tr>\n",
       "    <tr>\n",
       "      <th>3</th>\n",
       "      <td>103.33148</td>\n",
       "      <td>175.53169</td>\n",
       "      <td>0.565044</td>\n",
       "      <td>0.333333</td>\n",
       "      <td>0.231710</td>\n",
       "      <td>0.066667</td>\n",
       "      <td>0.933333</td>\n",
       "      <td>0.0</td>\n",
       "      <td>1.000000</td>\n",
       "      <td>0.833333</td>\n",
       "      <td>...</td>\n",
       "      <td>False</td>\n",
       "      <td>False</td>\n",
       "      <td>60</td>\n",
       "      <td>30</td>\n",
       "      <td>30</td>\n",
       "      <td>30</td>\n",
       "      <td>10.0</td>\n",
       "      <td>16.951305</td>\n",
       "      <td>6.951305</td>\n",
       "      <td>6.951305</td>\n",
       "    </tr>\n",
       "    <tr>\n",
       "      <th>4</th>\n",
       "      <td>103.33148</td>\n",
       "      <td>295.94386</td>\n",
       "      <td>0.511493</td>\n",
       "      <td>0.333333</td>\n",
       "      <td>0.178159</td>\n",
       "      <td>0.066667</td>\n",
       "      <td>0.933333</td>\n",
       "      <td>0.0</td>\n",
       "      <td>1.000000</td>\n",
       "      <td>0.833333</td>\n",
       "      <td>...</td>\n",
       "      <td>False</td>\n",
       "      <td>False</td>\n",
       "      <td>60</td>\n",
       "      <td>30</td>\n",
       "      <td>30</td>\n",
       "      <td>30</td>\n",
       "      <td>10.0</td>\n",
       "      <td>15.344784</td>\n",
       "      <td>5.344784</td>\n",
       "      <td>5.344784</td>\n",
       "    </tr>\n",
       "    <tr>\n",
       "      <th>...</th>\n",
       "      <td>...</td>\n",
       "      <td>...</td>\n",
       "      <td>...</td>\n",
       "      <td>...</td>\n",
       "      <td>...</td>\n",
       "      <td>...</td>\n",
       "      <td>...</td>\n",
       "      <td>...</td>\n",
       "      <td>...</td>\n",
       "      <td>...</td>\n",
       "      <td>...</td>\n",
       "      <td>...</td>\n",
       "      <td>...</td>\n",
       "      <td>...</td>\n",
       "      <td>...</td>\n",
       "      <td>...</td>\n",
       "      <td>...</td>\n",
       "      <td>...</td>\n",
       "      <td>...</td>\n",
       "      <td>...</td>\n",
       "      <td>...</td>\n",
       "    </tr>\n",
       "    <tr>\n",
       "      <th>52345</th>\n",
       "      <td>654.24832</td>\n",
       "      <td>73.32223</td>\n",
       "      <td>0.480696</td>\n",
       "      <td>0.142857</td>\n",
       "      <td>0.337839</td>\n",
       "      <td>0.586379</td>\n",
       "      <td>0.413621</td>\n",
       "      <td>0.0</td>\n",
       "      <td>0.720000</td>\n",
       "      <td>0.957075</td>\n",
       "      <td>...</td>\n",
       "      <td>False</td>\n",
       "      <td>False</td>\n",
       "      <td>602</td>\n",
       "      <td>252</td>\n",
       "      <td>350</td>\n",
       "      <td>252</td>\n",
       "      <td>36.0</td>\n",
       "      <td>121.135510</td>\n",
       "      <td>85.135510</td>\n",
       "      <td>85.135510</td>\n",
       "    </tr>\n",
       "    <tr>\n",
       "      <th>52346</th>\n",
       "      <td>654.24832</td>\n",
       "      <td>94.89675</td>\n",
       "      <td>0.000000</td>\n",
       "      <td>0.058824</td>\n",
       "      <td>0.058824</td>\n",
       "      <td>0.697674</td>\n",
       "      <td>0.302326</td>\n",
       "      <td>0.0</td>\n",
       "      <td>0.876984</td>\n",
       "      <td>0.920233</td>\n",
       "      <td>...</td>\n",
       "      <td>False</td>\n",
       "      <td>False</td>\n",
       "      <td>473</td>\n",
       "      <td>252</td>\n",
       "      <td>221</td>\n",
       "      <td>221</td>\n",
       "      <td>13.0</td>\n",
       "      <td>0.000000</td>\n",
       "      <td>13.000000</td>\n",
       "      <td>-13.000000</td>\n",
       "    </tr>\n",
       "    <tr>\n",
       "      <th>52347</th>\n",
       "      <td>654.24832</td>\n",
       "      <td>94.89675</td>\n",
       "      <td>0.000000</td>\n",
       "      <td>0.058824</td>\n",
       "      <td>0.058824</td>\n",
       "      <td>0.697674</td>\n",
       "      <td>0.302326</td>\n",
       "      <td>0.0</td>\n",
       "      <td>0.876984</td>\n",
       "      <td>0.920233</td>\n",
       "      <td>...</td>\n",
       "      <td>False</td>\n",
       "      <td>False</td>\n",
       "      <td>473</td>\n",
       "      <td>252</td>\n",
       "      <td>221</td>\n",
       "      <td>221</td>\n",
       "      <td>13.0</td>\n",
       "      <td>0.000000</td>\n",
       "      <td>13.000000</td>\n",
       "      <td>-13.000000</td>\n",
       "    </tr>\n",
       "    <tr>\n",
       "      <th>52348</th>\n",
       "      <td>654.62620</td>\n",
       "      <td>654.62660</td>\n",
       "      <td>0.743865</td>\n",
       "      <td>0.875000</td>\n",
       "      <td>0.131135</td>\n",
       "      <td>0.041667</td>\n",
       "      <td>0.958333</td>\n",
       "      <td>0.0</td>\n",
       "      <td>1.000000</td>\n",
       "      <td>0.266667</td>\n",
       "      <td>...</td>\n",
       "      <td>False</td>\n",
       "      <td>False</td>\n",
       "      <td>96</td>\n",
       "      <td>48</td>\n",
       "      <td>48</td>\n",
       "      <td>48</td>\n",
       "      <td>42.0</td>\n",
       "      <td>35.705521</td>\n",
       "      <td>6.294479</td>\n",
       "      <td>-6.294479</td>\n",
       "    </tr>\n",
       "    <tr>\n",
       "      <th>52349</th>\n",
       "      <td>654.62620</td>\n",
       "      <td>654.62660</td>\n",
       "      <td>0.743865</td>\n",
       "      <td>0.875000</td>\n",
       "      <td>0.131135</td>\n",
       "      <td>0.041667</td>\n",
       "      <td>0.958333</td>\n",
       "      <td>0.0</td>\n",
       "      <td>1.000000</td>\n",
       "      <td>0.266667</td>\n",
       "      <td>...</td>\n",
       "      <td>False</td>\n",
       "      <td>False</td>\n",
       "      <td>96</td>\n",
       "      <td>48</td>\n",
       "      <td>48</td>\n",
       "      <td>48</td>\n",
       "      <td>42.0</td>\n",
       "      <td>35.705521</td>\n",
       "      <td>6.294479</td>\n",
       "      <td>-6.294479</td>\n",
       "    </tr>\n",
       "  </tbody>\n",
       "</table>\n",
       "<p>52350 rows × 22 columns</p>\n",
       "</div>"
      ],
      "text/plain": [
       "            l_id       r_id  overlap_pred  overlap_true        AE  perc_num  \\\n",
       "0      100.90674  599.39969      0.250864      0.416667  0.165802  0.808824   \n",
       "1      101.98420  349.84227      0.844124      0.690476  0.153648  0.118841   \n",
       "2      103.11614  442.62098      0.922987      0.944444  0.021457  0.315315   \n",
       "3      103.33148  175.53169      0.565044      0.333333  0.231710  0.066667   \n",
       "4      103.33148  295.94386      0.511493      0.333333  0.178159  0.066667   \n",
       "...          ...        ...           ...           ...       ...       ...   \n",
       "52345  654.24832   73.32223      0.480696      0.142857  0.337839  0.586379   \n",
       "52346  654.24832   94.89675      0.000000      0.058824  0.058824  0.697674   \n",
       "52347  654.24832   94.89675      0.000000      0.058824  0.058824  0.697674   \n",
       "52348  654.62620  654.62660      0.743865      0.875000  0.131135  0.041667   \n",
       "52349  654.62620  654.62660      0.743865      0.875000  0.131135  0.041667   \n",
       "\n",
       "       perc_text  perc_nans  areas_ratio  area_to_tokens_ratio  ...  is_num  \\\n",
       "0       0.191176        0.0     0.545455              0.772727  ...   False   \n",
       "1       0.881159        0.0     0.437500              0.360313  ...   False   \n",
       "2       0.684685        0.0     0.947368              0.462500  ...   False   \n",
       "3       0.933333        0.0     1.000000              0.833333  ...   False   \n",
       "4       0.933333        0.0     1.000000              0.833333  ...   False   \n",
       "...          ...        ...          ...                   ...  ...     ...   \n",
       "52345   0.413621        0.0     0.720000              0.957075  ...   False   \n",
       "52346   0.302326        0.0     0.876984              0.920233  ...   False   \n",
       "52347   0.302326        0.0     0.876984              0.920233  ...   False   \n",
       "52348   0.958333        0.0     1.000000              0.266667  ...   False   \n",
       "52349   0.958333        0.0     1.000000              0.266667  ...   False   \n",
       "\n",
       "       has_nan  tot_area  area_l  area_r  area_min  overlap_area_true  \\\n",
       "0        False        68      24      44        24               10.0   \n",
       "1        False       690     480     210       210              145.0   \n",
       "2        False       111      57      54        54               51.0   \n",
       "3        False        60      30      30        30               10.0   \n",
       "4        False        60      30      30        30               10.0   \n",
       "...        ...       ...     ...     ...       ...                ...   \n",
       "52345    False       602     252     350       252               36.0   \n",
       "52346    False       473     252     221       221               13.0   \n",
       "52347    False       473     252     221       221               13.0   \n",
       "52348    False        96      48      48        48               42.0   \n",
       "52349    False        96      48      48        48               42.0   \n",
       "\n",
       "       overlap_area_pred  overlap_area_AE  overlap_area_error  \n",
       "0               6.020747         3.979253           -3.979253  \n",
       "1             177.266107        32.266107           32.266107  \n",
       "2              49.841304         1.158696           -1.158696  \n",
       "3              16.951305         6.951305            6.951305  \n",
       "4              15.344784         5.344784            5.344784  \n",
       "...                  ...              ...                 ...  \n",
       "52345         121.135510        85.135510           85.135510  \n",
       "52346           0.000000        13.000000          -13.000000  \n",
       "52347           0.000000        13.000000          -13.000000  \n",
       "52348          35.705521         6.294479           -6.294479  \n",
       "52349          35.705521         6.294479           -6.294479  \n",
       "\n",
       "[52350 rows x 22 columns]"
      ]
     },
     "execution_count": 3,
     "metadata": {},
     "output_type": "execute_result"
    }
   ],
   "source": [
    "dd"
   ]
  },
  {
   "cell_type": "code",
   "execution_count": 4,
   "metadata": {},
   "outputs": [
    {
     "data": {
      "text/plain": [
       "Index(['l_id', 'r_id', 'overlap_pred', 'overlap_true', 'AE', 'perc_num',\n",
       "       'perc_text', 'perc_nans', 'areas_ratio', 'area_to_tokens_ratio',\n",
       "       'total_number_of_tokens', 'is_text', 'is_num', 'has_nan', 'tot_area',\n",
       "       'area_l', 'area_r', 'area_min', 'overlap_area_true',\n",
       "       'overlap_area_pred', 'overlap_area_AE', 'overlap_area_error'],\n",
       "      dtype='object')"
      ]
     },
     "execution_count": 4,
     "metadata": {},
     "output_type": "execute_result"
    }
   ],
   "source": [
    "dd.columns"
   ]
  },
  {
   "cell_type": "code",
   "execution_count": 2,
   "metadata": {},
   "outputs": [],
   "source": [
    "dd = pd.read_csv('/home/francesco.pugnaloni/GNNTE/test_data/t_exec/end_2_end_overlap_comparison/t_execs_compared_seconds_full_100tokens_with_test_repeated_for_cossim.csv')"
   ]
  },
  {
   "cell_type": "code",
   "execution_count": 3,
   "metadata": {},
   "outputs": [
    {
     "data": {
      "text/plain": [
       "Index(['id', 'r_id', 's_id', 'a%', 'total_time', 'graphs_generation',\n",
       "       'embeddings_generation', 'overlap_computation', 'total',\n",
       "       'predicted_overlap', 'r_rows', 'r_cols', 'r_area', 's_rows', 's_cols',\n",
       "       's_area', 'tot_rows', 'tot_cols', 'tot_area',\n",
       "       'overlap_computations_repeated', 'overlap_computations_no_read'],\n",
       "      dtype='object')"
      ]
     },
     "execution_count": 3,
     "metadata": {},
     "output_type": "execute_result"
    }
   ],
   "source": [
    "dd.columns"
   ]
  },
  {
   "cell_type": "code",
   "execution_count": 5,
   "metadata": {},
   "outputs": [
    {
     "data": {
      "text/html": [
       "<div>\n",
       "<style scoped>\n",
       "    .dataframe tbody tr th:only-of-type {\n",
       "        vertical-align: middle;\n",
       "    }\n",
       "\n",
       "    .dataframe tbody tr th {\n",
       "        vertical-align: top;\n",
       "    }\n",
       "\n",
       "    .dataframe thead th {\n",
       "        text-align: right;\n",
       "    }\n",
       "</style>\n",
       "<table border=\"1\" class=\"dataframe\">\n",
       "  <thead>\n",
       "    <tr style=\"text-align: right;\">\n",
       "      <th></th>\n",
       "      <th>total_time</th>\n",
       "      <th>total</th>\n",
       "      <th>overlap_computation</th>\n",
       "      <th>overlap_computations_repeated</th>\n",
       "      <th>overlap_computations_no_read</th>\n",
       "    </tr>\n",
       "  </thead>\n",
       "  <tbody>\n",
       "    <tr>\n",
       "      <th>count</th>\n",
       "      <td>199389.000000</td>\n",
       "      <td>200000.000000</td>\n",
       "      <td>200000.000000</td>\n",
       "      <td>200000.000000</td>\n",
       "      <td>200000.000000</td>\n",
       "    </tr>\n",
       "    <tr>\n",
       "      <th>mean</th>\n",
       "      <td>2.135047</td>\n",
       "      <td>0.225472</td>\n",
       "      <td>0.000493</td>\n",
       "      <td>0.000225</td>\n",
       "      <td>0.000124</td>\n",
       "    </tr>\n",
       "    <tr>\n",
       "      <th>std</th>\n",
       "      <td>4.776387</td>\n",
       "      <td>0.371984</td>\n",
       "      <td>0.000734</td>\n",
       "      <td>0.000005</td>\n",
       "      <td>0.000003</td>\n",
       "    </tr>\n",
       "    <tr>\n",
       "      <th>min</th>\n",
       "      <td>0.000073</td>\n",
       "      <td>0.002961</td>\n",
       "      <td>0.000141</td>\n",
       "      <td>0.000218</td>\n",
       "      <td>0.000119</td>\n",
       "    </tr>\n",
       "    <tr>\n",
       "      <th>25%</th>\n",
       "      <td>0.000434</td>\n",
       "      <td>0.043648</td>\n",
       "      <td>0.000180</td>\n",
       "      <td>0.000223</td>\n",
       "      <td>0.000123</td>\n",
       "    </tr>\n",
       "    <tr>\n",
       "      <th>50%</th>\n",
       "      <td>0.001404</td>\n",
       "      <td>0.058642</td>\n",
       "      <td>0.000184</td>\n",
       "      <td>0.000224</td>\n",
       "      <td>0.000124</td>\n",
       "    </tr>\n",
       "    <tr>\n",
       "      <th>75%</th>\n",
       "      <td>0.030425</td>\n",
       "      <td>0.309944</td>\n",
       "      <td>0.000191</td>\n",
       "      <td>0.000225</td>\n",
       "      <td>0.000124</td>\n",
       "    </tr>\n",
       "    <tr>\n",
       "      <th>max</th>\n",
       "      <td>63.329866</td>\n",
       "      <td>27.098526</td>\n",
       "      <td>0.002675</td>\n",
       "      <td>0.001108</td>\n",
       "      <td>0.000728</td>\n",
       "    </tr>\n",
       "  </tbody>\n",
       "</table>\n",
       "</div>"
      ],
      "text/plain": [
       "          total_time          total  overlap_computation  \\\n",
       "count  199389.000000  200000.000000        200000.000000   \n",
       "mean        2.135047       0.225472             0.000493   \n",
       "std         4.776387       0.371984             0.000734   \n",
       "min         0.000073       0.002961             0.000141   \n",
       "25%         0.000434       0.043648             0.000180   \n",
       "50%         0.001404       0.058642             0.000184   \n",
       "75%         0.030425       0.309944             0.000191   \n",
       "max        63.329866      27.098526             0.002675   \n",
       "\n",
       "       overlap_computations_repeated  overlap_computations_no_read  \n",
       "count                  200000.000000                 200000.000000  \n",
       "mean                        0.000225                      0.000124  \n",
       "std                         0.000005                      0.000003  \n",
       "min                         0.000218                      0.000119  \n",
       "25%                         0.000223                      0.000123  \n",
       "50%                         0.000224                      0.000124  \n",
       "75%                         0.000225                      0.000124  \n",
       "max                         0.001108                      0.000728  "
      ]
     },
     "execution_count": 5,
     "metadata": {},
     "output_type": "execute_result"
    }
   ],
   "source": [
    "dd[['total_time', 'total', 'overlap_computation', 'overlap_computations_repeated', 'overlap_computations_no_read']].describe()"
   ]
  },
  {
   "cell_type": "code",
   "execution_count": 7,
   "metadata": {},
   "outputs": [],
   "source": [
    "with open('/home/francesco.pugnaloni/GNNTE/Datasets/2_WikiTables/full_table_dict_with_id.pkl','rb') as f:\n",
    "    td = pickle.load(f)"
   ]
  },
  {
   "cell_type": "code",
   "execution_count": null,
   "metadata": {},
   "outputs": [
    {
     "data": {
      "text/plain": [
       "514121"
      ]
     },
     "execution_count": 8,
     "metadata": {},
     "output_type": "execute_result"
    }
   ],
   "source": [
    "len(td)"
   ]
  },
  {
   "cell_type": "code",
   "execution_count": 2,
   "metadata": {},
   "outputs": [],
   "source": [
    "with open('/home/francesco.pugnaloni/GNNTE/Datasets/2_WikiTables/1M_wikitables_disjointed/table_dict_full.pkl','rb') as f:\n",
    "    td = pickle.load(f)"
   ]
  },
  {
   "cell_type": "code",
   "execution_count": null,
   "metadata": {},
   "outputs": [
    {
     "name": "stderr",
     "output_type": "stream",
     "text": [
      "100%|██████████| 418253/418253 [02:03<00:00, 3375.05it/s]\n"
     ]
    }
   ],
   "source": [
    "for k in tqdm(td.keys()):\n",
    "    td[str(k)].to_csv('/home/francesco.pugnaloni/GNNTE/Datasets/2_WikiTables/1M_wikitables_disjointed/train_test_val_datasets/csv_tables/'+str(k)+'.csv', index=False)"
   ]
  },
  {
   "cell_type": "code",
   "execution_count": 3,
   "metadata": {},
   "outputs": [],
   "source": [
    "train = pd.read_csv('/home/francesco.pugnaloni/GNNTE/Datasets/2_WikiTables/1M_wikitables_disjointed/train_test_val_datasets/train.csv')\n",
    "test = pd.read_csv('/home/francesco.pugnaloni/GNNTE/Datasets/2_WikiTables/1M_wikitables_disjointed/train_test_val_datasets/test.csv')\n",
    "valid = pd.read_csv('/home/francesco.pugnaloni/GNNTE/Datasets/2_WikiTables/1M_wikitables_disjointed/train_test_val_datasets/valid.csv')"
   ]
  },
  {
   "cell_type": "code",
   "execution_count": 4,
   "metadata": {},
   "outputs": [
    {
     "data": {
      "text/plain": [
       "(455252, 3)"
      ]
     },
     "execution_count": 4,
     "metadata": {},
     "output_type": "execute_result"
    }
   ],
   "source": [
    "train.shape"
   ]
  },
  {
   "cell_type": "code",
   "execution_count": 6,
   "metadata": {},
   "outputs": [],
   "source": [
    "def get_table_set(df):\n",
    "    out = []\n",
    "    for r in tqdm(range(df.shape[0])):\n",
    "        out.append(df.iloc[r]['r_id'])\n",
    "        out.append(df.iloc[r]['s_id'])\n",
    "    return set(out)"
   ]
  },
  {
   "cell_type": "code",
   "execution_count": 7,
   "metadata": {},
   "outputs": [
    {
     "name": "stderr",
     "output_type": "stream",
     "text": [
      "100%|██████████| 455252/455252 [00:16<00:00, 26890.23it/s]\n"
     ]
    }
   ],
   "source": [
    "train_set_tables = get_table_set(train)"
   ]
  },
  {
   "cell_type": "code",
   "execution_count": 8,
   "metadata": {},
   "outputs": [
    {
     "name": "stderr",
     "output_type": "stream",
     "text": [
      "100%|██████████| 52350/52350 [00:01<00:00, 26974.75it/s]\n"
     ]
    }
   ],
   "source": [
    "test_set_tables = get_table_set(test)"
   ]
  },
  {
   "cell_type": "code",
   "execution_count": 9,
   "metadata": {},
   "outputs": [
    {
     "name": "stderr",
     "output_type": "stream",
     "text": [
      "100%|██████████| 52530/52530 [00:01<00:00, 26902.95it/s]\n"
     ]
    }
   ],
   "source": [
    "valid_set_tables = get_table_set(valid)"
   ]
  },
  {
   "cell_type": "code",
   "execution_count": 10,
   "metadata": {},
   "outputs": [
    {
     "data": {
      "text/plain": [
       "177367"
      ]
     },
     "execution_count": 10,
     "metadata": {},
     "output_type": "execute_result"
    }
   ],
   "source": [
    "len(train_set_tables)"
   ]
  },
  {
   "cell_type": "code",
   "execution_count": 12,
   "metadata": {},
   "outputs": [
    {
     "data": {
      "text/plain": [
       "28621"
      ]
     },
     "execution_count": 12,
     "metadata": {},
     "output_type": "execute_result"
    }
   ],
   "source": [
    "len(test_set_tables)"
   ]
  },
  {
   "cell_type": "code",
   "execution_count": 13,
   "metadata": {},
   "outputs": [
    {
     "data": {
      "text/plain": [
       "28664"
      ]
     },
     "execution_count": 13,
     "metadata": {},
     "output_type": "execute_result"
    }
   ],
   "source": [
    "len(valid_set_tables)"
   ]
  },
  {
   "cell_type": "code",
   "execution_count": 14,
   "metadata": {},
   "outputs": [
    {
     "data": {
      "text/plain": [
       "(52350, 5)"
      ]
     },
     "execution_count": 14,
     "metadata": {},
     "output_type": "execute_result"
    }
   ],
   "source": [
    "pd.read_csv('/home/francesco.pugnaloni/GNNTE/test_data/performance/1_x_bins_y_MAE/wikitables/455252_52350_52530_labelled.csv').shape"
   ]
  },
  {
   "cell_type": "code",
   "execution_count": 2,
   "metadata": {},
   "outputs": [],
   "source": [
    "train = pd.read_csv('/home/francesco.pugnaloni/GNNTE/Datasets/1_Gittables/balanced_datasets/data_augementation_samples/train_candidates.csv')\n",
    "test = pd.read_csv('/home/francesco.pugnaloni/GNNTE/Datasets/1_Gittables/balanced_datasets/data_augementation_samples/test_candidates.csv')\n",
    "valid = pd.read_csv('/home/francesco.pugnaloni/GNNTE/Datasets/1_Gittables/balanced_datasets/data_augementation_samples/valid_candidates.csv')"
   ]
  },
  {
   "cell_type": "code",
   "execution_count": 3,
   "metadata": {},
   "outputs": [
    {
     "data": {
      "image/png": "[encoded data removed]",
      "text/plain": [
       "<Figure size 640x480 with 1 Axes>"
      ]
     },
     "metadata": {},
     "output_type": "display_data"
    }
   ],
   "source": [
    "plot_data_distribution(train, label='table_overlap')"
   ]
  },
  {
   "cell_type": "code",
   "execution_count": 4,
   "metadata": {},
   "outputs": [
    {
     "data": {
      "image/png": "[encoded data removed]",
      "text/plain": [
       "<Figure size 640x480 with 1 Axes>"
      ]
     },
     "metadata": {},
     "output_type": "display_data"
    }
   ],
   "source": [
    "plot_data_distribution(test, label='table_overlap')"
   ]
  },
  {
   "cell_type": "code",
   "execution_count": 5,
   "metadata": {},
   "outputs": [
    {
     "data": {
      "image/png": "[encoded data removed]",
      "text/plain": [
       "<Figure size 640x480 with 1 Axes>"
      ]
     },
     "metadata": {},
     "output_type": "display_data"
    }
   ],
   "source": [
    "plot_data_distribution(valid, label='table_overlap')"
   ]
  },
  {
   "cell_type": "code",
   "execution_count": 2,
   "metadata": {},
   "outputs": [
    {
     "data": {
      "text/plain": [
       "-3943134526088901419"
      ]
     },
     "execution_count": 2,
     "metadata": {},
     "output_type": "execute_result"
    }
   ],
   "source": [
    "tt = 'Giangrafo Luca'\n",
    "hash(tt)"
   ]
  },
  {
   "cell_type": "code",
   "execution_count": 6,
   "metadata": {},
   "outputs": [
    {
     "data": {
      "text/plain": [
       "2294565171690168381"
      ]
     },
     "execution_count": 6,
     "metadata": {},
     "output_type": "execute_result"
    }
   ],
   "source": [
    "hash(str(31))"
   ]
  },
  {
   "cell_type": "code",
   "execution_count": 8,
   "metadata": {},
   "outputs": [
    {
     "data": {
      "text/plain": [
       "2294565171690168381"
      ]
     },
     "execution_count": 8,
     "metadata": {},
     "output_type": "execute_result"
    }
   ],
   "source": [
    "import numpy as np\n",
    "np.int64(hash(str(31)))"
   ]
  },
  {
   "cell_type": "code",
   "execution_count": 1,
   "metadata": {},
   "outputs": [
    {
     "name": "stderr",
     "output_type": "stream",
     "text": [
      "/home/francesco.pugnaloni/miniconda3/envs/GNNTE/lib/python3.11/site-packages/tqdm/auto.py:21: TqdmWarning: IProgress not found. Please update jupyter and ipywidgets. See https://ipywidgets.readthedocs.io/en/stable/user_install.html\n",
      "  from .autonotebook import tqdm as notebook_tqdm\n"
     ]
    }
   ],
   "source": [
    "from graph import *"
   ]
  },
  {
   "cell_type": "code",
   "execution_count": 2,
   "metadata": {},
   "outputs": [],
   "source": [
    "mm = {\n",
    "    'a':[1,2,3,4,5,6,7,8],\n",
    "    'b':[9,8,7,6,5,4,3,2],\n",
    "    'c':[9,8,7,6,5,4,3,2]\n",
    "}\n",
    "\n",
    "dd = pd.DataFrame(mm)"
   ]
  },
  {
   "cell_type": "code",
   "execution_count": 3,
   "metadata": {},
   "outputs": [
    {
     "data": {
      "text/html": [
       "<div>\n",
       "<style scoped>\n",
       "    .dataframe tbody tr th:only-of-type {\n",
       "        vertical-align: middle;\n",
       "    }\n",
       "\n",
       "    .dataframe tbody tr th {\n",
       "        vertical-align: top;\n",
       "    }\n",
       "\n",
       "    .dataframe thead th {\n",
       "        text-align: right;\n",
       "    }\n",
       "</style>\n",
       "<table border=\"1\" class=\"dataframe\">\n",
       "  <thead>\n",
       "    <tr style=\"text-align: right;\">\n",
       "      <th></th>\n",
       "      <th>a</th>\n",
       "      <th>b</th>\n",
       "      <th>c</th>\n",
       "    </tr>\n",
       "  </thead>\n",
       "  <tbody>\n",
       "    <tr>\n",
       "      <th>0</th>\n",
       "      <td>1</td>\n",
       "      <td>9</td>\n",
       "      <td>9</td>\n",
       "    </tr>\n",
       "    <tr>\n",
       "      <th>1</th>\n",
       "      <td>2</td>\n",
       "      <td>8</td>\n",
       "      <td>8</td>\n",
       "    </tr>\n",
       "    <tr>\n",
       "      <th>2</th>\n",
       "      <td>3</td>\n",
       "      <td>7</td>\n",
       "      <td>7</td>\n",
       "    </tr>\n",
       "    <tr>\n",
       "      <th>3</th>\n",
       "      <td>4</td>\n",
       "      <td>6</td>\n",
       "      <td>6</td>\n",
       "    </tr>\n",
       "    <tr>\n",
       "      <th>4</th>\n",
       "      <td>5</td>\n",
       "      <td>5</td>\n",
       "      <td>5</td>\n",
       "    </tr>\n",
       "    <tr>\n",
       "      <th>5</th>\n",
       "      <td>6</td>\n",
       "      <td>4</td>\n",
       "      <td>4</td>\n",
       "    </tr>\n",
       "    <tr>\n",
       "      <th>6</th>\n",
       "      <td>7</td>\n",
       "      <td>3</td>\n",
       "      <td>3</td>\n",
       "    </tr>\n",
       "    <tr>\n",
       "      <th>7</th>\n",
       "      <td>8</td>\n",
       "      <td>2</td>\n",
       "      <td>2</td>\n",
       "    </tr>\n",
       "  </tbody>\n",
       "</table>\n",
       "</div>"
      ],
      "text/plain": [
       "   a  b  c\n",
       "0  1  9  9\n",
       "1  2  8  8\n",
       "2  3  7  7\n",
       "3  4  6  6\n",
       "4  5  5  5\n",
       "5  6  4  4\n",
       "6  7  3  3\n",
       "7  8  2  2"
      ]
     },
     "execution_count": 3,
     "metadata": {},
     "output_type": "execute_result"
    }
   ],
   "source": [
    "dd"
   ]
  },
  {
   "cell_type": "code",
   "execution_count": 8,
   "metadata": {},
   "outputs": [
    {
     "ename": "NameError",
     "evalue": "name 'Graph_Hashed_Node_Embs' is not defined",
     "output_type": "error",
     "traceback": [
      "\u001b[0;31m---------------------------------------------------------------------------\u001b[0m",
      "\u001b[0;31mNameError\u001b[0m                                 Traceback (most recent call last)",
      "Cell \u001b[0;32mIn[8], line 1\u001b[0m\n\u001b[0;32m----> 1\u001b[0m gg \u001b[38;5;241m=\u001b[39m \u001b[43mGraph_Hashed_Node_Embs\u001b[49m(dd, \u001b[38;5;124m'\u001b[39m\u001b[38;5;124mff\u001b[39m\u001b[38;5;124m'\u001b[39m)\n",
      "\u001b[0;31mNameError\u001b[0m: name 'Graph_Hashed_Node_Embs' is not defined"
     ]
    }
   ],
   "source": [
    "gg = Graph_Hashed_Node_Embs(dd, 'ff')"
   ]
  },
  {
   "cell_type": "code",
   "execution_count": 9,
   "metadata": {},
   "outputs": [],
   "source": [
    "import pandas as pd"
   ]
  },
  {
   "cell_type": "code",
   "execution_count": 10,
   "metadata": {},
   "outputs": [],
   "source": [
    "dd = pd.read_csv('/home/francesco.pugnaloni/GNNTE/Datasets/1_Gittables/raw_files_csv/whole_csv_licensed.zip_P08-1028_swastika_67.csv')"
   ]
  },
  {
   "cell_type": "code",
   "execution_count": 11,
   "metadata": {},
   "outputs": [
    {
     "data": {
      "text/html": [
       "<div>\n",
       "<style scoped>\n",
       "    .dataframe tbody tr th:only-of-type {\n",
       "        vertical-align: middle;\n",
       "    }\n",
       "\n",
       "    .dataframe tbody tr th {\n",
       "        vertical-align: top;\n",
       "    }\n",
       "\n",
       "    .dataframe thead th {\n",
       "        text-align: right;\n",
       "    }\n",
       "</style>\n",
       "<table border=\"1\" class=\"dataframe\">\n",
       "  <thead>\n",
       "    <tr style=\"text-align: right;\">\n",
       "      <th></th>\n",
       "      <th>Citance Number</th>\n",
       "      <th>Reference Article</th>\n",
       "      <th>Citing Article</th>\n",
       "      <th>Citation Marker Offset</th>\n",
       "      <th>Citation Marker</th>\n",
       "      <th>Citation Offset</th>\n",
       "      <th>Citation Text</th>\n",
       "      <th>Citation Text Clean</th>\n",
       "      <th>Reference Offset</th>\n",
       "      <th>Reference Text</th>\n",
       "      <th>Discourse Facet</th>\n",
       "    </tr>\n",
       "  </thead>\n",
       "  <tbody>\n",
       "    <tr>\n",
       "      <th>0</th>\n",
       "      <td>1</td>\n",
       "      <td>P08-1028</td>\n",
       "      <td>D08-1094</td>\n",
       "      <td>0</td>\n",
       "      <td>2008.0</td>\n",
       "      <td>0</td>\n",
       "      <td>Mitchell and Lapata (2008) propose a framework...</td>\n",
       "      <td>Mitchell and Lapata (2008) propose a framework...</td>\n",
       "      <td>21.0</td>\n",
       "      <td>&lt;S sid=\"21\" ssid=\"17\"&gt;Central in these models ...</td>\n",
       "      <td>Method_Citation</td>\n",
       "    </tr>\n",
       "    <tr>\n",
       "      <th>1</th>\n",
       "      <td>2</td>\n",
       "      <td>P08-1028</td>\n",
       "      <td>D08-1094</td>\n",
       "      <td>0</td>\n",
       "      <td>2008.0</td>\n",
       "      <td>0</td>\n",
       "      <td>In both experiments, we compare the SVS model ...</td>\n",
       "      <td>In both experiments, we compare the SVS model ...</td>\n",
       "      <td>27.0</td>\n",
       "      <td>&lt;S sid=\"27\" ssid=\"23\"&gt;Our results show that th...</td>\n",
       "      <td>Result_Citation</td>\n",
       "    </tr>\n",
       "    <tr>\n",
       "      <th>2</th>\n",
       "      <td>4</td>\n",
       "      <td>P08-1028</td>\n",
       "      <td>P14-1060</td>\n",
       "      <td>0</td>\n",
       "      <td>2008.0</td>\n",
       "      <td>0</td>\n",
       "      <td>While works such asthe SDSM model suffer from ...</td>\n",
       "      <td>While works such as the SDSM model suffer from...</td>\n",
       "      <td>189.0</td>\n",
       "      <td>&lt;S sid=\"189\" ssid=\"1\"&gt;In this paper we present...</td>\n",
       "      <td>Aim_Citation</td>\n",
       "    </tr>\n",
       "    <tr>\n",
       "      <th>3</th>\n",
       "      <td>6</td>\n",
       "      <td>P08-1028</td>\n",
       "      <td>P10-1097</td>\n",
       "      <td>0</td>\n",
       "      <td>2008.0</td>\n",
       "      <td>0</td>\n",
       "      <td>Mitchell and Lapata (2008), henceforth M&amp; amp;...</td>\n",
       "      <td>Mitchell and Lapata (2008), henceforth M&amp; amp;...</td>\n",
       "      <td>53.0</td>\n",
       "      <td>&lt;S sid=\"53\" ssid=\"1\"&gt;We formulate semantic com...</td>\n",
       "      <td>Method_Citation</td>\n",
       "    </tr>\n",
       "    <tr>\n",
       "      <th>4</th>\n",
       "      <td>7</td>\n",
       "      <td>P08-1028</td>\n",
       "      <td>P10-1097</td>\n",
       "      <td>0</td>\n",
       "      <td>NaN</td>\n",
       "      <td>0</td>\n",
       "      <td>Interestingly, Mitchell and Lapata (2008) came...</td>\n",
       "      <td>Interestingly, Mitchell and Lapata (2008) came...</td>\n",
       "      <td>NaN</td>\n",
       "      <td>NaN</td>\n",
       "      <td>NaN</td>\n",
       "    </tr>\n",
       "    <tr>\n",
       "      <th>5</th>\n",
       "      <td>8</td>\n",
       "      <td>P08-1028</td>\n",
       "      <td>D11-1094</td>\n",
       "      <td>0</td>\n",
       "      <td>2008.0</td>\n",
       "      <td>0</td>\n",
       "      <td>And Mitchell and Lapata (2008) propose a model...</td>\n",
       "      <td>And Mitchell and Lapata (2008) propose a model...</td>\n",
       "      <td>76.0</td>\n",
       "      <td>&lt;S sid=\"76\" ssid=\"24\"&gt;The models considered so...</td>\n",
       "      <td>Method_Citation</td>\n",
       "    </tr>\n",
       "    <tr>\n",
       "      <th>6</th>\n",
       "      <td>9</td>\n",
       "      <td>P08-1028</td>\n",
       "      <td>W11-0131</td>\n",
       "      <td>0</td>\n",
       "      <td>2008.0</td>\n",
       "      <td>0</td>\n",
       "      <td>Mitchell and Lapata (2008) provide a general f...</td>\n",
       "      <td>Mitchell and Lapata (2008) provide a general f...</td>\n",
       "      <td>57.0</td>\n",
       "      <td>&lt;S sid=\"57\" ssid=\"5\"&gt;Let p denote the composit...</td>\n",
       "      <td>Method_Citation</td>\n",
       "    </tr>\n",
       "    <tr>\n",
       "      <th>7</th>\n",
       "      <td>10</td>\n",
       "      <td>P08-1028</td>\n",
       "      <td>W11-0131</td>\n",
       "      <td>0</td>\n",
       "      <td>NaN</td>\n",
       "      <td>0</td>\n",
       "      <td>As Mitchell and Lapata (2008) did, let us temp...</td>\n",
       "      <td>As Mitchell and Lapata (2008) did, let us temp...</td>\n",
       "      <td>NaN</td>\n",
       "      <td>NaN</td>\n",
       "      <td>NaN</td>\n",
       "    </tr>\n",
       "    <tr>\n",
       "      <th>8</th>\n",
       "      <td>11</td>\n",
       "      <td>P08-1028</td>\n",
       "      <td>P13-2083</td>\n",
       "      <td>0</td>\n",
       "      <td>2008.0</td>\n",
       "      <td>0</td>\n",
       "      <td>Mitchell and Lapata (2008) propose a framework...</td>\n",
       "      <td>Mitchell and Lapata (2008) propose a framework...</td>\n",
       "      <td>57.0</td>\n",
       "      <td>&lt;S sid=\"57\" ssid=\"5\"&gt;Let p denote the composit...</td>\n",
       "      <td>Method_Citation</td>\n",
       "    </tr>\n",
       "    <tr>\n",
       "      <th>9</th>\n",
       "      <td>12</td>\n",
       "      <td>P08-1028</td>\n",
       "      <td>P13-2083</td>\n",
       "      <td>0</td>\n",
       "      <td>2008.0</td>\n",
       "      <td>0</td>\n",
       "      <td>As our final set of baselines, we extend two s...</td>\n",
       "      <td>As our final set of baselines, we extend two s...</td>\n",
       "      <td>190.0</td>\n",
       "      <td>&lt;S sid=\"190\" ssid=\"2\"&gt;We formulated compositio...</td>\n",
       "      <td>Result_Citation</td>\n",
       "    </tr>\n",
       "    <tr>\n",
       "      <th>10</th>\n",
       "      <td>13</td>\n",
       "      <td>P08-1028</td>\n",
       "      <td>P10-1021</td>\n",
       "      <td>0</td>\n",
       "      <td>2008.0</td>\n",
       "      <td>0</td>\n",
       "      <td>Althoughthis model has been shown to successfu...</td>\n",
       "      <td>Although this model has been shown to successf...</td>\n",
       "      <td>60.0</td>\n",
       "      <td>&lt;S sid=\"60\" ssid=\"8\"&gt;To derive specific models...</td>\n",
       "      <td>Method_Citation</td>\n",
       "    </tr>\n",
       "    <tr>\n",
       "      <th>11</th>\n",
       "      <td>14</td>\n",
       "      <td>P08-1028</td>\n",
       "      <td>P10-1021</td>\n",
       "      <td>0</td>\n",
       "      <td>2008.0</td>\n",
       "      <td>0</td>\n",
       "      <td>Assuming that h is a linear function of the Ca...</td>\n",
       "      <td>Mitchell and Lapata (2008) show that several a...</td>\n",
       "      <td>190.0</td>\n",
       "      <td>&lt;S sid=\"190\" ssid=\"2\"&gt;We formulated compositio...</td>\n",
       "      <td>Result_Citation</td>\n",
       "    </tr>\n",
       "    <tr>\n",
       "      <th>12</th>\n",
       "      <td>15</td>\n",
       "      <td>P08-1028</td>\n",
       "      <td>W11-0115</td>\n",
       "      <td>0</td>\n",
       "      <td>2008.0</td>\n",
       "      <td>0</td>\n",
       "      <td>Mitchell and Lapata (2008) introduce a whole f...</td>\n",
       "      <td>Mitchell and Lapata (2008) introduce a whole f...</td>\n",
       "      <td>190.0</td>\n",
       "      <td>&lt;S sid=\"190\" ssid=\"2\"&gt;We formulated compositio...</td>\n",
       "      <td>Result_Citation</td>\n",
       "    </tr>\n",
       "    <tr>\n",
       "      <th>13</th>\n",
       "      <td>16</td>\n",
       "      <td>P08-1028</td>\n",
       "      <td>W11-0115</td>\n",
       "      <td>0</td>\n",
       "      <td>2008.0</td>\n",
       "      <td>0</td>\n",
       "      <td>The approach proposed by Guevara (2010) is rea...</td>\n",
       "      <td>The approach proposed by Guevara (2010) is rea...</td>\n",
       "      <td>73.0</td>\n",
       "      <td>&lt;S sid=\"73\" ssid=\"21\"&gt;Relaxing the assumption ...</td>\n",
       "      <td>Result_Citation</td>\n",
       "    </tr>\n",
       "    <tr>\n",
       "      <th>14</th>\n",
       "      <td>17</td>\n",
       "      <td>P08-1028</td>\n",
       "      <td>W11-0115</td>\n",
       "      <td>0</td>\n",
       "      <td>2008.0</td>\n",
       "      <td>0</td>\n",
       "      <td>For example, Mitchell and Lapata (2008) use th...</td>\n",
       "      <td>For example, Mitchell and Lapata (2008) use th...</td>\n",
       "      <td>99.0</td>\n",
       "      <td>&lt;S sid=\"99\" ssid=\"12\"&gt;In order to establish an...</td>\n",
       "      <td>Method_Citation</td>\n",
       "    </tr>\n",
       "    <tr>\n",
       "      <th>15</th>\n",
       "      <td>18</td>\n",
       "      <td>P08-1028</td>\n",
       "      <td>W11-1310</td>\n",
       "      <td>0</td>\n",
       "      <td>2008.0</td>\n",
       "      <td>0</td>\n",
       "      <td>We use other WSM settings following Mitchell a...</td>\n",
       "      <td>We use other WSM settings following Mitchell a...</td>\n",
       "      <td>189.0</td>\n",
       "      <td>&lt;S sid=\"189\" ssid=\"1\"&gt;In this paper we present...</td>\n",
       "      <td>Aim_Citation</td>\n",
       "    </tr>\n",
       "    <tr>\n",
       "      <th>16</th>\n",
       "      <td>19</td>\n",
       "      <td>P08-1028</td>\n",
       "      <td>W11-1310</td>\n",
       "      <td>0</td>\n",
       "      <td>2008.0</td>\n",
       "      <td>0</td>\n",
       "      <td>Mitchell and Lapata (2008) observed that a sim...</td>\n",
       "      <td>Mitchell and Lapata (2008) observed that a sim...</td>\n",
       "      <td>191.0</td>\n",
       "      <td>&lt;S sid=\"191\" ssid=\"3\"&gt;Despite the popularity o...</td>\n",
       "      <td>Result_Citation</td>\n",
       "    </tr>\n",
       "    <tr>\n",
       "      <th>17</th>\n",
       "      <td>20</td>\n",
       "      <td>P08-1028</td>\n",
       "      <td>W11-1310</td>\n",
       "      <td>0</td>\n",
       "      <td>2008.0</td>\n",
       "      <td>0</td>\n",
       "      <td>We use the compositionality functions, simple ...</td>\n",
       "      <td>We use the compositionality functions, simple ...</td>\n",
       "      <td>190.0</td>\n",
       "      <td>&lt;S sid=\"190\" ssid=\"2\"&gt;We formulated compositio...</td>\n",
       "      <td>Result_Citation</td>\n",
       "    </tr>\n",
       "  </tbody>\n",
       "</table>\n",
       "</div>"
      ],
      "text/plain": [
       "    Citance Number Reference Article Citing Article  Citation Marker Offset  \\\n",
       "0                1          P08-1028       D08-1094                       0   \n",
       "1                2          P08-1028       D08-1094                       0   \n",
       "2                4          P08-1028       P14-1060                       0   \n",
       "3                6          P08-1028       P10-1097                       0   \n",
       "4                7          P08-1028       P10-1097                       0   \n",
       "5                8          P08-1028       D11-1094                       0   \n",
       "6                9          P08-1028       W11-0131                       0   \n",
       "7               10          P08-1028       W11-0131                       0   \n",
       "8               11          P08-1028       P13-2083                       0   \n",
       "9               12          P08-1028       P13-2083                       0   \n",
       "10              13          P08-1028       P10-1021                       0   \n",
       "11              14          P08-1028       P10-1021                       0   \n",
       "12              15          P08-1028       W11-0115                       0   \n",
       "13              16          P08-1028       W11-0115                       0   \n",
       "14              17          P08-1028       W11-0115                       0   \n",
       "15              18          P08-1028       W11-1310                       0   \n",
       "16              19          P08-1028       W11-1310                       0   \n",
       "17              20          P08-1028       W11-1310                       0   \n",
       "\n",
       "    Citation Marker  Citation Offset  \\\n",
       "0            2008.0                0   \n",
       "1            2008.0                0   \n",
       "2            2008.0                0   \n",
       "3            2008.0                0   \n",
       "4               NaN                0   \n",
       "5            2008.0                0   \n",
       "6            2008.0                0   \n",
       "7               NaN                0   \n",
       "8            2008.0                0   \n",
       "9            2008.0                0   \n",
       "10           2008.0                0   \n",
       "11           2008.0                0   \n",
       "12           2008.0                0   \n",
       "13           2008.0                0   \n",
       "14           2008.0                0   \n",
       "15           2008.0                0   \n",
       "16           2008.0                0   \n",
       "17           2008.0                0   \n",
       "\n",
       "                                        Citation Text  \\\n",
       "0   Mitchell and Lapata (2008) propose a framework...   \n",
       "1   In both experiments, we compare the SVS model ...   \n",
       "2   While works such asthe SDSM model suffer from ...   \n",
       "3   Mitchell and Lapata (2008), henceforth M& amp;...   \n",
       "4   Interestingly, Mitchell and Lapata (2008) came...   \n",
       "5   And Mitchell and Lapata (2008) propose a model...   \n",
       "6   Mitchell and Lapata (2008) provide a general f...   \n",
       "7   As Mitchell and Lapata (2008) did, let us temp...   \n",
       "8   Mitchell and Lapata (2008) propose a framework...   \n",
       "9   As our final set of baselines, we extend two s...   \n",
       "10  Althoughthis model has been shown to successfu...   \n",
       "11  Assuming that h is a linear function of the Ca...   \n",
       "12  Mitchell and Lapata (2008) introduce a whole f...   \n",
       "13  The approach proposed by Guevara (2010) is rea...   \n",
       "14  For example, Mitchell and Lapata (2008) use th...   \n",
       "15  We use other WSM settings following Mitchell a...   \n",
       "16  Mitchell and Lapata (2008) observed that a sim...   \n",
       "17  We use the compositionality functions, simple ...   \n",
       "\n",
       "                                  Citation Text Clean  Reference Offset  \\\n",
       "0   Mitchell and Lapata (2008) propose a framework...              21.0   \n",
       "1   In both experiments, we compare the SVS model ...              27.0   \n",
       "2   While works such as the SDSM model suffer from...             189.0   \n",
       "3   Mitchell and Lapata (2008), henceforth M& amp;...              53.0   \n",
       "4   Interestingly, Mitchell and Lapata (2008) came...               NaN   \n",
       "5   And Mitchell and Lapata (2008) propose a model...              76.0   \n",
       "6   Mitchell and Lapata (2008) provide a general f...              57.0   \n",
       "7   As Mitchell and Lapata (2008) did, let us temp...               NaN   \n",
       "8   Mitchell and Lapata (2008) propose a framework...              57.0   \n",
       "9   As our final set of baselines, we extend two s...             190.0   \n",
       "10  Although this model has been shown to successf...              60.0   \n",
       "11  Mitchell and Lapata (2008) show that several a...             190.0   \n",
       "12  Mitchell and Lapata (2008) introduce a whole f...             190.0   \n",
       "13  The approach proposed by Guevara (2010) is rea...              73.0   \n",
       "14  For example, Mitchell and Lapata (2008) use th...              99.0   \n",
       "15  We use other WSM settings following Mitchell a...             189.0   \n",
       "16  Mitchell and Lapata (2008) observed that a sim...             191.0   \n",
       "17  We use the compositionality functions, simple ...             190.0   \n",
       "\n",
       "                                       Reference Text  Discourse Facet  \n",
       "0   <S sid=\"21\" ssid=\"17\">Central in these models ...  Method_Citation  \n",
       "1   <S sid=\"27\" ssid=\"23\">Our results show that th...  Result_Citation  \n",
       "2   <S sid=\"189\" ssid=\"1\">In this paper we present...     Aim_Citation  \n",
       "3   <S sid=\"53\" ssid=\"1\">We formulate semantic com...  Method_Citation  \n",
       "4                                                 NaN              NaN  \n",
       "5   <S sid=\"76\" ssid=\"24\">The models considered so...  Method_Citation  \n",
       "6   <S sid=\"57\" ssid=\"5\">Let p denote the composit...  Method_Citation  \n",
       "7                                                 NaN              NaN  \n",
       "8   <S sid=\"57\" ssid=\"5\">Let p denote the composit...  Method_Citation  \n",
       "9   <S sid=\"190\" ssid=\"2\">We formulated compositio...  Result_Citation  \n",
       "10  <S sid=\"60\" ssid=\"8\">To derive specific models...  Method_Citation  \n",
       "11  <S sid=\"190\" ssid=\"2\">We formulated compositio...  Result_Citation  \n",
       "12  <S sid=\"190\" ssid=\"2\">We formulated compositio...  Result_Citation  \n",
       "13  <S sid=\"73\" ssid=\"21\">Relaxing the assumption ...  Result_Citation  \n",
       "14  <S sid=\"99\" ssid=\"12\">In order to establish an...  Method_Citation  \n",
       "15  <S sid=\"189\" ssid=\"1\">In this paper we present...     Aim_Citation  \n",
       "16  <S sid=\"191\" ssid=\"3\">Despite the popularity o...  Result_Citation  \n",
       "17  <S sid=\"190\" ssid=\"2\">We formulated compositio...  Result_Citation  "
      ]
     },
     "execution_count": 11,
     "metadata": {},
     "output_type": "execute_result"
    }
   ],
   "source": [
    "dd"
   ]
  },
  {
   "cell_type": "code",
   "execution_count": 1,
   "metadata": {},
   "outputs": [],
   "source": [
    "import pandas as pd"
   ]
  },
  {
   "cell_type": "code",
   "execution_count": 2,
   "metadata": {},
   "outputs": [],
   "source": [
    "dd = pd.read_csv('/home/francesco.pugnaloni/GNNTE/test_data/performance/1_x_bins_y_MAE/wikitables/455252_52350_52530_labelled.csv')"
   ]
  },
  {
   "cell_type": "code",
   "execution_count": 3,
   "metadata": {},
   "outputs": [
    {
     "data": {
      "text/plain": [
       "(52350, 5)"
      ]
     },
     "execution_count": 3,
     "metadata": {},
     "output_type": "execute_result"
    }
   ],
   "source": [
    "dd.shape"
   ]
  },
  {
   "cell_type": "code",
   "execution_count": 4,
   "metadata": {},
   "outputs": [
    {
     "data": {
      "text/html": [
       "<div>\n",
       "<style scoped>\n",
       "    .dataframe tbody tr th:only-of-type {\n",
       "        vertical-align: middle;\n",
       "    }\n",
       "\n",
       "    .dataframe tbody tr th {\n",
       "        vertical-align: top;\n",
       "    }\n",
       "\n",
       "    .dataframe thead th {\n",
       "        text-align: right;\n",
       "    }\n",
       "</style>\n",
       "<table border=\"1\" class=\"dataframe\">\n",
       "  <thead>\n",
       "    <tr style=\"text-align: right;\">\n",
       "      <th></th>\n",
       "      <th>l_id</th>\n",
       "      <th>r_id</th>\n",
       "      <th>overlap_pred</th>\n",
       "      <th>overlap_true</th>\n",
       "      <th>AE</th>\n",
       "    </tr>\n",
       "  </thead>\n",
       "  <tbody>\n",
       "    <tr>\n",
       "      <th>0</th>\n",
       "      <td>100.90674</td>\n",
       "      <td>599.39969</td>\n",
       "      <td>0.250864</td>\n",
       "      <td>0.416667</td>\n",
       "      <td>0.165802</td>\n",
       "    </tr>\n",
       "    <tr>\n",
       "      <th>1</th>\n",
       "      <td>101.98420</td>\n",
       "      <td>349.84227</td>\n",
       "      <td>0.844124</td>\n",
       "      <td>0.690476</td>\n",
       "      <td>0.153648</td>\n",
       "    </tr>\n",
       "    <tr>\n",
       "      <th>2</th>\n",
       "      <td>103.11614</td>\n",
       "      <td>442.62098</td>\n",
       "      <td>0.922987</td>\n",
       "      <td>0.944444</td>\n",
       "      <td>0.021457</td>\n",
       "    </tr>\n",
       "    <tr>\n",
       "      <th>3</th>\n",
       "      <td>103.33148</td>\n",
       "      <td>175.53169</td>\n",
       "      <td>0.565044</td>\n",
       "      <td>0.333333</td>\n",
       "      <td>0.231710</td>\n",
       "    </tr>\n",
       "    <tr>\n",
       "      <th>4</th>\n",
       "      <td>103.33148</td>\n",
       "      <td>295.94386</td>\n",
       "      <td>0.511493</td>\n",
       "      <td>0.333333</td>\n",
       "      <td>0.178159</td>\n",
       "    </tr>\n",
       "    <tr>\n",
       "      <th>...</th>\n",
       "      <td>...</td>\n",
       "      <td>...</td>\n",
       "      <td>...</td>\n",
       "      <td>...</td>\n",
       "      <td>...</td>\n",
       "    </tr>\n",
       "    <tr>\n",
       "      <th>52345</th>\n",
       "      <td>654.24832</td>\n",
       "      <td>73.32223</td>\n",
       "      <td>0.480696</td>\n",
       "      <td>0.142857</td>\n",
       "      <td>0.337839</td>\n",
       "    </tr>\n",
       "    <tr>\n",
       "      <th>52346</th>\n",
       "      <td>654.24832</td>\n",
       "      <td>94.89675</td>\n",
       "      <td>0.000000</td>\n",
       "      <td>0.058824</td>\n",
       "      <td>0.058824</td>\n",
       "    </tr>\n",
       "    <tr>\n",
       "      <th>52347</th>\n",
       "      <td>654.24832</td>\n",
       "      <td>94.89675</td>\n",
       "      <td>0.000000</td>\n",
       "      <td>0.058824</td>\n",
       "      <td>0.058824</td>\n",
       "    </tr>\n",
       "    <tr>\n",
       "      <th>52348</th>\n",
       "      <td>654.62620</td>\n",
       "      <td>654.62660</td>\n",
       "      <td>0.743865</td>\n",
       "      <td>0.875000</td>\n",
       "      <td>0.131135</td>\n",
       "    </tr>\n",
       "    <tr>\n",
       "      <th>52349</th>\n",
       "      <td>654.62620</td>\n",
       "      <td>654.62660</td>\n",
       "      <td>0.743865</td>\n",
       "      <td>0.875000</td>\n",
       "      <td>0.131135</td>\n",
       "    </tr>\n",
       "  </tbody>\n",
       "</table>\n",
       "<p>52350 rows × 5 columns</p>\n",
       "</div>"
      ],
      "text/plain": [
       "            l_id       r_id  overlap_pred  overlap_true        AE\n",
       "0      100.90674  599.39969      0.250864      0.416667  0.165802\n",
       "1      101.98420  349.84227      0.844124      0.690476  0.153648\n",
       "2      103.11614  442.62098      0.922987      0.944444  0.021457\n",
       "3      103.33148  175.53169      0.565044      0.333333  0.231710\n",
       "4      103.33148  295.94386      0.511493      0.333333  0.178159\n",
       "...          ...        ...           ...           ...       ...\n",
       "52345  654.24832   73.32223      0.480696      0.142857  0.337839\n",
       "52346  654.24832   94.89675      0.000000      0.058824  0.058824\n",
       "52347  654.24832   94.89675      0.000000      0.058824  0.058824\n",
       "52348  654.62620  654.62660      0.743865      0.875000  0.131135\n",
       "52349  654.62620  654.62660      0.743865      0.875000  0.131135\n",
       "\n",
       "[52350 rows x 5 columns]"
      ]
     },
     "execution_count": 4,
     "metadata": {},
     "output_type": "execute_result"
    }
   ],
   "source": [
    "dd"
   ]
  },
  {
   "cell_type": "code",
   "execution_count": null,
   "metadata": {},
   "outputs": [],
   "source": []
  }
 ],
 "metadata": {
  "kernelspec": {
   "display_name": "GNNTE",
   "language": "python",
   "name": "python3"
  },
  "language_info": {
   "codemirror_mode": {
    "name": "ipython",
    "version": 3
   },
   "file_extension": ".py",
   "mimetype": "text/x-python",
   "name": "python",
   "nbconvert_exporter": "python",
   "pygments_lexer": "ipython3",
   "version": "3.11.3"
  }
 },
 "nbformat": 4,
 "nbformat_minor": 2
}
