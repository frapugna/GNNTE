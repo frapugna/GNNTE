{
 "cells": [
  {
   "cell_type": "code",
   "execution_count": 1,
   "metadata": {},
   "outputs": [],
   "source": [
    "import pandas as pd\n",
    "import pickle\n",
    "from tqdm import tqdm"
   ]
  },
  {
   "cell_type": "markdown",
   "metadata": {},
   "source": [
    "# Functions"
   ]
  },
  {
   "cell_type": "code",
   "execution_count": 2,
   "metadata": {},
   "outputs": [],
   "source": [
    "def get_table_set(df: pd.DataFrame) -> set:\n",
    "    out = []\n",
    "    for r in tqdm(range(df.shape[0])):\n",
    "        out.append(df.iloc[r]['r_id'])\n",
    "        out.append(df.iloc[r]['s_id'])\n",
    "    return set(out)"
   ]
  },
  {
   "cell_type": "code",
   "execution_count": 3,
   "metadata": {},
   "outputs": [],
   "source": [
    "def check_no_repetitions(s1: set, s2: set) -> bool:\n",
    "    for t in tqdm(s1):\n",
    "        if t in s2:\n",
    "            return True\n",
    "    return False"
   ]
  },
  {
   "cell_type": "code",
   "execution_count": 4,
   "metadata": {},
   "outputs": [],
   "source": [
    "def save_csv_tables_to_directory(s: set, td: dict, out_dir: str) -> None:\n",
    "    for k in tqdm(s):\n",
    "        td[str(k)].to_csv(out_dir+'/'+str(k)+'.csv', index=False)"
   ]
  },
  {
   "cell_type": "markdown",
   "metadata": {},
   "source": [
    "# Train Test Valid Tables Splittng in csv"
   ]
  },
  {
   "cell_type": "markdown",
   "metadata": {},
   "source": [
    "## Wikidata"
   ]
  },
  {
   "cell_type": "code",
   "execution_count": 15,
   "metadata": {},
   "outputs": [],
   "source": [
    "train = pd.read_csv('/home/francesco.pugnaloni/GNNTE/Datasets/2_WikiTables/1M_wikitables_disjointed/train_test_val_datasets/train.csv')\n",
    "test = pd.read_csv('/home/francesco.pugnaloni/GNNTE/Datasets/2_WikiTables/1M_wikitables_disjointed/train_test_val_datasets/test.csv')\n",
    "valid = pd.read_csv('/home/francesco.pugnaloni/GNNTE/Datasets/2_WikiTables/1M_wikitables_disjointed/train_test_val_datasets/valid.csv')"
   ]
  },
  {
   "cell_type": "code",
   "execution_count": 16,
   "metadata": {},
   "outputs": [
    {
     "name": "stderr",
     "output_type": "stream",
     "text": [
      "  0%|          | 0/455252 [00:00<?, ?it/s]"
     ]
    },
    {
     "name": "stderr",
     "output_type": "stream",
     "text": [
      "100%|██████████| 455252/455252 [00:15<00:00, 29131.78it/s]\n",
      "100%|██████████| 52350/52350 [00:01<00:00, 28134.78it/s]\n",
      "100%|██████████| 52530/52530 [00:01<00:00, 28122.62it/s]"
     ]
    },
    {
     "name": "stdout",
     "output_type": "stream",
     "text": [
      "Train: 177367   Test: 28621    Valid: 28664\n"
     ]
    },
    {
     "name": "stderr",
     "output_type": "stream",
     "text": [
      "\n"
     ]
    }
   ],
   "source": [
    "train_set_tables = get_table_set(train)\n",
    "test_set_tables = get_table_set(test)\n",
    "valid_set_tables = get_table_set(valid)\n",
    "\n",
    "print(f'Train: {len(train_set_tables)}   Test: {len(test_set_tables)}    Valid: {len(valid_set_tables)}')"
   ]
  },
  {
   "cell_type": "code",
   "execution_count": 17,
   "metadata": {},
   "outputs": [
    {
     "name": "stderr",
     "output_type": "stream",
     "text": [
      "100%|██████████| 177367/177367 [00:00<00:00, 3231083.46it/s]\n"
     ]
    },
    {
     "data": {
      "text/plain": [
       "False"
      ]
     },
     "execution_count": 17,
     "metadata": {},
     "output_type": "execute_result"
    }
   ],
   "source": [
    "check_no_repetitions(train_set_tables, test_set_tables)"
   ]
  },
  {
   "cell_type": "code",
   "execution_count": 18,
   "metadata": {},
   "outputs": [
    {
     "name": "stderr",
     "output_type": "stream",
     "text": [
      "100%|██████████| 177367/177367 [00:00<00:00, 3307286.56it/s]\n"
     ]
    },
    {
     "data": {
      "text/plain": [
       "False"
      ]
     },
     "execution_count": 18,
     "metadata": {},
     "output_type": "execute_result"
    }
   ],
   "source": [
    "check_no_repetitions(train_set_tables, valid_set_tables)"
   ]
  },
  {
   "cell_type": "code",
   "execution_count": 19,
   "metadata": {},
   "outputs": [
    {
     "name": "stderr",
     "output_type": "stream",
     "text": [
      "100%|██████████| 28621/28621 [00:00<00:00, 3498329.44it/s]\n"
     ]
    },
    {
     "data": {
      "text/plain": [
       "False"
      ]
     },
     "execution_count": 19,
     "metadata": {},
     "output_type": "execute_result"
    }
   ],
   "source": [
    "check_no_repetitions(test_set_tables, valid_set_tables)"
   ]
  },
  {
   "cell_type": "code",
   "execution_count": 10,
   "metadata": {},
   "outputs": [],
   "source": [
    "with open('/home/francesco.pugnaloni/GNNTE/Datasets/2_WikiTables/1M_wikitables_disjointed/table_dict_full.pkl','rb') as f:\n",
    "    td = pickle.load(f)"
   ]
  },
  {
   "cell_type": "code",
   "execution_count": 11,
   "metadata": {},
   "outputs": [
    {
     "name": "stderr",
     "output_type": "stream",
     "text": [
      "100%|██████████| 177367/177367 [00:52<00:00, 3407.26it/s]\n"
     ]
    }
   ],
   "source": [
    "save_csv_tables_to_directory(train_set_tables, td, '/home/francesco.pugnaloni/GNNTE/Datasets/2_WikiTables/1M_wikitables_disjointed/train_test_val_datasets/train_tables_csv')"
   ]
  },
  {
   "cell_type": "code",
   "execution_count": 12,
   "metadata": {},
   "outputs": [
    {
     "name": "stderr",
     "output_type": "stream",
     "text": [
      "100%|██████████| 28621/28621 [00:08<00:00, 3454.04it/s]\n"
     ]
    }
   ],
   "source": [
    "save_csv_tables_to_directory(test_set_tables, td, '/home/francesco.pugnaloni/GNNTE/Datasets/2_WikiTables/1M_wikitables_disjointed/train_test_val_datasets/test_tables_csv')"
   ]
  },
  {
   "cell_type": "code",
   "execution_count": 13,
   "metadata": {},
   "outputs": [
    {
     "name": "stderr",
     "output_type": "stream",
     "text": [
      "100%|██████████| 28664/28664 [00:08<00:00, 3460.29it/s]\n"
     ]
    }
   ],
   "source": [
    "save_csv_tables_to_directory(valid_set_tables, td, '/home/francesco.pugnaloni/GNNTE/Datasets/2_WikiTables/1M_wikitables_disjointed/train_test_val_datasets/valid_tables_csv')"
   ]
  },
  {
   "cell_type": "markdown",
   "metadata": {},
   "source": [
    "## Gittables"
   ]
  },
  {
   "cell_type": "code",
   "execution_count": 13,
   "metadata": {},
   "outputs": [],
   "source": [
    "train = pd.read_csv('/home/francesco.pugnaloni/GNNTE/Datasets/1_Gittables/balanced_datasets/unbalanced_datasets/train_unbalanced.csv')\n",
    "test = pd.read_csv('/home/francesco.pugnaloni/GNNTE/Datasets/1_Gittables/balanced_datasets/unbalanced_datasets/test_unbalanced.csv')\n",
    "valid = pd.read_csv('/home/francesco.pugnaloni/GNNTE/Datasets/1_Gittables/balanced_datasets/unbalanced_datasets/valid_unbalanced.csv')"
   ]
  },
  {
   "cell_type": "code",
   "execution_count": 5,
   "metadata": {},
   "outputs": [],
   "source": [
    "train = pd.read_csv('/home/francesco.pugnaloni/GNNTE/Datasets/1_Gittables/labelled/old_data/train_stats_cleaned.csv')\n",
    "test = pd.read_csv('/home/francesco.pugnaloni/GNNTE/Datasets/1_Gittables/labelled/old_data/test_stats_cleaned.csv')\n",
    "valid = pd.read_csv('/home/francesco.pugnaloni/GNNTE/Datasets/1_Gittables/labelled/old_data/valid_stats_cleaned.csv')"
   ]
  },
  {
   "cell_type": "code",
   "execution_count": 6,
   "metadata": {},
   "outputs": [
    {
     "name": "stderr",
     "output_type": "stream",
     "text": [
      "100%|██████████| 1000000/1000000 [01:03<00:00, 15807.09it/s]\n",
      "100%|██████████| 1000000/1000000 [01:02<00:00, 15930.41it/s]\n",
      "100%|██████████| 1000000/1000000 [01:03<00:00, 15832.61it/s]\n"
     ]
    },
    {
     "name": "stdout",
     "output_type": "stream",
     "text": [
      "Train: 631137   Test: 82757    Valid: 82758\n"
     ]
    }
   ],
   "source": [
    "train_set_tables = get_table_set(train)\n",
    "test_set_tables = get_table_set(test)\n",
    "valid_set_tables = get_table_set(valid)\n",
    "\n",
    "print(f'Train: {len(train_set_tables)}   Test: {len(test_set_tables)}    Valid: {len(valid_set_tables)}')"
   ]
  },
  {
   "cell_type": "code",
   "execution_count": 7,
   "metadata": {},
   "outputs": [
    {
     "name": "stderr",
     "output_type": "stream",
     "text": [
      "100%|██████████| 631137/631137 [00:00<00:00, 3606188.60it/s]\n"
     ]
    },
    {
     "data": {
      "text/plain": [
       "False"
      ]
     },
     "execution_count": 7,
     "metadata": {},
     "output_type": "execute_result"
    }
   ],
   "source": [
    "check_no_repetitions(train_set_tables, test_set_tables)"
   ]
  },
  {
   "cell_type": "code",
   "execution_count": 8,
   "metadata": {},
   "outputs": [
    {
     "name": "stderr",
     "output_type": "stream",
     "text": [
      "100%|██████████| 631137/631137 [00:00<00:00, 3534479.78it/s]\n"
     ]
    },
    {
     "data": {
      "text/plain": [
       "False"
      ]
     },
     "execution_count": 8,
     "metadata": {},
     "output_type": "execute_result"
    }
   ],
   "source": [
    "check_no_repetitions(train_set_tables, valid_set_tables)"
   ]
  },
  {
   "cell_type": "code",
   "execution_count": 9,
   "metadata": {},
   "outputs": [
    {
     "name": "stderr",
     "output_type": "stream",
     "text": [
      "100%|██████████| 82757/82757 [00:00<00:00, 2806841.19it/s]\n"
     ]
    },
    {
     "data": {
      "text/plain": [
       "False"
      ]
     },
     "execution_count": 9,
     "metadata": {},
     "output_type": "execute_result"
    }
   ],
   "source": [
    "check_no_repetitions(test_set_tables, valid_set_tables)"
   ]
  },
  {
   "cell_type": "code",
   "execution_count": 27,
   "metadata": {},
   "outputs": [],
   "source": [
    "with open('/home/francesco.pugnaloni/GNNTE/Datasets/1_Gittables/labelled/6_2_2/train_set.pkl', 'rb') as f:\n",
    "    train_set_tables = pickle.load(f)"
   ]
  },
  {
   "cell_type": "code",
   "execution_count": 28,
   "metadata": {},
   "outputs": [],
   "source": [
    "with open('/home/francesco.pugnaloni/GNNTE/Datasets/1_Gittables/labelled/6_2_2/test_set.pkl', 'rb') as f:\n",
    "    test_set_tables = pickle.load(f)"
   ]
  },
  {
   "cell_type": "code",
   "execution_count": 29,
   "metadata": {},
   "outputs": [],
   "source": [
    "with open('/home/francesco.pugnaloni/GNNTE/Datasets/1_Gittables/labelled/6_2_2/valid_set.pkl', 'rb') as f:\n",
    "    valid_set_tables = pickle.load(f)"
   ]
  },
  {
   "cell_type": "code",
   "execution_count": null,
   "metadata": {},
   "outputs": [],
   "source": []
  }
 ],
 "metadata": {
  "kernelspec": {
   "display_name": "GNNTE",
   "language": "python",
   "name": "python3"
  },
  "language_info": {
   "codemirror_mode": {
    "name": "ipython",
    "version": 3
   },
   "file_extension": ".py",
   "mimetype": "text/x-python",
   "name": "python",
   "nbconvert_exporter": "python",
   "pygments_lexer": "ipython3",
   "version": "3.11.3"
  }
 },
 "nbformat": 4,
 "nbformat_minor": 2
}
