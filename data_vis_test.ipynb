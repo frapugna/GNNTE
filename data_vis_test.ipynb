{
 "cells": [
  {
   "cell_type": "code",
   "execution_count": 1,
   "metadata": {},
   "outputs": [],
   "source": [
    "import pickle"
   ]
  },
  {
   "cell_type": "code",
   "execution_count": 2,
   "metadata": {},
   "outputs": [],
   "source": [
    "with open('/home/francesco.pugnaloni/GNNTE/run_data/gen_emb_seq/emb_speed_wiki_and_git.pkl', 'rb') as f:\n",
    "    data = pickle.load(f)"
   ]
  },
  {
   "cell_type": "code",
   "execution_count": 3,
   "metadata": {},
   "outputs": [
    {
     "data": {
      "text/plain": [
       "1341693"
      ]
     },
     "execution_count": 3,
     "metadata": {},
     "output_type": "execute_result"
    }
   ],
   "source": [
    "len(data)"
   ]
  },
  {
   "cell_type": "code",
   "execution_count": 4,
   "metadata": {},
   "outputs": [
    {
     "data": {
      "text/plain": [
       "dict"
      ]
     },
     "execution_count": 4,
     "metadata": {},
     "output_type": "execute_result"
    }
   ],
   "source": [
    "type(data)"
   ]
  },
  {
   "cell_type": "code",
   "execution_count": 5,
   "metadata": {},
   "outputs": [],
   "source": [
    "l = list(data.keys())"
   ]
  },
  {
   "cell_type": "code",
   "execution_count": 6,
   "metadata": {},
   "outputs": [
    {
     "data": {
      "text/plain": [
       "['object_csv_licensed.zip_StatisticalDebugging_coverage_sd_1230.csv',\n",
       " 'object_csv_licensed.zip_Designite_Potato.Database.Shared_ArchSmells_1.csv',\n",
       " 'object_csv_licensed.zip_Configuration1_window15_split10_typetest_projectsynapse1.1.csv',\n",
       " 'running_time_csv_licensed.zip_dwbfpricesukwin14042010.csv',\n",
       " 'question_time_csv_licensed.zip_OurDataset_full.csv',\n",
       " 'then_csv_licensed.zip_0328_5.csv',\n",
       " 'miles_per_hour_csv_licensed.zip_10-11_19.csv',\n",
       " 'then_csv_licensed.zip_P11-1060_37.csv',\n",
       " 'id_csv_licensed.zip_0022001059_5.csv',\n",
       " 'object_csv_licensed.zip_pickletester.csv',\n",
       " 'seek_time_csv_licensed.zip_PL2331LAGN5PZJ.csv',\n",
       " 'id_csv_licensed.zip_Caloscypha.csv',\n",
       " 'question_time_csv_licensed.zip_03-04_744.csv',\n",
       " 'question_time_csv_licensed.zip_09-10_1022.csv',\n",
       " 'id_csv_licensed.zip_halo_85008566777_particle_ID.csv',\n",
       " 'then_csv_licensed.zip_22-23_26.csv',\n",
       " 'then_csv_licensed.zip_PDS4_INSIGHT_1B00_1840_1.csv',\n",
       " 'whole_csv_licensed.zip_07-08_577.csv',\n",
       " 'seek_time_csv_licensed.zip_PL1331LAHDYWTH.csv',\n",
       " 'object_csv_licensed.zip_org.openoffice.comp.extensions.ObjectInspector_30.csv',\n",
       " 'real_time_csv_licensed.zip_0203_175948_InitializeSampleRD.csv',\n",
       " 'id_csv_licensed.zip_gr_1563.csv',\n",
       " 'running_time_csv_licensed.zip_phoenix_17.csv',\n",
       " 'question_time_csv_licensed.zip_09-10_427.csv',\n",
       " 'id_csv_licensed.zip_language_7799.csv',\n",
       " 'then_csv_licensed.zip_P08-1028_aakansha_216.csv',\n",
       " 'thing_csv_licensed.zip_0009_14.csv',\n",
       " 'id_csv_licensed.zip_0021600212_1_1.csv',\n",
       " 'real_time_csv_licensed.zip_Finance_IncomeStatement_1.csv',\n",
       " 'thing_csv_licensed.zip_0389_10.csv',\n",
       " 'question_time_csv_licensed.zip_16-17_135.csv',\n",
       " 'id_csv_licensed.zip_0021600708_8.csv',\n",
       " 'then_csv_licensed.zip_W99-0623.annv3_98.csv',\n",
       " 'living_thing_csv_licensed.zip_07-08_375.csv',\n",
       " 'id_csv_licensed.zip_field_level_data_David_Crowder_Brassica_napus_USA_2013_1.csv',\n",
       " 'object_csv_licensed.zip_day1_0038_00_5.csv',\n",
       " 'id_csv_licensed.zip_Mycenastrum_1.csv',\n",
       " 'id_csv_licensed.zip_input_nodes_n25_s049_cb6.csv',\n",
       " 'id_csv_licensed.zip_ir.model.access_56759.csv',\n",
       " 'id_csv_licensed.zip_halo_85011223857_particle_ID_1.csv',\n",
       " 'id_csv_licensed.zip_Pterophyton_2.csv',\n",
       " 'id_csv_licensed.zip_ono.csv',\n",
       " 'id_csv_licensed.zip_Matteria.csv',\n",
       " 'beauty_sleep_csv_licensed.zip_03-04_11.csv',\n",
       " 'id_csv_licensed.zip_es-CL_261.csv',\n",
       " 'processing_time_csv_licensed.zip_07-08_274.csv',\n",
       " 'id_csv_licensed.zip_Adelphella.csv',\n",
       " 'show_time_csv_licensed.zip_10-11_803.csv',\n",
       " 'then_csv_licensed.zip_07-08_168.csv',\n",
       " 'lead_time_csv_licensed.zip_01-02_172.csv',\n",
       " 'then_csv_licensed.zip_LSTM_multi_16bit.log.csv',\n",
       " 'count_per_minute_csv_licensed.zip_Op2_coverage_sd_63.csv',\n",
       " 'running_time_csv_licensed.zip_12400.csv',\n",
       " 'object_csv_licensed.zip_PREDICTION_Software Maintenance and Reengineering_12.csv',\n",
       " 'in_time_csv_licensed.zip_raw_data_1.csv',\n",
       " 'show_time_csv_licensed.zip_Sep-17,2019_02_50_57_PMSep-17,2019_04_34_09_PMcustomer_Balance.csv',\n",
       " 'id_csv_licensed.zip_results_300_16.csv',\n",
       " 'speed_of_light_csv_licensed.zip_test_309.csv',\n",
       " 'id_csv_licensed.zip_2014-12-22_1.csv',\n",
       " 'then_csv_licensed.zip_P08-1028_622.csv',\n",
       " 'then_csv_licensed.zip_07940.csv',\n",
       " 'real_time_csv_licensed.zip_05-06_1031.csv',\n",
       " 'lead_time_csv_licensed.zip_article_data_1.csv',\n",
       " 'parent_csv_licensed.zip_10-11_1273.csv',\n",
       " 'in_time_csv_licensed.zip_1-16581695-4.html.csv',\n",
       " 'seek_time_csv_licensed.zip_PL2331LAH46YLJ.csv',\n",
       " 'whole_csv_licensed.zip_05-06_954.csv',\n",
       " 'real_time_csv_licensed.zip_0642_13.csv',\n",
       " 'id_csv_licensed.zip_halo_85012968703_particle_ID.csv',\n",
       " 'seek_time_csv_licensed.zip_PL2331LAGUKWDJ.csv',\n",
       " 'whole_csv_licensed.zip_15-16_287.csv',\n",
       " 'id_csv_licensed.zip_Antenaglium.csv',\n",
       " 'then_csv_licensed.zip_P08-1102.annv3_26.csv',\n",
       " 'data_rate_csv_licensed.zip_messages_pl_51.csv',\n",
       " 'then_csv_licensed.zip_17-18_568.csv',\n",
       " 'rate_of_return_csv_licensed.zip_key-statistics_281.csv',\n",
       " 'id_csv_licensed.zip_Configuration1_window12_split6_typetest_projectpbeans2.0.csv',\n",
       " 'whole_csv_licensed.zip_12-13_75.csv',\n",
       " 'real_time_csv_licensed.zip_0223_131303_InitializeSampleCC.csv',\n",
       " 'safe_period_csv_licensed.zip_blueboxes_1.csv',\n",
       " 'processing_time_csv_licensed.zip_10-11_280.csv',\n",
       " 'reaction_time_csv_licensed.zip_lists_k12_oplen_lr.csv',\n",
       " 'running_time_csv_licensed.zip_00-01_174.csv',\n",
       " 'whole_csv_licensed.zip_mollycoffin_hotmail_com.csv',\n",
       " 'in_time_csv_licensed.zip_tyus2015.csv',\n",
       " 'thing_csv_licensed.zip_2014-06-07_1.csv',\n",
       " 'running_time_csv_licensed.zip_brenna_neves_enron_com.csv',\n",
       " 'object_csv_licensed.zip_prncache.dll.csv__2996315882__.csv',\n",
       " 'seek_time_csv_licensed.zip_WD-WCAU44860331.csv',\n",
       " 'thing_csv_licensed.zip_07-08_2030.csv',\n",
       " 'then_csv_licensed.zip_06-07_107.csv',\n",
       " 'then_csv_licensed.zip_J01-2004_11.csv',\n",
       " 'id_csv_licensed.zip_Meteoridium_1.csv',\n",
       " 'object_csv_licensed.zip_interaction_log_T072_8.csv',\n",
       " 'growth_rate_csv_licensed.zip_pokemon_1595.csv',\n",
       " 'show_time_csv_licensed.zip_W99-0623_vardha_158.csv',\n",
       " 'running_time_csv_licensed.zip_09-10_193.csv',\n",
       " 'lead_time_csv_licensed.zip_15-16_100.csv',\n",
       " 'parent_csv_licensed.zip_06-07_12.csv',\n",
       " 'real_time_csv_licensed.zip_ALL_COURSES_STATS_IMMEDIATE_NU_SVR.csv',\n",
       " 'whole_csv_licensed.zip_06-07_358.csv',\n",
       " 'id_csv_licensed.zip_results-48.8770956709431-2.34801369863014-52.5.csv',\n",
       " 'id_csv_licensed.zip_tasks_1068.csv',\n",
       " 'real_time_csv_licensed.zip_VGG19-BN_24.csv',\n",
       " 'real_time_csv_licensed.zip_pop_31.csv',\n",
       " 'id_csv_licensed.zip_0021600637.csv',\n",
       " 'then_csv_licensed.zip_J01-2004_514.csv',\n",
       " 'object_csv_licensed.zip_StatisticalDebugging_coverage_sd_1580.csv',\n",
       " 'growth_rate_csv_licensed.zip_2020-01-02_2.csv',\n",
       " 'id_csv_licensed.zip_0021900730_2_1.csv',\n",
       " 'real_time_csv_licensed.zip_0201_001648_InitializeSampleRD.csv',\n",
       " 'object_csv_licensed.zip_Opc.Ua.StatusCodes_11.csv',\n",
       " 'then_csv_licensed.zip_01-02_259.csv',\n",
       " 'whole_csv_licensed.zip_08-09_679.csv',\n",
       " 'id_csv_licensed.zip_ir.model.access_9974.csv',\n",
       " 'abstraction_csv_licensed.zip_05-06_8.csv',\n",
       " 'dead_air_csv_licensed.zip_AkaMaster.csv',\n",
       " 'command_processing_overhead_time_csv_licensed.zip_外研社高中英语 必修5.csv',\n",
       " 'then_csv_licensed.zip_22-23_523.csv',\n",
       " 'object_csv_licensed.zip_provider_glossary_1.csv',\n",
       " 'data_rate_csv_licensed.zip_EDSD.d08a_12.csv',\n",
       " 'seek_time_csv_licensed.zip_PL1331LAHD5HKH.csv',\n",
       " 'running_time_csv_licensed.zip_13-14_282.csv',\n",
       " 'real_time_csv_licensed.zip_08-09_738.csv',\n",
       " 'whole_csv_licensed.zip_00-01_151.csv',\n",
       " 'half_life_csv_licensed.zip_22-23_53.csv',\n",
       " 'id_csv_licensed.zip_0021900350_7.csv',\n",
       " 'living_thing_csv_licensed.zip_ComingOfAge.07.12.2020_1.csv',\n",
       " 'then_csv_licensed.zip_WMT.csv',\n",
       " 'id_csv_licensed.zip_Ialsa2015portlandcatalog_DataDictionary.csv',\n",
       " 'then_csv_licensed.zip_meta_helpEN_59.csv',\n",
       " 'object_csv_licensed.zip_MSTTSLoc_OneCore.dll.csv__203735011__.csv',\n",
       " 'thing_csv_licensed.zip_13-14_444.csv',\n",
       " 'half_life_csv_licensed.zip_Pareidolia.csv',\n",
       " 'channel_capacity_csv_licensed.zip_fse2016.csv',\n",
       " 'object_csv_licensed.zip_CalibrationPipeline.csv',\n",
       " 'parent_csv_licensed.zip_13-14_867.csv',\n",
       " 'id_csv_licensed.zip_results-48.8544154441408-2.39116438356164-52.5.csv',\n",
       " 'real_time_csv_licensed.zip_BVLC_CaffeNet_222.csv',\n",
       " 'id_csv_licensed.zip_halo_85008199784_particle_ID.csv',\n",
       " 'show_time_csv_licensed.zip_47ceca34-5c35-4a70-9dd3-a7f3d14c13ef_text.csv',\n",
       " 'real_time_csv_licensed.zip_06-07_73.csv',\n",
       " 'rate_of_return_csv_licensed.zip_00-01_154.csv',\n",
       " 'then_csv_licensed.zip_UnknownCalendarProperties_5.csv',\n",
       " 'id_csv_licensed.zip_halo_85004243875_particle_ID.csv',\n",
       " 'seek_time_csv_licensed.zip_PL2331LAH9HELJ.csv',\n",
       " 'in_time_csv_licensed.zip_0130_163608_InitializeSampleGD_1.csv',\n",
       " 'then_csv_licensed.zip_tokens_957.csv',\n",
       " 'living_thing_csv_licensed.zip_20-21_167.csv',\n",
       " 'id_csv_licensed.zip_0021701071_8.csv',\n",
       " 'split_shift_csv_licensed.zip_12-13_36.csv',\n",
       " 'dead_air_csv_licensed.zip_01-02_36.csv',\n",
       " 'half_life_csv_licensed.zip_05-06_276.csv',\n",
       " 'half_life_csv_licensed.zip_20-21_271.csv',\n",
       " 'then_csv_licensed.zip_10-11_367.csv',\n",
       " 'id_csv_licensed.zip_0021801192_1_1.csv',\n",
       " 'thing_csv_licensed.zip_FOXNEWS.201110_2.csv',\n",
       " 'then_csv_licensed.zip_19-20_276.csv',\n",
       " 'rate_of_return_csv_licensed.zip_01-02_34.csv',\n",
       " 'question_time_csv_licensed.zip_17-18_80.csv',\n",
       " 'real_time_csv_licensed.zip_16709.csv',\n",
       " 'lead_time_csv_licensed.zip_04-05_94.csv',\n",
       " 'lead_time_csv_licensed.zip_books_79.csv',\n",
       " 'then_csv_licensed.zip_06-07_191.csv',\n",
       " 'running_time_csv_licensed.zip_19-20_180.csv',\n",
       " 'in_time_csv_licensed.zip_08-09_58.csv',\n",
       " 'lead_time_csv_licensed.zip_21-22_131.csv',\n",
       " 'quick_time_csv_licensed.zip_03-04_156.csv',\n",
       " 'growth_rate_csv_licensed.zip_WordList.csv',\n",
       " 'time_interval_csv_licensed.zip_applause-button--20000501000500-20190714110791.csv',\n",
       " 'id_csv_licensed.zip_acdiscountsetup_2.csv',\n",
       " 'show_time_csv_licensed.zip_08-09_1099.csv',\n",
       " 'parent_csv_licensed.zip_06-07_2288.csv',\n",
       " 'half_life_csv_licensed.zip_02-03_245.csv',\n",
       " 'half_life_csv_licensed.zip_06-07_667.csv',\n",
       " 'speed_of_light_csv_licensed.zip_funcs_by_name_105.csv',\n",
       " 'id_csv_licensed.zip_0021900470_11.csv',\n",
       " 'half_life_csv_licensed.zip_15-16_24.csv',\n",
       " 'show_time_csv_licensed.zip_funcs_by_name_372.csv',\n",
       " 'parent_csv_licensed.zip_es-CL_231.csv',\n",
       " 'id_csv_licensed.zip_halo_85004872862_particle_ID.csv',\n",
       " 'in_time_csv_licensed.zip_0212_004622_InitializeSampleHD.csv',\n",
       " 'data_rate_csv_licensed.zip_W11-2123_aakansha_58.csv',\n",
       " 'beauty_sleep_csv_licensed.zip_14-15_5.csv',\n",
       " 'id_csv_licensed.zip_0021901252_4.csv',\n",
       " 'id_csv_licensed.zip_enthalpy_of_vaporization_pure_97.csv',\n",
       " 'reaction_time_csv_licensed.zip_10-11_63.csv',\n",
       " 'object_csv_licensed.zip_PREDICTION_Software Maintenance and Reengineering_10.csv',\n",
       " 'physical_entity_csv_licensed.zip_metadata-info_13.csv',\n",
       " 'quick_time_csv_licensed.zip_09-10_363.csv',\n",
       " 'lead_time_csv_licensed.zip_10-11_410.csv',\n",
       " 'real_time_csv_licensed.zip_Zfnet512_171.csv',\n",
       " 'data_rate_csv_licensed.zip_NAICS_data_7535_21.csv',\n",
       " 'whole_csv_licensed.zip_23-24_761.csv',\n",
       " 'thing_csv_licensed.zip_07-08_789.csv',\n",
       " 'real_time_csv_licensed.zip_0201_122652_InitializeSampleHD.csv',\n",
       " 'thing_csv_licensed.zip_dictEpisode-19-The-Senjuso-Test.csv',\n",
       " 'lead_time_csv_licensed.zip_1979-10-13_1.csv',\n",
       " 'then_csv_licensed.zip_11-12_1120.csv',\n",
       " 'seek_time_csv_licensed.zip_PL2331LAGM6L3J.csv',\n",
       " 'whole_csv_licensed.zip_11-12_463.csv',\n",
       " 'real_time_csv_licensed.zip_0225_153903_InitializeSampleCC.csv',\n",
       " 'thing_csv_licensed.zip_09-10_53.csv',\n",
       " 'id_csv_licensed.zip_ir.model.access_67503.csv',\n",
       " 'show_time_csv_licensed.zip_04-05_336.csv',\n",
       " 'living_thing_csv_licensed.zip_00-01_467.csv',\n",
       " 'whole_csv_licensed.zip_table_162.csv',\n",
       " 'parent_csv_licensed.zip_02-03_568.csv',\n",
       " 'processing_time_csv_licensed.zip_agglomerative ward 1990-2007 8 - term_cluster.csv',\n",
       " 'object_csv_licensed.zip_devenum.dll.csv__2988127513__.csv',\n",
       " 'show_time_csv_licensed.zip_20-21_407.csv',\n",
       " 'stopping_point_csv_licensed.zip_00-01_69.csv',\n",
       " 'id_csv_licensed.zip_ir.model.access_47208.csv',\n",
       " 'in_time_csv_licensed.zip_es-CL_49.csv',\n",
       " 'real_time_csv_licensed.zip_Shufflenet_29.csv',\n",
       " 'id_csv_licensed.zip_halo_85005504586_particle_ID.csv',\n",
       " 'thing_csv_licensed.zip_16-17_333.csv',\n",
       " 'growth_rate_csv_licensed.zip_23-24_106.csv',\n",
       " 'id_csv_licensed.zip_halo_85004243753_particle_ID.csv',\n",
       " 'show_time_csv_licensed.zip_03-04_541.csv',\n",
       " 'id_csv_licensed.zip_0021900471_7.csv',\n",
       " 'thing_csv_licensed.zip_03-04_1644.csv',\n",
       " 'show_time_csv_licensed.zip_05-06_1036.csv',\n",
       " 'object_csv_licensed.zip_OriginalStatisticalDebugging_coverage_sd_643.csv',\n",
       " 'shiva_csv_licensed.zip_025_6.csv',\n",
       " 'show_time_csv_licensed.zip_FAQENweighted_1.csv',\n",
       " 'id_csv_licensed.zip_AAAA_to_AABE_9.csv',\n",
       " 'id_csv_licensed.zip_Kabatana.csv',\n",
       " 'running_time_csv_licensed.zip_00-01_359.csv',\n",
       " 'data_rate_csv_licensed.zip_tpsection5all_xls_50306 Ann$_14.csv',\n",
       " 'id_csv_licensed.zip_foods_204.csv',\n",
       " 'rate_of_return_csv_licensed.zip_23-24_67.csv',\n",
       " 'real_time_csv_licensed.zip_23-24_156.csv',\n",
       " 'parent_csv_licensed.zip_02-03_386.csv',\n",
       " 'id_csv_licensed.zip_0021701004_3.csv',\n",
       " 'parent_csv_licensed.zip_tpsection4all_xls_40300A Ann$.csv',\n",
       " 'living_thing_csv_licensed.zip_0076_10.csv',\n",
       " 'growth_rate_csv_licensed.zip_words_35.csv',\n",
       " 'id_csv_licensed.zip_0021600715_6.csv',\n",
       " 'question_time_csv_licensed.zip_22-23_21.csv',\n",
       " 'id_csv_licensed.zip_free_energy_predictions_3.csv',\n",
       " 'then_csv_licensed.zip_Petit.csv',\n",
       " 'show_time_csv_licensed.zip_09-10_368.csv',\n",
       " 'id_csv_licensed.zip_Metalonicera.csv',\n",
       " 'id_csv_licensed.zip_Gamblea.csv',\n",
       " 'in_time_csv_licensed.zip_flights1B_wavelets_1.csv',\n",
       " 'running_time_csv_licensed.zip_Mage_Install_15.csv',\n",
       " 'thing_csv_licensed.zip_parameters_7.csv',\n",
       " 'running_time_csv_licensed.zip_log_22.csv',\n",
       " 'id_csv_licensed.zip_0021900070_8.csv',\n",
       " 'id_csv_licensed.zip_halo_85010107464_particle_ID.csv',\n",
       " 'then_csv_licensed.zip_10000.csv',\n",
       " 'then_csv_licensed.zip_06-07_1043.csv',\n",
       " 'reaction_time_csv_licensed.zip_03-04_126.csv',\n",
       " 'id_csv_licensed.zip_0021900409.csv',\n",
       " 'real_time_csv_licensed.zip_19-20_311.csv',\n",
       " 'id_csv_licensed.zip_Richterago_3.csv',\n",
       " 'object_csv_licensed.zip_Southeast of Prontera_3.csv',\n",
       " 'id_csv_licensed.zip_0022000480_3.csv',\n",
       " 'real_time_csv_licensed.zip_07-08_180.csv',\n",
       " 'real_time_csv_licensed.zip_1076_21.csv',\n",
       " 'then_csv_licensed.zip_04-05_1220.csv',\n",
       " 'object_csv_licensed.zip_grid_objects_layout_T003_13.csv',\n",
       " 'show_time_csv_licensed.zip_2017-02-11_1.csv',\n",
       " 'id_csv_licensed.zip_results_10000.csv',\n",
       " 'id_csv_licensed.zip_0021900274_1.csv',\n",
       " 'id_csv_licensed.zip_15-51-38.csv',\n",
       " 'question_time_csv_licensed.zip_06-07_750.csv',\n",
       " 'parent_csv_licensed.zip_18-19_215.csv',\n",
       " 'object_csv_licensed.zip_00011-226.csv',\n",
       " 'lead_time_csv_licensed.zip_05-06_548.csv',\n",
       " 'data_rate_csv_licensed.zip_New_York_District_08.csv',\n",
       " 'id_csv_licensed.zip_requested_services_102.csv',\n",
       " 'id_csv_licensed.zip_ir.model.access_20350.csv',\n",
       " 'object_csv_licensed.zip_USBSTOR.SYS.csv__381347036__.csv',\n",
       " 'half_life_csv_licensed.zip_2020-GOTY-Polygon.csv',\n",
       " 'real_time_csv_licensed.zip_2018-11-27-events_478.csv',\n",
       " 'object_csv_licensed.zip_unclassified-OECD_NoGlossary.csv',\n",
       " 'id_csv_licensed.zip_recipe_136.csv',\n",
       " 'id_csv_licensed.zip_0021701066_3.csv',\n",
       " 'object_csv_licensed.zip_DeepDifference.csv',\n",
       " 'thing_csv_licensed.zip_09-10_1934.csv',\n",
       " 'parent_csv_licensed.zip_02-03_395.csv',\n",
       " 'time_interval_csv_licensed.zip_21-22_7.csv',\n",
       " 'whole_csv_licensed.zip_fearless1333.csv',\n",
       " 'rate_of_return_csv_licensed.zip_12-13_87.csv',\n",
       " 'id_csv_licensed.zip_790_reward1_cond6520_run1.csv',\n",
       " 'half_life_csv_licensed.zip_02-03_457.csv',\n",
       " 'in_time_csv_licensed.zip_15455.csv',\n",
       " 'quick_time_csv_licensed.zip_01-02_99.csv',\n",
       " 'living_thing_csv_licensed.zip_04-05_576.csv',\n",
       " 'lead_time_csv_licensed.zip_09-10_167.csv',\n",
       " 'living_thing_csv_licensed.zip_11838.csv',\n",
       " 'question_time_csv_licensed.zip_04-05_835.csv',\n",
       " 'in_time_csv_licensed.zip_2000greetings_lists_postmastergeneral_com.csv',\n",
       " 'id_csv_licensed.zip_Agnirictus_1.csv',\n",
       " 'data_rate_csv_licensed.zip_02-03_56.csv',\n",
       " 'data_rate_csv_licensed.zip_04-05_63.csv',\n",
       " 'parent_csv_licensed.zip_10-11_778.csv',\n",
       " 'question_time_csv_licensed.zip_ecalyte.csv',\n",
       " 'show_time_csv_licensed.zip_04-05_757.csv',\n",
       " 'id_csv_licensed.zip_gameId=0022000281.csv',\n",
       " 'question_time_csv_licensed.zip_03-04_1129.csv',\n",
       " 'object_csv_licensed.zip_13-14_122.csv',\n",
       " 'id_csv_licensed.zip_0021600031_4.csv',\n",
       " 'id_csv_licensed.zip_halo_85004465334_particle_ID.csv',\n",
       " 'parent_csv_licensed.zip_13-14_975.csv',\n",
       " 'thing_csv_licensed.zip_14-15_428.csv',\n",
       " 'object_csv_licensed.zip_OriginalStatisticalDebugging_coverage_sd_1264.csv',\n",
       " 'id_csv_licensed.zip_0021700734_4.csv',\n",
       " 'then_csv_licensed.zip_0947_8.csv',\n",
       " 'real_time_csv_licensed.zip_04-05_107.csv',\n",
       " 'id_csv_licensed.zip_Stenodictyon_3.csv',\n",
       " 'real_time_csv_licensed.zip_annotation_lose the thread.csv',\n",
       " 'id_csv_licensed.zip_label_geography_id_1.csv',\n",
       " 'object_csv_licensed.zip_unique_classeslocv.nt.gz.hdt.csv',\n",
       " 'id_csv_licensed.zip_0021600523_1.csv',\n",
       " 'dead_air_csv_licensed.zip_2020-09-01_top1000terms_1.csv',\n",
       " 'show_time_csv_licensed.zip_07-08_32.csv',\n",
       " 'seek_time_csv_licensed.zip_PL2331LAGUM0EJ.csv',\n",
       " 'question_time_csv_licensed.zip_08-09_865.csv',\n",
       " 'lead_time_csv_licensed.zip_14-15_203.csv',\n",
       " 'quick_time_csv_licensed.zip_461charlesl.csv',\n",
       " 'id_csv_licensed.zip_raw_6_2016mail_2.csv',\n",
       " 'then_csv_licensed.zip_text_659.csv',\n",
       " 'living_thing_csv_licensed.zip_06-07_177.csv',\n",
       " 'real_time_csv_licensed.zip_Allen-Newell_1.csv',\n",
       " 'metabolic_rate_csv_licensed.zip_03-04.csv',\n",
       " 'quick_time_csv_licensed.zip_17-18_27.csv',\n",
       " 'lead_time_csv_licensed.zip_05-06_599.csv',\n",
       " 'then_csv_licensed.zip_Gibarch 3 sides - resources_35.csv',\n",
       " 'id_csv_licensed.zip_ir.model.access_42230.csv',\n",
       " 'sampling_rate_csv_licensed.zip_SimpleFreeFieldHRIR_18.csv',\n",
       " 'then_csv_licensed.zip_09-10_683.csv',\n",
       " 'object_csv_licensed.zip_13-14_233.csv',\n",
       " 'object_csv_licensed.zip_Tarantula_coverage_sd_2209.csv',\n",
       " 'living_thing_csv_licensed.zip_05-06_281.csv',\n",
       " 'real_time_csv_licensed.zip_03-04_310.csv',\n",
       " 'parent_csv_licensed.zip_P08-1043_21.csv',\n",
       " 'thing_csv_licensed.zip_11-12_290.csv',\n",
       " 'id_csv_licensed.zip_gr_1621.csv',\n",
       " 'thing_csv_licensed.zip_05-06_921.csv',\n",
       " 'then_csv_licensed.zip_06-07_1142.csv',\n",
       " 'running_time_csv_licensed.zip_20-21_296.csv',\n",
       " 'object_csv_licensed.zip_mutants_info_250.csv',\n",
       " 'parent_csv_licensed.zip_2018-04-24.csv',\n",
       " 'real_time_csv_licensed.zip_BVLC_RCNN_ILSVRC13_163.csv',\n",
       " 'parent_csv_licensed.zip_00-01_579.csv',\n",
       " 'then_csv_licensed.zip_08-09_1475.csv',\n",
       " 'parent_csv_licensed.zip_Configuration3_window6_split10_typetest_projectpoi1.5.csv',\n",
       " 'id_csv_licensed.zip_timesheet_permission_1.csv',\n",
       " 'rainy_day_csv_licensed.zip_Restaurang_Antica_Vineria_Italiana-ID-d3699514.csv',\n",
       " 'safe_period_csv_licensed.zip_10-11_124.csv',\n",
       " 'id_csv_licensed.zip_liquidacion-2-moto-data.csv',\n",
       " 'rate_of_return_csv_licensed.zip_03-04_170.csv',\n",
       " 'thing_csv_licensed.zip_07-08_1607.csv',\n",
       " 'thing_csv_licensed.zip_20-21_795.csv',\n",
       " 'quick_time_csv_licensed.zip_anew_21.csv',\n",
       " 'id_csv_licensed.zip_1519141640_allp_1.csv',\n",
       " 'id_csv_licensed.zip_hipc_gene_29868000_2.csv',\n",
       " 'id_csv_licensed.zip_0022000447_3.csv',\n",
       " 'thing_csv_licensed.zip_06-07_69.csv',\n",
       " 'processing_time_csv_licensed.zip_10-11_314.csv',\n",
       " 'thing_csv_licensed.zip_08-09_746.csv',\n",
       " 'half_life_csv_licensed.zip_00-01_263.csv',\n",
       " 'id_csv_licensed.zip_20160303SASNOP_1.csv',\n",
       " 'channel_capacity_csv_licensed.zip_04-05_23.csv',\n",
       " 'id_csv_licensed.zip_tbl_warehouse_emp_2.csv',\n",
       " 'id_csv_licensed.zip_imdb_scale_6_5_model_based_27.csv',\n",
       " 'parent_csv_licensed.zip_05-06_309.csv',\n",
       " 'living_thing_csv_licensed.zip_13-14_7.csv',\n",
       " 'question_time_csv_licensed.zip_20201209.csv',\n",
       " 'parent_csv_licensed.zip_05-06_869.csv',\n",
       " 'reaction_time_csv_licensed.zip_10-11_233.csv',\n",
       " 'id_csv_licensed.zip_0022000449_5.csv',\n",
       " 'id_csv_licensed.zip_Helwingiaceae.csv',\n",
       " 'real_time_csv_licensed.zip_1994-02-05.csv',\n",
       " 'processing_time_csv_licensed.zip_07-08_398.csv',\n",
       " 'id_csv_licensed.zip_excess_molar_volume_binary_28.csv',\n",
       " 'object_csv_licensed.zip_wmiutils.dll.csv__412634839__.csv',\n",
       " 'thing_csv_licensed.zip_99b6a41c-8363-4839-948b-6aa5b7f63e13_text.csv',\n",
       " 'half_life_csv_licensed.zip_06-07_439.csv',\n",
       " 'id_csv_licensed.zip_30799061.csv',\n",
       " 'object_csv_licensed.zip_interaction_log_T040_13.csv',\n",
       " 'then_csv_licensed.zip_dictEpisode-400-As-a-Taijutsu-User.csv',\n",
       " 'show_time_csv_licensed.zip_05-06_596.csv',\n",
       " 'time_interval_csv_licensed.zip_Ochiai_coverage_sd_73.csv',\n",
       " 'seek_time_csv_licensed.zip_19-20_32.csv',\n",
       " 'thing_csv_licensed.zip_15-16_844.csv',\n",
       " 'living_thing_csv_licensed.zip_11-12_553.csv',\n",
       " 'seek_time_csv_licensed.zip_PL1331LAHDYS2H.csv',\n",
       " 'id_csv_licensed.zip_input_nodes_n25_s143_cb2.csv',\n",
       " 'id_csv_licensed.zip_halo_85007925666_particle_ID.csv',\n",
       " 'rate_of_return_csv_licensed.zip_452cd81d-be1e-486c-bd57-ef864bf270a1_text.csv',\n",
       " 'lead_time_csv_licensed.zip_04-05_245.csv',\n",
       " 'id_csv_licensed.zip_0021800046_3.csv',\n",
       " 'object_csv_licensed.zip_02-03_45.csv',\n",
       " 'running_time_csv_licensed.zip_meshID_phenotypes_.csv',\n",
       " 'safe_period_csv_licensed.zip_funcs_by_address_136.csv',\n",
       " 'abstraction_csv_licensed.zip_02-03_17.csv',\n",
       " 'half_life_csv_licensed.zip_06-07_420.csv',\n",
       " 'then_csv_licensed.zip_11-12_125.csv',\n",
       " 'then_csv_licensed.zip_18-19_232.csv',\n",
       " 'then_csv_licensed.zip_04-05_1508.csv',\n",
       " 'split_shift_csv_licensed.zip_07-08_19.csv',\n",
       " 'real_time_csv_licensed.zip_08-09_266.csv',\n",
       " 'object_csv_licensed.zip_alexb37.csv',\n",
       " 'then_csv_licensed.zip_00-01_592.csv',\n",
       " 'id_csv_licensed.zip_0021801209_1.csv',\n",
       " 'question_time_csv_licensed.zip_02-03_610.csv',\n",
       " 'living_thing_csv_licensed.zip_0050_5.csv',\n",
       " 'in_time_csv_licensed.zip_0201_051125_InitializeSampleRD.csv',\n",
       " 'then_csv_licensed.zip_W99-0613_65.csv',\n",
       " 'thing_csv_licensed.zip_a7356009-232f-4ad3-8657-fe2ab0978cbb_text.csv',\n",
       " 'seek_time_csv_licensed.zip_PL2331LAGST93J.csv',\n",
       " 'id_csv_licensed.zip_nhanes-codebook.csv',\n",
       " 'escape_velocity_csv_licensed.zip_Configuration1_window16_split6_typetypetest_projectvelocity1.6.csv',\n",
       " 'show_time_csv_licensed.zip_15-16_45.csv',\n",
       " 'seek_time_csv_licensed.zip_WD-WX11D2404658.csv',\n",
       " 'abstraction_csv_licensed.zip_Designite_UnitTests_DesignSmells_9.csv',\n",
       " 'speed_of_light_csv_licensed.zip_05-06_93.csv',\n",
       " 'object_csv_licensed.zip_NgcLocalAccountMigPlugin.dll.csv__3985497964__.csv',\n",
       " 'show_time_csv_licensed.zip_87740716-4b3e-45f0-96cf-06d8a3f39c94_text.csv',\n",
       " 'id_csv_licensed.zip_203957.csv',\n",
       " 'data_rate_csv_licensed.zip_01-02_334.csv',\n",
       " 'id_csv_licensed.zip_0021901314_1.csv',\n",
       " 'in_time_csv_licensed.zip_wunderground_1996_08_01.csv',\n",
       " 'whole_csv_licensed.zip_04-05_52.csv',\n",
       " 'in_time_csv_licensed.zip_weather-2014-03-06_164.csv',\n",
       " 'id_csv_licensed.zip_Neopieris_1.csv',\n",
       " 'id_csv_licensed.zip_technician_service_distribution_235.csv',\n",
       " 'in_time_csv_licensed.zip_0202_003600_InitializeSampleRD.csv',\n",
       " 'data_rate_csv_licensed.zip_NAICS_data_9825_59.csv',\n",
       " 'whole_csv_licensed.zip_5512f8393683186d3e1a2f260710f01a283944a2b7975f8695403db72898a383_6.csv',\n",
       " 'thing_csv_licensed.zip_19-20_256.csv',\n",
       " 'quick_time_csv_licensed.zip_11-12_197.csv',\n",
       " 'parent_csv_licensed.zip_02-03_16.csv',\n",
       " 'in_time_csv_licensed.zip_totalTimeForKpts_SEL_KNN_MAT_BF.csv',\n",
       " 'safe_period_csv_licensed.zip_07-08_145.csv',\n",
       " 'data_rate_csv_licensed.zip_22-23_272.csv',\n",
       " 'object_csv_licensed.zip_Tarantula_coverage_sd_81.csv',\n",
       " 'id_csv_licensed.zip_14-59-16.csv',\n",
       " 'in_time_csv_licensed.zip_0204_050032_InitializeSampleRD.csv',\n",
       " 'id_csv_licensed.zip_Euryptera.csv',\n",
       " 'dead_air_csv_licensed.zip_062c_kristy_and_the_worst_kid_ever.csv',\n",
       " 'crime_rate_csv_licensed.zip_07-08_124.csv',\n",
       " 'object_csv_licensed.zip_grid_objects_layout_T001_4.csv',\n",
       " 'id_csv_licensed.zip_0021801196_4.csv',\n",
       " 'show_time_csv_licensed.zip_E03-1005_10.csv',\n",
       " 'in_time_csv_licensed.zip_weather-2014-09-17_123.csv',\n",
       " 'rate_of_return_csv_licensed.zip_minhnhat93__tf-SNDCGAN.csv',\n",
       " 'then_csv_licensed.zip_00-01_759.csv',\n",
       " 'whole_csv_licensed.zip_10-11_989.csv',\n",
       " 'id_csv_licensed.zip_Botryonipha.csv',\n",
       " 'data_rate_csv_licensed.zip_10-11_359.csv',\n",
       " 'thing_csv_licensed.zip_11-12_358.csv',\n",
       " 'real_time_csv_licensed.zip_HASAN_annotatedData_NO.csv',\n",
       " 'id_csv_licensed.zip_10.1038_ncomms7948.csv',\n",
       " 'in_time_csv_licensed.zip_weatherDataScraped2015-01-31.csv',\n",
       " 'then_csv_licensed.zip_P05-1013_14.csv',\n",
       " 'data_rate_csv_licensed.zip_metrics_lonestar_dmr_1.csv',\n",
       " 'then_csv_licensed.zip_Gibarch 3 sides - resources_69.csv',\n",
       " 'running_time_csv_licensed.zip_10-11_462.csv',\n",
       " 'show_time_csv_licensed.zip_iati2foxpath_tests_3.csv',\n",
       " 'stopping_point_csv_licensed.zip_03-04_88.csv',\n",
       " 'id_csv_licensed.zip_halo_85008887980_particle_ID.csv',\n",
       " 'real_time_csv_licensed.zip_09-10_387.csv',\n",
       " 'thing_csv_licensed.zip_03-04_230.csv',\n",
       " 'thing_csv_licensed.zip_15-16_485.csv',\n",
       " 'in_time_csv_licensed.zip_0210_074033_InitializeSampleHD.csv',\n",
       " 'id_csv_licensed.zip_account.tax.template_3946.csv',\n",
       " 'show_time_csv_licensed.zip_MageWorx_XSitemap.csv',\n",
       " 'then_csv_licensed.zip_W06-3114_70.csv',\n",
       " 'processing_time_csv_licensed.zip_PDS4_IMG_SURFACE_1F00_1220.csv',\n",
       " 'thing_csv_licensed.zip_03-04_799.csv',\n",
       " 'real_time_csv_licensed.zip_12-13_425.csv',\n",
       " 'then_csv_licensed.zip_Gene_Braintree_18.csv',\n",
       " 'real_time_csv_licensed.zip_The_Boxer.csv',\n",
       " 'real_time_csv_licensed.zip_23-24_499.csv',\n",
       " 'then_csv_licensed.zip_18-19_626.csv',\n",
       " 'id_csv_licensed.zip_JP000015_review_abstract_1.csv',\n",
       " 'whole_csv_licensed.zip_P08-1028_swastika_88.csv',\n",
       " 'id_csv_licensed.zip_Polysporidiella.csv',\n",
       " 'data_rate_csv_licensed.zip_messages_de_34.csv',\n",
       " 'id_csv_licensed.zip_boxscore_0021501229.csv',\n",
       " 'time_interval_csv_licensed.zip_OriginalStatisticalDebugging_coverage_sd_45.csv',\n",
       " 'whole_csv_licensed.zip_09-10_1004.csv',\n",
       " 'real_time_csv_licensed.zip_07-08_325.csv',\n",
       " 'then_csv_licensed.zip_09-10_929.csv',\n",
       " 'id_csv_licensed.zip_halo_85008887968_particle_ID.csv',\n",
       " 'parent_csv_licensed.zip_Configuration1_window6_split11_typetest_projectpoi1.5.csv',\n",
       " 'processing_time_csv_licensed.zip_08-09_112.csv',\n",
       " 'then_csv_licensed.zip_W99-0613.annv3_13.csv',\n",
       " 'whole_csv_licensed.zip_20-21_587.csv',\n",
       " 'show_time_csv_licensed.zip_0561_7.csv',\n",
       " 'then_csv_licensed.zip_D09-1092_vardha_31.csv',\n",
       " 'seek_time_csv_licensed.zip_PL1331LAGTKV6H.csv',\n",
       " 'in_time_csv_licensed.zip_0201_170929_InitializeSampleRD.csv',\n",
       " 'safe_period_csv_licensed.zip_0630_4.csv',\n",
       " 'lead_time_csv_licensed.zip_00-01_362.csv',\n",
       " 'lead_time_csv_licensed.zip_beatport_key_estimates_beatport_key_1.0_raw_oe2_2.csv',\n",
       " 'object_csv_licensed.zip_07-08_462.csv',\n",
       " 'id_csv_licensed.zip_0021800342_3_1.csv',\n",
       " 'dead_air_csv_licensed.zip_alanshaya.csv',\n",
       " 'thing_csv_licensed.zip_1038_17.csv',\n",
       " 'rate_of_return_csv_licensed.zip_13-14_92.csv',\n",
       " 'object_csv_licensed.zip_temperature_426.csv',\n",
       " 'id_csv_licensed.zip_docentes_1.csv',\n",
       " 'growth_rate_csv_licensed.zip_06-07_42.csv',\n",
       " 'thing_csv_licensed.zip_0270_7.csv',\n",
       " 'thing_csv_licensed.zip_09-10_243.csv',\n",
       " 'question_time_csv_licensed.zip_00-01_438.csv',\n",
       " 'id_csv_licensed.zip_halo_85006391715_particle_ID.csv',\n",
       " 'half_life_csv_licensed.zip_neutral2.csv',\n",
       " 'parent_csv_licensed.zip_00-01_11.csv',\n",
       " 'object_csv_licensed.zip_raft_24.csv',\n",
       " 'id_csv_licensed.zip_boxscore_0021400496.csv',\n",
       " 'real_time_csv_licensed.zip_0131_130702_InitializeSampleRD.csv',\n",
       " 'data_rate_csv_licensed.zip_13-14_130.csv',\n",
       " 'question_time_csv_licensed.zip_Covid_SourceRelevancev1-Task-2074-DataHunt.csv',\n",
       " 'processing_time_csv_licensed.zip_11-12_122.csv',\n",
       " 'lead_time_csv_licensed.zip_07-08_335.csv',\n",
       " 'growth_rate_csv_licensed.zip_20-21_11.csv',\n",
       " 'parent_csv_licensed.zip_10-11_618.csv',\n",
       " 'parent_csv_licensed.zip_14-15_530.csv',\n",
       " 'id_csv_licensed.zip_0021800330_5.csv',\n",
       " 'cease_csv_licensed.zip_09-10_7.csv',\n",
       " 'id_csv_licensed.zip_00-01_22.csv',\n",
       " 'living_thing_csv_licensed.zip_908957e3-2529-4e2f-9e92-f21e77e1690f_text.csv',\n",
       " 'lead_time_csv_licensed.zip_07-08_59.csv',\n",
       " 'living_thing_csv_licensed.zip_drroast.csv',\n",
       " 'real_time_csv_licensed.zip_ResNet050-v2_138.csv',\n",
       " 'speed_of_light_csv_licensed.zip_dwbfpricesrsaplace02042015.csv',\n",
       " 'then_csv_licensed.zip_J01-2004.annv3_42.csv',\n",
       " 'data_rate_csv_licensed.zip_13-14_13.csv',\n",
       " 'id_csv_licensed.zip_Helianthopsis_1.csv',\n",
       " 'question_time_csv_licensed.zip_05-06_403.csv',\n",
       " 'quick_time_csv_licensed.zip_placesData.csv',\n",
       " 'whole_csv_licensed.zip_14-15_705.csv',\n",
       " 'quick_time_csv_licensed.zip_760030cf-b852-4e7a-8df7-24b66e38b3e7_text.csv',\n",
       " 'parent_csv_licensed.zip_18-19_238.csv',\n",
       " 'id_csv_licensed.zip_a11c34820ff047d46acc20692d22a01bbaa4a7603831251989742a1fb277ebeb_1.csv',\n",
       " 'crime_rate_csv_licensed.zip_04-05_58.csv',\n",
       " 'whole_csv_licensed.zip_funcs_by_name_252.csv',\n",
       " 'show_time_csv_licensed.zip_tyrisal.csv',\n",
       " 'show_time_csv_licensed.zip_02-03_613.csv',\n",
       " 'abstraction_csv_licensed.zip_04-05_35.csv',\n",
       " 'thing_csv_licensed.zip_16-17_716.csv',\n",
       " 'in_time_csv_licensed.zip_276dimitrist.csv',\n",
       " 'show_time_csv_licensed.zip_22-23_425.csv',\n",
       " 'id_csv_licensed.zip_20161226DALNOP.csv',\n",
       " 'then_csv_licensed.zip_2018-9-28_1.csv',\n",
       " 'parent_csv_licensed.zip_11-12_562.csv',\n",
       " 'lead_time_csv_licensed.zip_05-06_425.csv',\n",
       " 'time_slot_csv_licensed.zip_15-16_4.csv',\n",
       " 'data_rate_csv_licensed.zip_17-18_8.csv',\n",
       " 'id_csv_licensed.zip_policy_1.csv',\n",
       " 'question_time_csv_licensed.zip_TO_HY0C4TX06wc_comment.csv',\n",
       " 'in_time_csv_licensed.zip_Softisue_1.csv',\n",
       " 'object_csv_licensed.zip_06-07_223.csv',\n",
       " 'in_time_csv_licensed.zip_D_CPT_DM.csv',\n",
       " 'hypervelocity_csv_licensed.zip_geek.csv',\n",
       " 'id_csv_licensed.zip_ir.model.access_2290.csv',\n",
       " 'id_csv_licensed.zip_account.tax.template_3881.csv',\n",
       " 'seek_time_csv_licensed.zip_PL2331LAH9G4SJ.csv',\n",
       " 'object_csv_licensed.zip_tokens_3.csv',\n",
       " 'data_rate_csv_licensed.zip_A00-2018.annv3_89.csv',\n",
       " 'parent_csv_licensed.zip_account.tax.code_1108.csv',\n",
       " 'then_csv_licensed.zip_02-03_196.csv',\n",
       " 'object_csv_licensed.zip_RoamingSecurity.dll.csv__417333325__.csv',\n",
       " 'seek_time_csv_licensed.zip_PL1331LAGSH25H.csv',\n",
       " 'id_csv_licensed.zip_word_822.csv',\n",
       " 'parent_csv_licensed.zip_17-18_301.csv',\n",
       " 'question_time_csv_licensed.zip_03-04_963.csv',\n",
       " 'object_csv_licensed.zip_Configuration1_window14_split11_typetypetest_projectsynapse1.0.csv',\n",
       " 'thing_csv_licensed.zip_11-12_1709.csv',\n",
       " 'living_thing_csv_licensed.zip_paragraph_rich_text_national.csv',\n",
       " 'thing_csv_licensed.zip_0308_13.csv',\n",
       " 'running_time_csv_licensed.zip_05-06_52.csv',\n",
       " 'data_rate_csv_licensed.zip_W11-2123_675.csv',\n",
       " 'object_csv_licensed.zip_temperature_555.csv',\n",
       " 'living_thing_csv_licensed.zip_dua_lipa_scrape_57.csv',\n",
       " 'object_csv_licensed.zip_interaction_log_T057_6.csv',\n",
       " 'id_csv_licensed.zip_wc-20140618-175722_22.csv',\n",
       " 'lead_time_csv_licensed.zip_27263a71-1829-4039-bf7a-baff453d54aa_text.csv',\n",
       " 'quick_time_csv_licensed.zip_22-23_268.csv',\n",
       " 'processing_time_csv_licensed.zip_04-05_110.csv',\n",
       " 'show_time_csv_licensed.zip_P05-1013.annv3_110.csv',\n",
       " 'seek_time_csv_licensed.zip_04-05_37.csv',\n",
       " 'object_csv_licensed.zip_books.essential_92.csv',\n",
       " 'data_rate_csv_licensed.zip_05-06_108.csv',\n",
       " 'running_time_csv_licensed.zip_08-09_244.csv',\n",
       " 'parent_csv_licensed.zip_12-13_757.csv',\n",
       " 'id_csv_licensed.zip_Vampyrellidium.csv',\n",
       " 'crime_rate_csv_licensed.zip_08-09_21.csv',\n",
       " 'then_csv_licensed.zip_10-11_241.csv',\n",
       " 'object_csv_licensed.zip_LongArrays_1.csv',\n",
       " 'real_time_csv_licensed.zip_PMI_df.csv',\n",
       " 'real_time_csv_licensed.zip_2018-11-27-events_509.csv',\n",
       " 'data_rate_csv_licensed.zip_05-06_187.csv',\n",
       " 'parent_csv_licensed.zip_12-13_1356.csv',\n",
       " 'dwarf_csv_licensed.zip_GOT-character-deaths_10.csv',\n",
       " 'id_csv_licensed.zip_ir.model.access_60905.csv',\n",
       " 'show_time_csv_licensed.zip_01-02_801.csv',\n",
       " 'lead_time_csv_licensed.zip_PAG_1.csv',\n",
       " 'whole_csv_licensed.zip_P08-1028.annv3_88.csv',\n",
       " 'thing_csv_licensed.zip_0949_10.csv',\n",
       " 'rate_of_return_csv_licensed.zip_01-02_85.csv',\n",
       " 'then_csv_licensed.zip_10-11_954.csv',\n",
       " 'physical_entity_csv_licensed.zip_metadata-guidelines_88.csv',\n",
       " 'then_csv_licensed.zip_es-MX_264.csv',\n",
       " 'question_time_csv_licensed.zip_10-11_1101.csv',\n",
       " 'id_csv_licensed.zip_halo_85007023317_particle_ID.csv',\n",
       " 'parent_csv_licensed.zip_X13_solution_7.csv',\n",
       " 'whole_csv_licensed.zip_07-08_201.csv',\n",
       " 'quick_time_csv_licensed.zip_ham_seed_05_3.csv',\n",
       " 'sampling_rate_csv_licensed.zip_tpsection5all_xls_50506 Ann$_53.csv',\n",
       " 'thing_csv_licensed.zip_02-03_795.csv',\n",
       " 'running_time_csv_licensed.zip_13-14_250.csv',\n",
       " 'in_time_csv_licensed.zip_Mage_Sendfriend_3972.csv',\n",
       " 'real_time_csv_licensed.zip_BVLC_GoogleNet_161.csv',\n",
       " 'living_thing_csv_licensed.zip_06-07_355.csv',\n",
       " 'bits_per_second_csv_licensed.zip_mx2.lju.si - Traffic - ae4 - LAG INFRASTRUCTURE BACKBONE LJU SRF0000001 _ LJU-MIL2  __1.csv',\n",
       " 'safe_period_csv_licensed.zip_09-10_41.csv',\n",
       " 'then_csv_licensed.zip_tokens_1112.csv',\n",
       " 'parent_csv_licensed.zip_16-17_426.csv',\n",
       " 'time_interval_csv_licensed.zip_W06-3114_6.csv',\n",
       " 'id_csv_licensed.zip_Direct.csv',\n",
       " 'parent_csv_licensed.zip_20-21_94.csv',\n",
       " 'id_csv_licensed.zip_full_harmonic_2866.csv',\n",
       " 'stopping_point_csv_licensed.zip_15-16_1.csv',\n",
       " 'in_time_csv_licensed.zip_weather-2015-03-21_134.csv',\n",
       " 'then_csv_licensed.zip_W11-2123_137.csv',\n",
       " 'show_time_csv_licensed.zip_04-05_217.csv',\n",
       " 'question_time_csv_licensed.zip_07-08_580.csv',\n",
       " 'time_slot_csv_licensed.zip_ericrDIY.csv',\n",
       " 'id_csv_licensed.zip_Galeoglossa_1.csv',\n",
       " 'question_time_csv_licensed.zip_14-15_105.csv',\n",
       " 'object_csv_licensed.zip_Op2_coverage_sd_1555.csv',\n",
       " 'living_thing_csv_licensed.zip_04-05_497.csv',\n",
       " 'seek_time_csv_licensed.zip_PL1331LAGRDS1H.csv',\n",
       " 'count_per_minute_csv_licensed.zip_05-06_26.csv',\n",
       " 'organism_csv_licensed.zip_41_meta.csv',\n",
       " 'show_time_csv_licensed.zip_01-02_540.csv',\n",
       " 'in_time_csv_licensed.zip_55_96.csv',\n",
       " 'object_csv_licensed.zip_interaction_log_T074_8.csv',\n",
       " 'speed_of_light_csv_licensed.zip_21-22_24.csv',\n",
       " 'whole_csv_licensed.zip_ro-advertisers-by-week-w015.csv',\n",
       " 'in_time_csv_licensed.zip_05-06_22.csv',\n",
       " 'id_csv_licensed.zip_halo_85008661789_particle_ID_1.csv',\n",
       " 'id_csv_licensed.zip_26May17Pdgfra_AF9_channel=0001_frame=0001_statistics_cor_2.csv',\n",
       " 'id_csv_licensed.zip_0021800969_2.csv',\n",
       " 'object_csv_licensed.zip_Computer ArchitectureOperating Systems_test_3_2.csv',\n",
       " 'then_csv_licensed.zip_Episode-3-Fairy-Tactician.csv',\n",
       " 'rate_of_return_csv_licensed.zip_16-17_42.csv',\n",
       " 'seek_time_csv_licensed.zip_23-24_37.csv',\n",
       " 'object_csv_licensed.zip_routes_solution3_4.csv',\n",
       " 'quick_time_csv_licensed.zip_topic_1_18.csv',\n",
       " 'id_csv_licensed.zip_nodes_metadata_2.csv',\n",
       " 'quick_time_csv_licensed.zip_qu.csv',\n",
       " 'object_csv_licensed.zip_00015-185.csv',\n",
       " 'question_time_csv_licensed.zip_11-12_1013.csv',\n",
       " 'in_time_csv_licensed.zip_results_365.csv',\n",
       " 'then_csv_licensed.zip_topic_27_4.csv',\n",
       " 'reaction_time_csv_licensed.zip_08-09_177.csv',\n",
       " 'id_csv_licensed.zip_ihc_template__Legend.csv',\n",
       " 'id_csv_licensed.zip_at-advertisers-by-day-d034.csv',\n",
       " 'crime_rate_csv_licensed.zip_00-01_13.csv',\n",
       " 'time_interval_csv_licensed.zip_metadata_111.csv',\n",
       " 'object_csv_licensed.zip_p2pnetsh.dll.csv__3599559609__.csv',\n",
       " 'safe_period_csv_licensed.zip_19-20_47.csv',\n",
       " 'id_csv_licensed.zip_Cuentas_1.csv',\n",
       " 'orbit_period_csv_licensed.zip_06-07_16.csv',\n",
       " 'stopping_point_csv_licensed.zip_初中英语常考短语.csv',\n",
       " 'parent_csv_licensed.zip_08-09_657.csv',\n",
       " 'id_csv_licensed.zip_TalkContent.csv',\n",
       " 'lead_time_csv_licensed.zip_02-03_439.csv',\n",
       " 'parent_csv_licensed.zip_rccsf1940_1969_4_1.csv',\n",
       " 'id_csv_licensed.zip_ir.model.access_86269.csv',\n",
       " 'id_csv_licensed.zip_ir.model.access_60868.csv',\n",
       " 'show_time_csv_licensed.zip_www.wsj.com.csv',\n",
       " 'show_time_csv_licensed.zip_22-23_179.csv',\n",
       " 'parent_csv_licensed.zip_09-10_1189.csv',\n",
       " 'lead_time_csv_licensed.zip_02-03_182.csv',\n",
       " 'safe_period_csv_licensed.zip_text_84.csv',\n",
       " 'half_life_csv_licensed.zip_08-09_18.csv',\n",
       " 'show_time_csv_licensed.zip_word_sentence_coverage_canonical_sentence_Cruttenden_word_list_B.csv',\n",
       " 'object_csv_licensed.zip_13-14_175.csv',\n",
       " 'speed_of_light_csv_licensed.zip_21-22_43.csv',\n",
       " 'parent_csv_licensed.zip_EDED.1921_4.csv',\n",
       " 'id_csv_licensed.zip_0021900938_4_1.csv',\n",
       " 'parent_csv_licensed.zip_09-10_1343.csv',\n",
       " 'growth_rate_csv_licensed.zip_09-10_90.csv',\n",
       " 'thing_csv_licensed.zip_02-03_1055.csv',\n",
       " 'id_csv_licensed.zip_カシャッ.csv',\n",
       " 'safe_period_csv_licensed.zip_moduleQues4_1.csv',\n",
       " 'id_csv_licensed.zip_0021700427.csv',\n",
       " 'in_time_csv_licensed.zip_grid_127.csv',\n",
       " 'id_csv_licensed.zip_20170106PHIBOS.csv',\n",
       " 'half_life_csv_licensed.zip_19-20_135.csv',\n",
       " 'parent_csv_licensed.zip_02-03_1395.csv',\n",
       " 'question_time_csv_licensed.zip_general_sheet1_1.csv',\n",
       " 'seek_time_csv_licensed.zip_PL2331LAH3Z1UJ.csv',\n",
       " 'id_csv_licensed.zip_pairs.csv',\n",
       " 'id_csv_licensed.zip_Designite_DatatransSample_ImpSmells_1.csv',\n",
       " 'thing_csv_licensed.zip_ext-meta-types_9.csv',\n",
       " 'question_time_csv_licensed.zip_03-04_47.csv',\n",
       " 'then_csv_licensed.zip_D10-1044_18.csv',\n",
       " 'then_csv_licensed.zip_04-05_985.csv',\n",
       " 'real_time_csv_licensed.zip_16-17_437.csv',\n",
       " 'quick_time_csv_licensed.zip_17-18_94.csv',\n",
       " 'parent_csv_licensed.zip_19-20_305.csv',\n",
       " 'id_csv_licensed.zip_halo_85005548177_particle_ID.csv',\n",
       " 'question_time_csv_licensed.zip_14-15_319.csv',\n",
       " 'thing_csv_licensed.zip_08-09_648.csv',\n",
       " 'object_csv_licensed.zip_Ochiai_coverage_sd_742.csv',\n",
       " 'real_time_csv_licensed.zip_12-13_667.csv',\n",
       " 'real_time_csv_licensed.zip_ArcFace_85.csv',\n",
       " 'id_csv_licensed.zip_0021800631_4.csv',\n",
       " 'split_shift_csv_licensed.zip_16-17_1.csv',\n",
       " 'processing_time_csv_licensed.zip_Configuration1_window2_split11_typetr.csv',\n",
       " 'then_csv_licensed.zip_21-22_183.csv',\n",
       " 'object_csv_licensed.zip_termb_Q.csv',\n",
       " 'id_csv_licensed.zip_infrastructure.instance_2.csv',\n",
       " 'dead_air_csv_licensed.zip_Ashirou.csv',\n",
       " 'seek_time_csv_licensed.zip_PL1331LAGRLKVH.csv',\n",
       " 'parent_csv_licensed.zip_ethnicity_1.csv',\n",
       " 'real_time_csv_licensed.zip_0224_122811_InitializeSampleCC.csv',\n",
       " 'show_time_csv_licensed.zip_Material_Icons-2.csv',\n",
       " 'id_csv_licensed.zip_density_pure_115.csv',\n",
       " 'whole_csv_licensed.zip_09-10_128.csv',\n",
       " 'id_csv_licensed.zip_purchase_purchaseOrder_6.csv',\n",
       " 'processing_time_csv_licensed.zip_J01-2004_515.csv',\n",
       " 'data_rate_csv_licensed.zip_00-01_354.csv',\n",
       " 'dead_air_csv_licensed.zip_03-04.csv',\n",
       " 'channel_capacity_csv_licensed.zip_infocom83.csv',\n",
       " 'id_csv_licensed.zip_Sclerosperma_3.csv',\n",
       " 'data_rate_csv_licensed.zip_15-16_210.csv',\n",
       " 'thing_csv_licensed.zip_12-13_515.csv',\n",
       " 'data_rate_csv_licensed.zip_EDSD.d07a_3.csv',\n",
       " 'bits_per_second_csv_licensed.zip_mx1.lon2.uk - Traffic - ae5 - LAG INFRASTRUCTURE BACKBONE AMS SRF0000001 _ lon2-par _ Coriant G30 100G __2.csv',\n",
       " 'object_csv_licensed.zip_08-09_218.csv',\n",
       " 'running_time_csv_licensed.zip_08-09_686.csv',\n",
       " 'thing_csv_licensed.zip_05-06_358.csv',\n",
       " 'id_csv_licensed.zip_halo_85006055934_particle_ID.csv',\n",
       " 'id_csv_licensed.zip_Countries_4.csv',\n",
       " 'in_time_csv_licensed.zip_weatherDataScraped2016-01-31.csv',\n",
       " 'processing_time_csv_licensed.zip_NAICS_data_8403_32.csv',\n",
       " 'question_time_csv_licensed.zip_08-09_561.csv',\n",
       " 'id_csv_licensed.zip_16-17_90.csv',\n",
       " 'lead_time_csv_licensed.zip_78f75003-67c9-4375-bb3c-4e7033f32f04_text.csv',\n",
       " 'thing_csv_licensed.zip_22-23_350.csv',\n",
       " 'parent_csv_licensed.zip_19-20_359.csv',\n",
       " 'thing_csv_licensed.zip_0285_10.csv',\n",
       " 'whole_csv_licensed.zip_FOXNEWS.201112_2.csv',\n",
       " 'whole_csv_licensed.zip_0916_14.csv',\n",
       " 'id_csv_licensed.zip_PD37116b_lo041.sample.dupmarked.bam_pilepy.csv',\n",
       " 'parent_csv_licensed.zip_02-03_598.csv',\n",
       " 'parent_csv_licensed.zip_01-02_1256.csv',\n",
       " 'id_csv_licensed.zip_ir.model.access_77552.csv',\n",
       " 'then_csv_licensed.zip_2031017-mz17-le-unit4-finding-postal-charges-20181012-21h15m_1.csv',\n",
       " 'id_csv_licensed.zip_2031017-mz17-le-unit2-exploring-telephone-tariffs-20181026-20h15m_1.csv',\n",
       " 'rainy_day_csv_licensed.zip_Npc_Road_020.csv',\n",
       " 'id_csv_licensed.zip_0011900036.csv',\n",
       " 'question_time_csv_licensed.zip_21-22_536.csv',\n",
       " 'then_csv_licensed.zip_horizonFirstBoot_1.csv',\n",
       " 'reaction_time_csv_licensed.zip_09-10_40.csv',\n",
       " 'dead_air_csv_licensed.zip_2020-05-31_top1000terms_2.csv',\n",
       " 'real_time_csv_licensed.zip_0222_152508_InitializeSampleCC.csv',\n",
       " 'whole_csv_licensed.zip_f6c21816-2758-4a84-9875-2cb4a7573ba7_text.csv',\n",
       " 'thing_csv_licensed.zip_Covid2_Reasoning_2020_09_20-Schema.csv',\n",
       " 'thing_csv_licensed.zip_02-03_369.csv',\n",
       " 'show_time_csv_licensed.zip_J01-2004_sweta_207.csv',\n",
       " 'lead_time_csv_licensed.zip_06-07_49.csv',\n",
       " 'dead_air_csv_licensed.zip_Maroundtheworld143.csv',\n",
       " 'in_time_csv_licensed.zip_0210_171211_InitializeSampleHD.csv',\n",
       " 'thing_csv_licensed.zip_12-13_355.csv',\n",
       " 'id_csv_licensed.zip_gameId=0021900340.csv',\n",
       " 'id_csv_licensed.zip_Nimbo.csv',\n",
       " 'id_csv_licensed.zip_boxscore_0021700997.csv',\n",
       " 'id_csv_licensed.zip_2617362622770643235_1.csv',\n",
       " 'id_csv_licensed.zip_input_nodes_n25_s156_cb4.csv',\n",
       " 'question_time_csv_licensed.zip_00-01_402.csv',\n",
       " 'whole_csv_licensed.zip_06-07_1150.csv',\n",
       " 'thing_csv_licensed.zip_0029_15.csv',\n",
       " 'thing_csv_licensed.zip_12-13_501.csv',\n",
       " 'then_csv_licensed.zip_W99-0613_75.csv',\n",
       " 'then_csv_licensed.zip_05-06_732.csv',\n",
       " 'then_csv_licensed.zip_00-01_486.csv',\n",
       " 'running_time_csv_licensed.zip_Look Inside Lyrics_1.csv',\n",
       " 'object_csv_licensed.zip_03-04_166.csv',\n",
       " 'id_csv_licensed.zip_0022000263_5.csv',\n",
       " 'in_time_csv_licensed.zip_Designite_FSpot.Gtk.UnitTest_MethodMetrics_1.csv',\n",
       " 'parent_csv_licensed.zip_SemanticTags_3.csv',\n",
       " 'data_rate_csv_licensed.zip_04-05_462.csv',\n",
       " 'real_time_csv_licensed.zip_permit-2006-1933_plain.csv',\n",
       " 'parent_csv_licensed.zip_15-16_878.csv',\n",
       " 'then_csv_licensed.zip_10-11_1323.csv',\n",
       " 'then_csv_licensed.zip_W99-0623_swastika_315.csv',\n",
       " 'parent_csv_licensed.zip_edges_662.csv',\n",
       " 'processing_time_csv_licensed.zip_P05-1013_aakansha_211.csv',\n",
       " 'object_csv_licensed.zip_04-05_88.csv',\n",
       " 'living_thing_csv_licensed.zip_15-16_267.csv',\n",
       " 'quick_time_csv_licensed.zip_0430_15.csv',\n",
       " 'real_time_csv_licensed.zip_amazon-books-cv-9-bigrams-normalized.csv',\n",
       " 'real_time_csv_licensed.zip_10-11_644.csv',\n",
       " 'then_csv_licensed.zip_0003871.csv',\n",
       " 'seek_time_csv_licensed.zip_PL2331LAGMNPYJ.csv',\n",
       " 'real_time_csv_licensed.zip_Emotion-FerPlus_277.csv',\n",
       " 'question_time_csv_licensed.zip_09-10_165.csv',\n",
       " 'id_csv_licensed.zip_lu-advertisers-by-audience-u65_.csv',\n",
       " 'then_csv_licensed.zip_12-13_291.csv',\n",
       " 'thing_csv_licensed.zip_04-05_1123.csv',\n",
       " 'then_csv_licensed.zip_19-20_497.csv',\n",
       " 'thing_csv_licensed.zip_03-04_537.csv',\n",
       " 'id_csv_licensed.zip_0021700229.csv',\n",
       " 'whole_csv_licensed.zip_00-01_849.csv',\n",
       " 'terminal_velocity_csv_licensed.zip_result_124.csv',\n",
       " 'crime_rate_csv_licensed.zip_00-01_64.csv',\n",
       " 'thing_csv_licensed.zip_10-11_682.csv',\n",
       " 'quick_time_csv_licensed.zip_dwbfpricesukwin18032015.csv',\n",
       " 'seek_time_csv_licensed.zip_PL1331LAGM30WH.csv',\n",
       " 'thing_csv_licensed.zip_unique_classesred.gnoss.com_comunidad_buscaempresas.nt.gz.hdt.csv',\n",
       " 'then_csv_licensed.zip_21-22_1.csv',\n",
       " 'then_csv_licensed.zip_f3161650-9ea8-4bc2-9c7b-1699cc605f44_text.csv',\n",
       " 'id_csv_licensed.zip_Hydnoraceae_1.csv',\n",
       " 'running_time_csv_licensed.zip_16-17_264.csv',\n",
       " 'id_csv_licensed.zip_Camptostylus_1.csv',\n",
       " 'whole_csv_licensed.zip_Inventory_07-03-2017.csv',\n",
       " 'thing_csv_licensed.zip_r5.2-4-JMM0613.csv',\n",
       " 'id_csv_licensed.zip_halo_85008127056_particle_ID.csv',\n",
       " 'id_csv_licensed.zip_Trichocaulon.csv',\n",
       " 'abstraction_csv_licensed.zip_Michael-Stonebraker.csv',\n",
       " 'show_time_csv_licensed.zip_2020-04-17_top1000terms_4.csv',\n",
       " 'in_time_csv_licensed.zip_allocation_1.csv',\n",
       " 'question_time_csv_licensed.zip_errors_8.csv',\n",
       " 'id_csv_licensed.zip_0021600367_2.csv',\n",
       " 'question_time_csv_licensed.zip_10-11_278.csv',\n",
       " 'data_rate_csv_licensed.zip_messages_568.csv',\n",
       " 'id_csv_licensed.zip_StockSharp.ETrade.csv',\n",
       " 'show_time_csv_licensed.zip_E03-1005_5.csv',\n",
       " 'parent_csv_licensed.zip_01-02_882.csv',\n",
       " 'real_time_csv_licensed.zip_ResNet050-v1_343.csv',\n",
       " 'interim_csv_licensed.zip_zangeles_sempra_com.csv',\n",
       " 'running_time_csv_licensed.zip_19-20_331.csv',\n",
       " 'in_time_csv_licensed.zip_weather-2015-04-30_165.csv',\n",
       " 'id_csv_licensed.zip_Dalibarda_1.csv',\n",
       " 'rate_of_return_csv_licensed.zip_J01-2004_180.csv',\n",
       " 'object_csv_licensed.zip_04-05_352.csv',\n",
       " 'parent_csv_licensed.zip_10-11_583.csv',\n",
       " 'usance_csv_licensed.zip_DD_finetune_valid.csv',\n",
       " 'incubation_period_csv_licensed.zip_g_en_da.csv',\n",
       " 'quick_time_csv_licensed.zip_05-06_403.csv',\n",
       " 'revolutions_per_minute_csv_licensed.zip_10-11_1.csv',\n",
       " 'id_csv_licensed.zip_Chondropodiella_1.csv',\n",
       " 'whole_csv_licensed.zip_00-01_309.csv',\n",
       " \"id_csv_licensed.zip_LionelHampton_Runnin'Wild_FINAL_beattrack.csv\",\n",
       " 'id_csv_licensed.zip_ir.model.access_15799.csv',\n",
       " 'id_csv_licensed.zip_Hamaspora.csv',\n",
       " 'data_rate_csv_licensed.zip_06-07_447.csv',\n",
       " 'whole_csv_licensed.zip_E07000042.csv',\n",
       " 'parent_csv_licensed.zip_Configuration2_window15_split8_typetest_projectpoi2.5.csv',\n",
       " 'data_rate_csv_licensed.zip_models-invalid_property.csv',\n",
       " 'whole_csv_licensed.zip_13-14_506.csv',\n",
       " 'running_time_csv_licensed.zip_results_01e15fb3cab04245_2020.05.01_134030.csv',\n",
       " 'id_csv_licensed.zip_Tetramyxis_1.csv',\n",
       " 'then_csv_licensed.zip_AX1890.csv',\n",
       " 'question_time_csv_licensed.zip_23-24_410.csv',\n",
       " 'in_time_csv_licensed.zip_0209_211335_InitializeSampleGD.csv',\n",
       " 'in_time_csv_licensed.zip_wunderground_2004_06_11_2.csv',\n",
       " 'seek_time_csv_licensed.zip_PL1331LAHD2Y6H.csv',\n",
       " 'id_csv_licensed.zip_ir.model.access_76582.csv',\n",
       " 'seek_time_csv_licensed.zip_PL1331LAHBSLNH.csv',\n",
       " 'then_csv_licensed.zip_text_556.csv',\n",
       " 'then_csv_licensed.zip_09-10_1680.csv',\n",
       " 'running_time_csv_licensed.zip_metadata_66.csv',\n",
       " 'thing_csv_licensed.zip_01-02_422.csv',\n",
       " 'physical_entity_csv_licensed.zip_04-05_7.csv',\n",
       " 'whole_csv_licensed.zip_04-05_1148.csv',\n",
       " 'id_csv_licensed.zip_boxscore_0021701002.csv',\n",
       " 'rate_of_return_csv_licensed.zip_07-08_267.csv',\n",
       " 'running_time_csv_licensed.zip_results_01e15fb3cab04245_2020.05.04_162033.csv',\n",
       " 'reaction_time_csv_licensed.zip_lists_k07_oplen_lr.csv',\n",
       " 'thing_csv_licensed.zip_E16_2.csv',\n",
       " 'whole_csv_licensed.zip_0309_10.csv',\n",
       " 'id_csv_licensed.zip_A3_defects_12.csv',\n",
       " 'parent_csv_licensed.zip_topic_12_4.csv',\n",
       " 'in_time_csv_licensed.zip_Nicholas_Brozovic_1_reviews_1.csv',\n",
       " 'escape_velocity_csv_licensed.zip_Configuration1_window7_split10_typetest_projectvelocity1.4.csv',\n",
       " 'safe_period_csv_licensed.zip_Tarantula_coverage_sd.csv',\n",
       " 'data_rate_csv_licensed.zip_21-22_219.csv',\n",
       " 'show_time_csv_licensed.zip_11-12_72.csv',\n",
       " 'thing_csv_licensed.zip_03-04_450.csv',\n",
       " 'living_thing_csv_licensed.zip_392eef77-2453-4313-9acc-a161af8bf5ef_text.csv',\n",
       " 'then_csv_licensed.zip_01-02_194.csv',\n",
       " 'id_csv_licensed.zip_Tidy CSV With Comments and existing gene set name in database UTF8.csv',\n",
       " 'id_csv_licensed.zip_Acarosporina.csv',\n",
       " 'object_csv_licensed.zip_Configuration3_window18_split2_typetest_projectsynapse1.0.csv',\n",
       " 'object_csv_licensed.zip_AbstractCharSequenceAssert.csv',\n",
       " 'seek_time_csv_licensed.zip_PL2331LAGUKY4J.csv',\n",
       " 'id_csv_licensed.zip_defeat_enemy_8_0.csv',\n",
       " 'then_csv_licensed.zip_J01-2004.annv3_6.csv',\n",
       " 'abstraction_csv_licensed.zip_10-11_10.csv',\n",
       " 'id_csv_licensed.zip_DAUCo26015GA.csv',\n",
       " 'object_csv_licensed.zip_Ochiai_coverage_sd_1623.csv',\n",
       " 'data_rate_csv_licensed.zip_02-03_298.csv',\n",
       " 'parent_csv_licensed.zip_kanji-J2.csv',\n",
       " 'question_time_csv_licensed.zip_webhose_dailycaller.com_2019-06-24_20:10:48.csv',\n",
       " 'show_time_csv_licensed.zip_CNN.201001_16.csv',\n",
       " 'parent_csv_licensed.zip_07-08_759.csv',\n",
       " 'id_csv_licensed.zip_2018-11-29_5_2.csv',\n",
       " 'in_time_csv_licensed.zip_0205_011834_InitializeSampleHD.csv',\n",
       " 'then_csv_licensed.zip_04-05_578.csv',\n",
       " 'id_csv_licensed.zip_0021800837_2.csv',\n",
       " 'speed_of_light_csv_licensed.zip_21-22_45.csv',\n",
       " 'id_csv_licensed.zip_foods-en_ONPP_rev_1.csv',\n",
       " 'id_csv_licensed.zip_ir.model.access_7421.csv',\n",
       " 'then_csv_licensed.zip_22-23_292.csv',\n",
       " 'thing_csv_licensed.zip_04-05_1228.csv',\n",
       " 'real_time_csv_licensed.zip_bernoulli_lpmf_1.csv',\n",
       " 'then_csv_licensed.zip_2009_suzuki_sx4.csv',\n",
       " 'living_thing_csv_licensed.zip_a225e3d1-6daf-42fa-aa20-15a3a61b78cd_text.csv',\n",
       " 'id_csv_licensed.zip_Configuration3_window4_split10_typetest_projectpbeans2.0.csv',\n",
       " 'then_csv_licensed.zip_tokens_1501.csv',\n",
       " 'parent_csv_licensed.zip_21-22_1.csv',\n",
       " 'id_csv_licensed.zip_ir.model.access_72531.csv',\n",
       " 'processing_time_csv_licensed.zip_W06-2932_sweta_185.csv',\n",
       " 'real_time_csv_licensed.zip_dwbfpricesirewin24022011.csv',\n",
       " 'id_csv_licensed.zip_Mage_Reports_4639.csv',\n",
       " 'id_csv_licensed.zip_10-11_154.csv',\n",
       " 'id_csv_licensed.zip_fit_4.csv',\n",
       " 'id_csv_licensed.zip_CPUUtilizationRecord_0_1.csv',\n",
       " 'then_csv_licensed.zip_A00-2030_37.csv',\n",
       " 'thing_csv_licensed.zip_04-05_402.csv',\n",
       " 'thing_csv_licensed.zip_00-01_186.csv',\n",
       " 'question_time_csv_licensed.zip_Donald_E=-Knuth.csv',\n",
       " 'real_time_csv_licensed.zip_0223_234725_InitializeSampleCC.csv',\n",
       " 'show_time_csv_licensed.zip_07-08_1114.csv',\n",
       " 'id_csv_licensed.zip_0021601061_4.csv',\n",
       " 'question_time_csv_licensed.zip_Covid_SourceRelevancev1-Task-2075-DataHunt.csv',\n",
       " 'id_csv_licensed.zip_ir.model.access_95716.csv',\n",
       " 'id_csv_licensed.zip_messages_pl_59.csv',\n",
       " 'question_time_csv_licensed.zip_00-01_652.csv',\n",
       " 'living_thing_csv_licensed.zip_01-02_41.csv',\n",
       " 'parent_csv_licensed.zip_20-21_964.csv',\n",
       " 'thing_csv_licensed.zip_darc_nova.csv',\n",
       " 'parent_csv_licensed.zip_0950_11.csv',\n",
       " 'quick_time_csv_licensed.zip_07-08_510.csv',\n",
       " 'thing_csv_licensed.zip_08-09_275.csv',\n",
       " 'seek_time_csv_licensed.zip_03-04_39.csv',\n",
       " 'real_time_csv_licensed.zip_23-24_265.csv',\n",
       " 'whole_csv_licensed.zip_tisy0.csv',\n",
       " 'question_time_csv_licensed.zip_08-09_132.csv',\n",
       " 'whole_csv_licensed.zip_permit-2012-2853_plain.csv',\n",
       " 'id_csv_licensed.zip_requested_services_232.csv',\n",
       " 'in_time_csv_licensed.zip_dns-rcode_3.csv',\n",
       " 'show_time_csv_licensed.zip_508karenh508.csv',\n",
       " 'data_rate_csv_licensed.zip_03-04_331.csv',\n",
       " 'then_csv_licensed.zip_P04-1036_aakansha_113.csv',\n",
       " 'lead_time_csv_licensed.zip_09-10_20.csv',\n",
       " 'id_csv_licensed.zip_ir.model.access_86261.csv',\n",
       " 'id_csv_licensed.zip_boxscore_0041700101.csv',\n",
       " 'id_csv_licensed.zip_0022000248_2.csv',\n",
       " 'then_csv_licensed.zip_P08-1102_swastika_97.csv',\n",
       " 'show_time_csv_licensed.zip_messages_pt_38.csv',\n",
       " 'escape_velocity_csv_licensed.zip_Configuration1_window16_split6_typetypetest_projectvelocity1.5.csv',\n",
       " 'thing_csv_licensed.zip_0120_15.csv',\n",
       " 'quick_time_csv_licensed.zip_bllong_alumni_utexas_net.csv',\n",
       " 'running_time_csv_licensed.zip_03-04_710.csv',\n",
       " 'id_csv_licensed.zip_flow-pathways-spinup-base-multipliers-shrub_1.csv',\n",
       " 'question_time_csv_licensed.zip_12-13_333.csv',\n",
       " 'object_csv_licensed.zip_en_GB_23.csv',\n",
       " 'object_csv_licensed.zip_16-17_192.csv',\n",
       " 'growth_rate_csv_licensed.zip_Nepal_4.csv',\n",
       " 'quick_time_csv_licensed.zip_2009_volkswagen_passat.csv',\n",
       " 'parent_csv_licensed.zip_15-16_627.csv',\n",
       " 'thing_csv_licensed.zip_08-09_90.csv',\n",
       " 'thing_csv_licensed.zip_1981-07-25_3.csv',\n",
       " 'whole_csv_licensed.zip_0c795945-5958-42ae-a712-838a15b83c6f_text.csv',\n",
       " 'whole_csv_licensed.zip_03-04_499.csv',\n",
       " 'running_time_csv_licensed.zip_11-12_583.csv',\n",
       " 'reaction_time_csv_licensed.zip_09-10_43.csv',\n",
       " 'lead_time_csv_licensed.zip_04-05_2.csv',\n",
       " 'in_time_csv_licensed.zip_0203_114029_InitializeSampleGD.csv',\n",
       " 'id_csv_licensed.zip_0021801142_4.csv',\n",
       " 'data_rate_csv_licensed.zip_funcs_by_address_54.csv',\n",
       " 'living_thing_csv_licensed.zip_21-22_155.csv',\n",
       " 'quick_time_csv_licensed.zip_10-11_317.csv',\n",
       " 'show_time_csv_licensed.zip_AppointmentApis.dll.csv__1690450972__.csv',\n",
       " 'object_csv_licensed.zip_weak_mutation_sum_198.csv',\n",
       " 'then_csv_licensed.zip_12-13_650.csv',\n",
       " 'object_csv_licensed.zip_00018-115.csv',\n",
       " 'id_csv_licensed.zip_ir.model.access_3729.csv',\n",
       " 'id_csv_licensed.zip_halo_85007422530_particle_ID.csv',\n",
       " 'thing_csv_licensed.zip_05-06_805.csv',\n",
       " 'real_time_csv_licensed.zip_03-04_1064.csv',\n",
       " 'half_life_csv_licensed.zip_tokens_39.csv',\n",
       " 'show_time_csv_licensed.zip_03-04_720.csv',\n",
       " 'seek_time_csv_licensed.zip_PL2331LAH2US4J.csv',\n",
       " 'whole_csv_licensed.zip_0702_9.csv',\n",
       " ...]"
      ]
     },
     "execution_count": 6,
     "metadata": {},
     "output_type": "execute_result"
    }
   ],
   "source": [
    "l"
   ]
  },
  {
   "cell_type": "code",
   "execution_count": 7,
   "metadata": {},
   "outputs": [
    {
     "data": {
      "text/plain": [
       "dict_keys(['n_rows', 'n_cols', 'area', 't_graph_gen', 't_emb_gen', 't_tot'])"
      ]
     },
     "execution_count": 7,
     "metadata": {},
     "output_type": "execute_result"
    }
   ],
   "source": [
    "data['object_csv_licensed.zip_StatisticalDebugging_coverage_sd_1230.csv'].keys()"
   ]
  },
  {
   "cell_type": "code",
   "execution_count": 8,
   "metadata": {},
   "outputs": [
    {
     "data": {
      "text/plain": [
       "27.411460876464844"
      ]
     },
     "execution_count": 8,
     "metadata": {},
     "output_type": "execute_result"
    }
   ],
   "source": [
    "data['seek_time_csv_licensed.zip_PL1331LAHDYWTH.csv']['t_graph_gen']"
   ]
  },
  {
   "cell_type": "code",
   "execution_count": 9,
   "metadata": {},
   "outputs": [
    {
     "data": {
      "text/plain": [
       "1.7940998077392578"
      ]
     },
     "execution_count": 9,
     "metadata": {},
     "output_type": "execute_result"
    }
   ],
   "source": [
    "data['seek_time_csv_licensed.zip_PL1331LAHDYWTH.csv']['t_emb_gen']"
   ]
  },
  {
   "cell_type": "code",
   "execution_count": 10,
   "metadata": {},
   "outputs": [
    {
     "data": {
      "text/plain": [
       "29.205799102783203"
      ]
     },
     "execution_count": 10,
     "metadata": {},
     "output_type": "execute_result"
    }
   ],
   "source": [
    "data['seek_time_csv_licensed.zip_PL1331LAHDYWTH.csv']['t_tot']"
   ]
  },
  {
   "cell_type": "code",
   "execution_count": null,
   "metadata": {},
   "outputs": [],
   "source": [
    "from _script_embed_all_no_paral import *"
   ]
  },
  {
   "cell_type": "code",
   "execution_count": 30,
   "metadata": {},
   "outputs": [],
   "source": [
    "import matplotlib.pyplot as plt\n",
    "import pickle\n",
    "\n",
    "def visualize_scatter_plot(exp_data_file: str) -> None:\n",
    "    with open(exp_data_file, 'rb') as f:\n",
    "        data = pickle.load(f)\n",
    "\n",
    "    keys = list(data.keys())\n",
    "\n",
    "    # areas = [data[k]['area'] for k in keys if data[k]['area']!=0]\n",
    "    # t_execs = [data[k]['t_tot'] for k in keys if data[k]['area']!=0]\n",
    "\n",
    "    areas = [data[k]['area'] for k in keys]\n",
    "    t_execs = [data[k]['t_tot'] for k in keys]\n",
    "\n",
    "    # # Create a scatter plot\n",
    "\n",
    "    plt.scatter(areas, t_execs, s=2, c='black', alpha=0.7, edgecolors=None)\n",
    "\n",
    "    # Customize the plot\n",
    "    plt.title('Scatterplot with Small Dots')\n",
    "    plt.xlabel('Table_area')\n",
    "    plt.ylabel('Total_embedding_time (ms)')\n",
    "    plt.grid(True)\n",
    "\n",
    "    # Show the plot\n",
    "    plt.show()"
   ]
  },
  {
   "cell_type": "code",
   "execution_count": 31,
   "metadata": {},
   "outputs": [
    {
     "data": {
      "image/png": "[encoded data removed]",
      "text/plain": [
       "<Figure size 640x480 with 1 Axes>"
      ]
     },
     "metadata": {},
     "output_type": "display_data"
    }
   ],
   "source": [
    "visualize_scatter_plot(\"/home/francesco.pugnaloni/GNNTE/run_data/gen_emb_seq/emb_speed_wiki_and_git.pkl\")"
   ]
  },
  {
   "cell_type": "code",
   "execution_count": 20,
   "metadata": {},
   "outputs": [
    {
     "data": {
      "image/png": "[encoded data removed]",
      "text/plain": [
       "<Figure size 640x480 with 1 Axes>"
      ]
     },
     "metadata": {},
     "output_type": "display_data"
    }
   ],
   "source": [
    "visualize_scatter_plot(\"/home/francesco.pugnaloni/GNNTE/run_data/gen_emb_seq/emb_speed_gittables_800k.pkl\")"
   ]
  },
  {
   "cell_type": "code",
   "execution_count": 21,
   "metadata": {},
   "outputs": [
    {
     "data": {
      "image/png": "[encoded data removed]",
      "text/plain": [
       "<Figure size 640x480 with 1 Axes>"
      ]
     },
     "metadata": {},
     "output_type": "display_data"
    }
   ],
   "source": [
    "visualize_scatter_plot(\"/home/francesco.pugnaloni/GNNTE/run_data/gen_emb_seq/emb_speed_wikidata_1M.pkl\")"
   ]
  },
  {
   "cell_type": "code",
   "execution_count": 5,
   "metadata": {},
   "outputs": [
    {
     "data": {
      "image/png": "[encoded data removed]",
      "text/plain": [
       "<Figure size 640x480 with 1 Axes>"
      ]
     },
     "metadata": {},
     "output_type": "display_data"
    }
   ],
   "source": [
    "visualize_scatter_plot(\"/home/francesco.pugnaloni/GNNTE/Datasets/just_1k_tables_stats.pkl\")"
   ]
  },
  {
   "cell_type": "code",
   "execution_count": 22,
   "metadata": {},
   "outputs": [],
   "source": [
    "l = list(data.keys())\n",
    "slow_tables = []\n",
    "for k in l:\n",
    "    if data[k]['t_tot'] > 500:\n",
    "        slow_tables.append(k)"
   ]
  },
  {
   "cell_type": "code",
   "execution_count": 23,
   "metadata": {},
   "outputs": [
    {
     "data": {
      "text/plain": [
       "14"
      ]
     },
     "execution_count": 23,
     "metadata": {},
     "output_type": "execute_result"
    }
   ],
   "source": [
    "len(slow_tables)"
   ]
  },
  {
   "cell_type": "code",
   "execution_count": 24,
   "metadata": {},
   "outputs": [
    {
     "data": {
      "text/plain": [
       "['usance_csv_licensed.zip_porter-test.csv',\n",
       " 'data_rate_csv_licensed.zip_Constants_20201220.csv',\n",
       " 'rotational_latency_csv_licensed.zip_abstract_vocabulary_3.csv',\n",
       " 'rotational_latency_csv_licensed.zip_abstract_vocabulary_2.csv',\n",
       " 'centripetal_acceleration_csv_licensed.zip_abstract_vocabulary.csv',\n",
       " 'kilohertz_csv_licensed.zip_lexID.csv',\n",
       " 'episcopate_csv_licensed.zip_paicehusk.csv',\n",
       " 'data_rate_csv_licensed.zip_Constants_1.csv',\n",
       " 'kilohertz_csv_licensed.zip_lexup.csv',\n",
       " 'usance_csv_licensed.zip_nouns_1.csv',\n",
       " 'musth_csv_licensed.zip_nouns_1.csv',\n",
       " 'kilohertz_csv_licensed.zip_abstract_vocabulary.csv',\n",
       " 'usance_csv_licensed.zip_bubble-winter.csv',\n",
       " 'hypervelocity_csv_licensed.zip_abstract_vocabulary.csv']"
      ]
     },
     "execution_count": 24,
     "metadata": {},
     "output_type": "execute_result"
    }
   ],
   "source": [
    "slow_tables"
   ]
  },
  {
   "cell_type": "code",
   "execution_count": 15,
   "metadata": {},
   "outputs": [],
   "source": [
    "import pandas as pd\n",
    "df = pd.read_csv('/data/gittables/csv/kilohertz_csv_licensed.zip_abstract_vocabulary.csv')"
   ]
  },
  {
   "cell_type": "code",
   "execution_count": 16,
   "metadata": {},
   "outputs": [
    {
     "data": {
      "text/plain": [
       "(33662, 2)"
      ]
     },
     "execution_count": 16,
     "metadata": {},
     "output_type": "execute_result"
    }
   ],
   "source": [
    "df.shape"
   ]
  },
  {
   "cell_type": "code",
   "execution_count": 17,
   "metadata": {},
   "outputs": [
    {
     "data": {
      "text/html": [
       "<div>\n",
       "<style scoped>\n",
       "    .dataframe tbody tr th:only-of-type {\n",
       "        vertical-align: middle;\n",
       "    }\n",
       "\n",
       "    .dataframe tbody tr th {\n",
       "        vertical-align: top;\n",
       "    }\n",
       "\n",
       "    .dataframe thead th {\n",
       "        text-align: right;\n",
       "    }\n",
       "</style>\n",
       "<table border=\"1\" class=\"dataframe\">\n",
       "  <thead>\n",
       "    <tr style=\"text-align: right;\">\n",
       "      <th></th>\n",
       "      <th>word</th>\n",
       "      <th>count</th>\n",
       "    </tr>\n",
       "  </thead>\n",
       "  <tbody>\n",
       "    <tr>\n",
       "      <th>0</th>\n",
       "      <td>the</td>\n",
       "      <td>66358</td>\n",
       "    </tr>\n",
       "    <tr>\n",
       "      <th>1</th>\n",
       "      <td>of</td>\n",
       "      <td>43288</td>\n",
       "    </tr>\n",
       "    <tr>\n",
       "      <th>2</th>\n",
       "      <td>and</td>\n",
       "      <td>25672</td>\n",
       "    </tr>\n",
       "    <tr>\n",
       "      <th>3</th>\n",
       "      <td>a</td>\n",
       "      <td>22329</td>\n",
       "    </tr>\n",
       "    <tr>\n",
       "      <th>4</th>\n",
       "      <td>to</td>\n",
       "      <td>19495</td>\n",
       "    </tr>\n",
       "    <tr>\n",
       "      <th>...</th>\n",
       "      <td>...</td>\n",
       "      <td>...</td>\n",
       "    </tr>\n",
       "    <tr>\n",
       "      <th>33657</th>\n",
       "      <td>HMXB</td>\n",
       "      <td>1</td>\n",
       "    </tr>\n",
       "    <tr>\n",
       "      <th>33658</th>\n",
       "      <td>propelling</td>\n",
       "      <td>1</td>\n",
       "    </tr>\n",
       "    <tr>\n",
       "      <th>33659</th>\n",
       "      <td>demystifying</td>\n",
       "      <td>1</td>\n",
       "    </tr>\n",
       "    <tr>\n",
       "      <th>33660</th>\n",
       "      <td>cemented</td>\n",
       "      <td>1</td>\n",
       "    </tr>\n",
       "    <tr>\n",
       "      <th>33661</th>\n",
       "      <td>A390</td>\n",
       "      <td>1</td>\n",
       "    </tr>\n",
       "  </tbody>\n",
       "</table>\n",
       "<p>33662 rows × 2 columns</p>\n",
       "</div>"
      ],
      "text/plain": [
       "               word  count\n",
       "0               the  66358\n",
       "1                of  43288\n",
       "2               and  25672\n",
       "3                 a  22329\n",
       "4                to  19495\n",
       "...             ...    ...\n",
       "33657          HMXB      1\n",
       "33658    propelling      1\n",
       "33659  demystifying      1\n",
       "33660      cemented      1\n",
       "33661          A390      1\n",
       "\n",
       "[33662 rows x 2 columns]"
      ]
     },
     "execution_count": 17,
     "metadata": {},
     "output_type": "execute_result"
    }
   ],
   "source": [
    "df"
   ]
  },
  {
   "cell_type": "code",
   "execution_count": 18,
   "metadata": {},
   "outputs": [
    {
     "data": {
      "text/plain": [
       "23810.37712097168"
      ]
     },
     "execution_count": 18,
     "metadata": {},
     "output_type": "execute_result"
    }
   ],
   "source": [
    "data['seek_time_csv_licensed.zip_PL1331LAGTVVLH.csv']['t_tot']"
   ]
  },
  {
   "cell_type": "code",
   "execution_count": 19,
   "metadata": {},
   "outputs": [
    {
     "data": {
      "text/plain": [
       "23807.546854019165"
      ]
     },
     "execution_count": 19,
     "metadata": {},
     "output_type": "execute_result"
    }
   ],
   "source": [
    "data['seek_time_csv_licensed.zip_PL1331LAGTVVLH.csv']['t_graph_gen']"
   ]
  },
  {
   "cell_type": "code",
   "execution_count": 20,
   "metadata": {},
   "outputs": [
    {
     "data": {
      "text/plain": [
       "2.8295516967773438"
      ]
     },
     "execution_count": 20,
     "metadata": {},
     "output_type": "execute_result"
    }
   ],
   "source": [
    "data['seek_time_csv_licensed.zip_PL1331LAGTVVLH.csv']['t_emb_gen']"
   ]
  },
  {
   "cell_type": "code",
   "execution_count": null,
   "metadata": {},
   "outputs": [],
   "source": [
    "with open(\"/home/francesco.pugnaloni/GNNTE/Datasets/gittables_datasets/gittables_full.pkl\", 'rb') as f:\n",
    "    gittables_dict = pickle.load(f)\n",
    "\n",
    "with open(\"/home/francesco.pugnaloni/GNNTE/Datasets/wikipedia_datasets/1MR/full_table_dict_with_id.pkl\", 'rb') as f:\n",
    "    wikidata_dict = pickle.load(f)"
   ]
  },
  {
   "cell_type": "code",
   "execution_count": 38,
   "metadata": {},
   "outputs": [
    {
     "name": "stderr",
     "output_type": "stream",
     "text": [
      "100%|██████████| 37/37 [00:00<00:00, 308527.33it/s]\n"
     ]
    }
   ],
   "source": [
    "from tqdm import tqdm\n",
    "slow_tables_dict = {}\n",
    "for k in tqdm(slow_tables):\n",
    "    try:\n",
    "        slow_tables_dict[k] = gittables_dict[k]\n",
    "    except:\n",
    "        slow_tables_dict[k] = wikidata_dict[k]"
   ]
  },
  {
   "cell_type": "code",
   "execution_count": 41,
   "metadata": {},
   "outputs": [],
   "source": [
    "with open('/home/francesco.pugnaloni/GNNTE/run_data/gen_emb_seq/slow_tables_dict.pkl', 'wb') as f:\n",
    "    pickle.dump(slow_tables_dict, f)"
   ]
  },
  {
   "cell_type": "code",
   "execution_count": 3,
   "metadata": {},
   "outputs": [],
   "source": [
    "from _script_embed_all_no_paral import run_experiment"
   ]
  },
  {
   "cell_type": "code",
   "execution_count": 4,
   "metadata": {},
   "outputs": [
    {
     "name": "stdout",
     "output_type": "stream",
     "text": [
      "Loading model....\n",
      "Model loaded\n",
      "Loading table_dict....\n",
      "table_dict loaded\n",
      "Loading embedding_buffer....\n",
      "Loading fasttext model, it will take 2/3 minutes\n"
     ]
    },
    {
     "name": "stderr",
     "output_type": "stream",
     "text": [
      "[nltk_data] Downloading package stopwords to\n",
      "[nltk_data]     /home/francesco.pugnaloni/nltk_data...\n",
      "[nltk_data]   Package stopwords is already up-to-date!\n"
     ]
    },
    {
     "name": "stdout",
     "output_type": "stream",
     "text": [
      "Model loaded\n",
      "embedding_buffer loaded....\n",
      "Loading string_token_preprocessor....\n",
      "string_token_preprocessor loaded\n"
     ]
    },
    {
     "name": "stderr",
     "output_type": "stream",
     "text": [
      "100%|██████████| 37/37 [01:45<00:00,  2.85s/it]\n"
     ]
    }
   ],
   "source": [
    "data = run_experiment(model_file='/home/francesco.pugnaloni/GNNTE/models/GNNTE_1M_thesis.pth', table_dict_path='/home/francesco.pugnaloni/GNNTE/run_data/gen_emb_seq/slow_tables_dict.pkl')"
   ]
  },
  {
   "cell_type": "code",
   "execution_count": 26,
   "metadata": {},
   "outputs": [],
   "source": [
    "import pickle\n",
    "with open(\"/home/francesco.pugnaloni/GNNTE/run_data/gen_emb_seq/slow_tables_dict.pkl\",'rb') as f:\n",
    "    t_dict = pickle.load(f)"
   ]
  },
  {
   "cell_type": "code",
   "execution_count": 23,
   "metadata": {},
   "outputs": [
    {
     "name": "stderr",
     "output_type": "stream",
     "text": [
      "/tmp/ipykernel_736305/2500401049.py:1: FutureWarning: Series.__getitem__ treating keys as positions is deprecated. In a future version, integer keys will always be treated as labels (consistent with DataFrame behavior). To access a value by position, use `ser.iloc[pos]`\n",
      "  kk = t_dict['hypervelocity_csv_licensed.zip_abstract_vocabulary.csv'].iloc[23817][0]\n"
     ]
    }
   ],
   "source": [
    "kk = t_dict['hypervelocity_csv_licensed.zip_abstract_vocabulary.csv'].iloc[23817][0]"
   ]
  },
  {
   "cell_type": "code",
   "execution_count": 17,
   "metadata": {},
   "outputs": [],
   "source": [
    "infini= float('infinity')"
   ]
  },
  {
   "cell_type": "code",
   "execution_count": 8,
   "metadata": {},
   "outputs": [
    {
     "data": {
      "text/plain": [
       "inf"
      ]
     },
     "execution_count": 8,
     "metadata": {},
     "output_type": "execute_result"
    }
   ],
   "source": [
    "infini"
   ]
  },
  {
   "cell_type": "code",
   "execution_count": 15,
   "metadata": {},
   "outputs": [
    {
     "data": {
      "text/plain": [
       "str"
      ]
     },
     "execution_count": 15,
     "metadata": {},
     "output_type": "execute_result"
    }
   ],
   "source": [
    "type(kk)"
   ]
  },
  {
   "cell_type": "code",
   "execution_count": 1,
   "metadata": {},
   "outputs": [
    {
     "name": "stderr",
     "output_type": "stream",
     "text": [
      "/home/francesco.pugnaloni/miniconda3/envs/GNNTE/lib/python3.11/site-packages/tqdm/auto.py:21: TqdmWarning: IProgress not found. Please update jupyter and ipywidgets. See https://ipywidgets.readthedocs.io/en/stable/user_install.html\n",
      "  from .autonotebook import tqdm as notebook_tqdm\n"
     ]
    }
   ],
   "source": [
    "from graph import is_float"
   ]
  },
  {
   "cell_type": "code",
   "execution_count": 11,
   "metadata": {},
   "outputs": [],
   "source": [
    "with open(\"/home/francesco.pugnaloni/GNNTE/run_data/gen_emb_seq/emb_speed_wiki_and_git.pkl\", 'rb') as f:\n",
    "    jkjk = pickle.load(f)"
   ]
  },
  {
   "cell_type": "code",
   "execution_count": 12,
   "metadata": {},
   "outputs": [],
   "source": [
    "l_ong = {}\n",
    "for k in jkjk.keys():\n",
    "    if jkjk[k]['area'] < 2000 and jkjk[k]['t_tot'] > 1000:\n",
    "        l_ong[k] = jkjk[k]"
   ]
  },
  {
   "cell_type": "code",
   "execution_count": 13,
   "metadata": {},
   "outputs": [
    {
     "data": {
      "text/plain": [
       "21"
      ]
     },
     "execution_count": 13,
     "metadata": {},
     "output_type": "execute_result"
    }
   ],
   "source": [
    "len(l_ong)"
   ]
  },
  {
   "cell_type": "code",
   "execution_count": 14,
   "metadata": {},
   "outputs": [
    {
     "name": "stdout",
     "output_type": "stream",
     "text": [
      "{'object_csv_licensed.zip_StatisticalDebugging_coverage_sd_1230.csv': {'n_rows': 43, 'n_cols': 1, 'area': 43, 't_graph_gen': 28.279781341552734, 't_emb_gen': 1436.767816543579, 't_tot': 1465.047836303711}, 'data_rate_csv_licensed.zip_funcs_by_name_190.csv': {'n_rows': 1489, 'n_cols': 1, 'area': 1489, 't_graph_gen': 16107.426404953003, 't_emb_gen': 2.8443336486816406, 't_tot': 16110.271692276001}, 'quick_time_csv_licensed.zip_watchpeoplesurvive.csv': {'n_rows': 989, 'n_cols': 2, 'area': 1978, 't_graph_gen': 16951.623916625977, 't_emb_gen': 2.978086471557617, 't_tot': 16954.60271835327}, 'then_csv_licensed.zip_Daily2013-12-21.csv': {'n_rows': 333, 'n_cols': 1, 'area': 333, 't_graph_gen': 18851.614713668823, 't_emb_gen': 2.805948257446289, 't_tot': 18854.421854019165}, 'data_rate_csv_licensed.zip_09-10_90.csv': {'n_rows': 68, 'n_cols': 11, 'area': 748, 't_graph_gen': 21767.95744895935, 't_emb_gen': 2.512693405151367, 't_tot': 21770.47038078308}, 'parent_csv_licensed.zip_01-02_958.csv': {'n_rows': 75, 'n_cols': 11, 'area': 825, 't_graph_gen': 25863.380908966064, 't_emb_gen': 2.5184154510498047, 't_tot': 25865.90027809143}, 'real_time_csv_licensed.zip_02-03_492.csv': {'n_rows': 71, 'n_cols': 11, 'area': 781, 't_graph_gen': 28609.392881393433, 't_emb_gen': 2.4750232696533203, 't_tot': 28611.868381500244}, 'show_time_csv_licensed.zip_messages_73.csv': {'n_rows': 276, 'n_cols': 4, 'area': 1104, 't_graph_gen': 32347.28193283081, 't_emb_gen': 3.1478404998779297, 't_tot': 32350.430727005005}, 'then_csv_licensed.zip_TO_Y1l7DviqEp0_comment.csv': {'n_rows': 135, 'n_cols': 4, 'area': 540, 't_graph_gen': 36300.68349838257, 't_emb_gen': 2.6416778564453125, 't_tot': 36303.32589149475}, 'real_time_csv_licensed.zip_23-24_237.csv': {'n_rows': 55, 'n_cols': 11, 'area': 605, 't_graph_gen': 41227.05030441284, 't_emb_gen': 2.9129981994628906, 't_tot': 41229.96377944946}, 'data_rate_csv_licensed.zip_20-21_233.csv': {'n_rows': 127, 'n_cols': 11, 'area': 1397, 't_graph_gen': 46704.41246032715, 't_emb_gen': 2.469778060913086, 't_tot': 46706.8829536438}, '0.41': {'n_rows': 15, 'n_cols': 2, 'area': 30, 't_graph_gen': 109.31587219238281, 't_emb_gen': 1165.9271717071533, 't_tot': 1275.2432823181152}, '70.15359': {'n_rows': 101, 'n_cols': 6, 'area': 606, 't_graph_gen': 4599.60412979126, 't_emb_gen': 2.2559165954589844, 't_tot': 4601.860284805298}, '94.78844': {'n_rows': 31, 'n_cols': 21, 'area': 651, 't_graph_gen': 5000.919342041016, 't_emb_gen': 2.323150634765625, 't_tot': 5003.243207931519}, '137.36624': {'n_rows': 12, 'n_cols': 7, 'area': 84, 't_graph_gen': 5178.197622299194, 't_emb_gen': 2.250194549560547, 't_tot': 5180.448770523071}, '178.8189': {'n_rows': 4, 'n_cols': 70, 'area': 280, 't_graph_gen': 5490.077972412109, 't_emb_gen': 2.195596694946289, 't_tot': 5492.274045944214}, '224.19654': {'n_rows': 21, 'n_cols': 10, 'area': 210, 't_graph_gen': 5754.5106410980225, 't_emb_gen': 2.211332321166992, 't_tot': 5756.722450256348}, '303.72448': {'n_rows': 24, 'n_cols': 7, 'area': 168, 't_graph_gen': 6220.364093780518, 't_emb_gen': 2.185821533203125, 't_tot': 6222.5501537323}, '357.49724': {'n_rows': 91, 'n_cols': 6, 'area': 546, 't_graph_gen': 6742.148876190186, 't_emb_gen': 2.1941661834716797, 't_tot': 6744.343519210815}, '413.114694': {'n_rows': 18, 'n_cols': 9, 'area': 162, 't_graph_gen': 7308.420658111572, 't_emb_gen': 2.2249221801757812, 't_tot': 7310.646772384644}, '478.114425': {'n_rows': 12, 'n_cols': 13, 'area': 156, 't_graph_gen': 8081.307411193848, 't_emb_gen': 2.1545886993408203, 't_tot': 8083.462238311768}}\n"
     ]
    }
   ],
   "source": [
    "print(l_ong)"
   ]
  },
  {
   "cell_type": "code",
   "execution_count": 2,
   "metadata": {},
   "outputs": [],
   "source": [
    "import pickle\n",
    "with open(\"/home/francesco.pugnaloni/GNNTE/Datasets/gittables_datasets/gittables_full.pkl\", 'rb') as f:\n",
    "    gittables_dict = pickle.load(f)\n",
    "\n",
    "with open(\"/home/francesco.pugnaloni/GNNTE/Datasets/wikipedia_datasets/1MR/full_table_dict_with_id.pkl\", 'rb') as f:\n",
    "    wikidata_dict = pickle.load(f)\n"
   ]
  },
  {
   "cell_type": "code",
   "execution_count": 35,
   "metadata": {},
   "outputs": [
    {
     "data": {
      "text/plain": [
       "856227"
      ]
     },
     "execution_count": 35,
     "metadata": {},
     "output_type": "execute_result"
    }
   ],
   "source": [
    "len(gittables_dict)"
   ]
  },
  {
   "cell_type": "code",
   "execution_count": 36,
   "metadata": {},
   "outputs": [
    {
     "data": {
      "text/plain": [
       "518183"
      ]
     },
     "execution_count": 36,
     "metadata": {},
     "output_type": "execute_result"
    }
   ],
   "source": [
    "len(wikidata_dict)"
   ]
  },
  {
   "cell_type": "code",
   "execution_count": 37,
   "metadata": {},
   "outputs": [],
   "source": [
    "gittables_dict.update(wikidata_dict)"
   ]
  },
  {
   "cell_type": "code",
   "execution_count": 38,
   "metadata": {},
   "outputs": [
    {
     "data": {
      "text/plain": [
       "1374410"
      ]
     },
     "execution_count": 38,
     "metadata": {},
     "output_type": "execute_result"
    }
   ],
   "source": [
    "len(gittables_dict)"
   ]
  },
  {
   "cell_type": "code",
   "execution_count": 39,
   "metadata": {},
   "outputs": [],
   "source": [
    "with open('/home/francesco.pugnaloni/GNNTE/Datasets/CoreEvaluationDatasets/git_wiki_joined/git_wiki_joined.pkl', 'wb') as f:\n",
    "    pickle.dump(gittables_dict, f)"
   ]
  },
  {
   "cell_type": "code",
   "execution_count": 15,
   "metadata": {},
   "outputs": [
    {
     "name": "stderr",
     "output_type": "stream",
     "text": [
      "100%|██████████| 21/21 [00:00<00:00, 158133.54it/s]\n"
     ]
    }
   ],
   "source": [
    "from tqdm import tqdm\n",
    "slow_tables_dict = {}\n",
    "for k in tqdm(list(l_ong.keys())):\n",
    "    try:\n",
    "        slow_tables_dict[k] = gittables_dict[k]\n",
    "    except:\n",
    "        slow_tables_dict[k] = wikidata_dict[k]"
   ]
  },
  {
   "cell_type": "code",
   "execution_count": 16,
   "metadata": {},
   "outputs": [],
   "source": [
    "from _script_embed_all_no_paral import run_experiment"
   ]
  },
  {
   "cell_type": "code",
   "execution_count": 10,
   "metadata": {},
   "outputs": [
    {
     "name": "stdout",
     "output_type": "stream",
     "text": [
      "Loading model....\n",
      "Model loaded\n",
      "Loading table_dict....\n",
      "table_dict loaded\n",
      "Loading embedding_buffer....\n",
      "Loading fasttext model, it will take 2/3 minutes\n"
     ]
    },
    {
     "name": "stderr",
     "output_type": "stream",
     "text": [
      "[nltk_data] Downloading package stopwords to\n",
      "[nltk_data]     /home/francesco.pugnaloni/nltk_data...\n",
      "[nltk_data]   Package stopwords is already up-to-date!\n"
     ]
    },
    {
     "name": "stdout",
     "output_type": "stream",
     "text": [
      "Model loaded\n",
      "embedding_buffer loaded....\n",
      "Loading string_token_preprocessor....\n",
      "string_token_preprocessor loaded\n"
     ]
    },
    {
     "name": "stderr",
     "output_type": "stream",
     "text": [
      "100%|██████████| 21/21 [00:02<00:00,  7.59it/s]\n"
     ]
    }
   ],
   "source": [
    "res = run_experiment(model_file='/home/francesco.pugnaloni/GNNTE/models/GNNTE_1M_thesis.pth', table_dict_path=slow_tables_dict)"
   ]
  },
  {
   "cell_type": "code",
   "execution_count": 17,
   "metadata": {},
   "outputs": [
    {
     "data": {
      "text/plain": [
       "{'object_csv_licensed.zip_StatisticalDebugging_coverage_sd_1230.csv': {'n_rows': 43,\n",
       "  'n_cols': 1,\n",
       "  'area': 43,\n",
       "  't_graph_gen': 29.694795608520508,\n",
       "  't_emb_gen': 1315.1171207427979,\n",
       "  't_tot': 1344.8126316070557},\n",
       " 'data_rate_csv_licensed.zip_funcs_by_name_190.csv': {'n_rows': 1489,\n",
       "  'n_cols': 1,\n",
       "  'area': 1489,\n",
       "  't_graph_gen': 266.7825222015381,\n",
       "  't_emb_gen': 3.679513931274414,\n",
       "  't_tot': 270.463228225708},\n",
       " 'quick_time_csv_licensed.zip_watchpeoplesurvive.csv': {'n_rows': 989,\n",
       "  'n_cols': 2,\n",
       "  'area': 1978,\n",
       "  't_graph_gen': 270.7552909851074,\n",
       "  't_emb_gen': 3.1676292419433594,\n",
       "  't_tot': 273.923397064209},\n",
       " 'then_csv_licensed.zip_Daily2013-12-21.csv': {'n_rows': 333,\n",
       "  'n_cols': 1,\n",
       "  'area': 333,\n",
       "  't_graph_gen': 74.38421249389648,\n",
       "  't_emb_gen': 85.16430854797363,\n",
       "  't_tot': 159.54899787902832},\n",
       " 'data_rate_csv_licensed.zip_09-10_90.csv': {'n_rows': 68,\n",
       "  'n_cols': 11,\n",
       "  'area': 748,\n",
       "  't_graph_gen': 66.14494323730469,\n",
       "  't_emb_gen': 2.6407241821289062,\n",
       "  't_tot': 68.7859058380127},\n",
       " 'parent_csv_licensed.zip_01-02_958.csv': {'n_rows': 75,\n",
       "  'n_cols': 11,\n",
       "  'area': 825,\n",
       "  't_graph_gen': 71.74897193908691,\n",
       "  't_emb_gen': 2.610445022583008,\n",
       "  't_tot': 74.35989379882812},\n",
       " 'real_time_csv_licensed.zip_02-03_492.csv': {'n_rows': 71,\n",
       "  'n_cols': 11,\n",
       "  'area': 781,\n",
       "  't_graph_gen': 69.62823867797852,\n",
       "  't_emb_gen': 2.5320053100585938,\n",
       "  't_tot': 72.16072082519531},\n",
       " 'show_time_csv_licensed.zip_messages_73.csv': {'n_rows': 276,\n",
       "  'n_cols': 4,\n",
       "  'area': 1104,\n",
       "  't_graph_gen': 76.7679214477539,\n",
       "  't_emb_gen': 2.5451183319091797,\n",
       "  't_tot': 79.31351661682129},\n",
       " 'then_csv_licensed.zip_TO_Y1l7DviqEp0_comment.csv': {'n_rows': 135,\n",
       "  'n_cols': 4,\n",
       "  'area': 540,\n",
       "  't_graph_gen': 76.97653770446777,\n",
       "  't_emb_gen': 2.5408267974853516,\n",
       "  't_tot': 79.51784133911133},\n",
       " 'real_time_csv_licensed.zip_23-24_237.csv': {'n_rows': 55,\n",
       "  'n_cols': 11,\n",
       "  'area': 605,\n",
       "  't_graph_gen': 49.40223693847656,\n",
       "  't_emb_gen': 2.391338348388672,\n",
       "  't_tot': 51.793813705444336},\n",
       " 'data_rate_csv_licensed.zip_20-21_233.csv': {'n_rows': 127,\n",
       "  'n_cols': 11,\n",
       "  'area': 1397,\n",
       "  't_graph_gen': 110.59355735778809,\n",
       "  't_emb_gen': 2.369403839111328,\n",
       "  't_tot': 112.96343803405762},\n",
       " '0.41': {'n_rows': 15,\n",
       "  'n_cols': 2,\n",
       "  'area': 30,\n",
       "  't_graph_gen': 3.7364959716796875,\n",
       "  't_emb_gen': 1.8270015716552734,\n",
       "  't_tot': 5.563974380493164},\n",
       " '70.15359': {'n_rows': 101,\n",
       "  'n_cols': 6,\n",
       "  'area': 606,\n",
       "  't_graph_gen': 46.056509017944336,\n",
       "  't_emb_gen': 2.0818710327148438,\n",
       "  't_tot': 48.13861846923828},\n",
       " '94.78844': {'n_rows': 31,\n",
       "  'n_cols': 21,\n",
       "  'area': 651,\n",
       "  't_graph_gen': 27.750015258789062,\n",
       "  't_emb_gen': 1.8992424011230469,\n",
       "  't_tot': 29.64949607849121},\n",
       " '137.36624': {'n_rows': 12,\n",
       "  'n_cols': 7,\n",
       "  'area': 84,\n",
       "  't_graph_gen': 7.886409759521484,\n",
       "  't_emb_gen': 1.8374919891357422,\n",
       "  't_tot': 9.724140167236328},\n",
       " '178.8189': {'n_rows': 4,\n",
       "  'n_cols': 70,\n",
       "  'area': 280,\n",
       "  't_graph_gen': 12.413978576660156,\n",
       "  't_emb_gen': 1.8639564514160156,\n",
       "  't_tot': 14.278173446655273},\n",
       " '224.19654': {'n_rows': 21,\n",
       "  'n_cols': 10,\n",
       "  'area': 210,\n",
       "  't_graph_gen': 11.792659759521484,\n",
       "  't_emb_gen': 1.8658638000488281,\n",
       "  't_tot': 13.658761978149414},\n",
       " '303.72448': {'n_rows': 24,\n",
       "  'n_cols': 7,\n",
       "  'area': 168,\n",
       "  't_graph_gen': 9.581565856933594,\n",
       "  't_emb_gen': 1.8270015716552734,\n",
       "  't_tot': 11.40904426574707},\n",
       " '357.49724': {'n_rows': 91,\n",
       "  'n_cols': 6,\n",
       "  'area': 546,\n",
       "  't_graph_gen': 16.97254180908203,\n",
       "  't_emb_gen': 1.8720626831054688,\n",
       "  't_tot': 18.8448429107666},\n",
       " '413.114694': {'n_rows': 18,\n",
       "  'n_cols': 9,\n",
       "  'area': 162,\n",
       "  't_graph_gen': 10.046005249023438,\n",
       "  't_emb_gen': 1.8267631530761719,\n",
       "  't_tot': 11.873006820678711},\n",
       " '478.114425': {'n_rows': 12,\n",
       "  'n_cols': 13,\n",
       "  'area': 156,\n",
       "  't_graph_gen': 7.9822540283203125,\n",
       "  't_emb_gen': 1.8062591552734375,\n",
       "  't_tot': 9.788751602172852}}"
      ]
     },
     "execution_count": 17,
     "metadata": {},
     "output_type": "execute_result"
    }
   ],
   "source": [
    "res"
   ]
  },
  {
   "cell_type": "code",
   "execution_count": 18,
   "metadata": {},
   "outputs": [
    {
     "data": {
      "text/plain": [
       "21"
      ]
     },
     "execution_count": 18,
     "metadata": {},
     "output_type": "execute_result"
    }
   ],
   "source": [
    "len(res)"
   ]
  },
  {
   "cell_type": "code",
   "execution_count": 20,
   "metadata": {},
   "outputs": [
    {
     "name": "stdout",
     "output_type": "stream",
     "text": [
      "object_csv_licensed.zip_StatisticalDebugging_coverage_sd_1230.csv:43:1344.8126316070557\n",
      "data_rate_csv_licensed.zip_funcs_by_name_190.csv:1489:270.463228225708\n",
      "quick_time_csv_licensed.zip_watchpeoplesurvive.csv:1978:273.923397064209\n",
      "then_csv_licensed.zip_Daily2013-12-21.csv:333:159.54899787902832\n",
      "data_rate_csv_licensed.zip_09-10_90.csv:748:68.7859058380127\n",
      "parent_csv_licensed.zip_01-02_958.csv:825:74.35989379882812\n",
      "real_time_csv_licensed.zip_02-03_492.csv:781:72.16072082519531\n",
      "show_time_csv_licensed.zip_messages_73.csv:1104:79.31351661682129\n",
      "then_csv_licensed.zip_TO_Y1l7DviqEp0_comment.csv:540:79.51784133911133\n",
      "real_time_csv_licensed.zip_23-24_237.csv:605:51.793813705444336\n",
      "data_rate_csv_licensed.zip_20-21_233.csv:1397:112.96343803405762\n",
      "0.41:30:5.563974380493164\n",
      "70.15359:606:48.13861846923828\n",
      "94.78844:651:29.64949607849121\n",
      "137.36624:84:9.724140167236328\n",
      "178.8189:280:14.278173446655273\n",
      "224.19654:210:13.658761978149414\n",
      "303.72448:168:11.40904426574707\n",
      "357.49724:546:18.8448429107666\n",
      "413.114694:162:11.873006820678711\n",
      "478.114425:156:9.788751602172852\n"
     ]
    }
   ],
   "source": [
    "for k in res:\n",
    "    print(f\"{k}:{res[k]['area']}:{res[k]['t_tot']}\")"
   ]
  },
  {
   "cell_type": "code",
   "execution_count": 26,
   "metadata": {},
   "outputs": [
    {
     "data": {
      "text/html": [
       "<div>\n",
       "<style scoped>\n",
       "    .dataframe tbody tr th:only-of-type {\n",
       "        vertical-align: middle;\n",
       "    }\n",
       "\n",
       "    .dataframe tbody tr th {\n",
       "        vertical-align: top;\n",
       "    }\n",
       "\n",
       "    .dataframe thead th {\n",
       "        text-align: right;\n",
       "    }\n",
       "</style>\n",
       "<table border=\"1\" class=\"dataframe\">\n",
       "  <thead>\n",
       "    <tr style=\"text-align: right;\">\n",
       "      <th></th>\n",
       "      <th></th>\n",
       "      <th></th>\n",
       "      <th></th>\n",
       "      <th>line\\toriginal_score\\tmax_predicate_score\\ttotal\\tpredicate\\tlabel</th>\n",
       "    </tr>\n",
       "  </thead>\n",
       "  <tbody>\n",
       "    <tr>\n",
       "      <th rowspan=\"5\" valign=\"top\">org.apache.commons.math3.optimization.direct.CMAESOptimizer</th>\n",
       "      <th>double</th>\n",
       "      <th>max</th>\n",
       "      <th>?,RealMatrix</th>\n",
       "      <td>1270\\t0.0\\t1.8823529411764706\\t0.3764705882352...</td>\n",
       "    </tr>\n",
       "    <tr>\n",
       "      <th>?</th>\n",
       "      <th>CMAESOptimizer</th>\n",
       "      <th>?,int,double[],int,double,boolean,int,int,RandomGenerator,boolean,ConvergenceChecker&lt;PointValuePair&gt;</th>\n",
       "      <td>319\\t0.0\\t0.92\\t0.18400000000000002\\tdiagonalO...</td>\n",
       "    </tr>\n",
       "    <tr>\n",
       "      <th>void</th>\n",
       "      <th>checkParameters</th>\n",
       "      <th>?</th>\n",
       "      <td>546\\t0.0\\t0.8999999999999999\\t0.18\\t!(inputSig...</td>\n",
       "    </tr>\n",
       "    <tr>\n",
       "      <th>RealMatrix</th>\n",
       "      <th>repmat</th>\n",
       "      <th>?,RealMatrix,int,int</th>\n",
       "      <td>1228\\t0.0\\t0.8823529411764706\\t0.1764705882352...</td>\n",
       "    </tr>\n",
       "    <tr>\n",
       "      <th>void</th>\n",
       "      <th>initializeCMA</th>\n",
       "      <th>?,double[]</th>\n",
       "      <td>599\\t0.0\\t0.8823529411764706\\t0.17647058823529...</td>\n",
       "    </tr>\n",
       "    <tr>\n",
       "      <th rowspan=\"3\" valign=\"top\">org.apache.commons.math3.optimization.direct.CMAESOptimizer$FitnessFunction</th>\n",
       "      <th>double[]</th>\n",
       "      <th>decode</th>\n",
       "      <th>?,double[]</th>\n",
       "      <td>939\\t0.0\\t0.38235294117647056\\t0.0764705882352...</td>\n",
       "    </tr>\n",
       "    <tr>\n",
       "      <th>double</th>\n",
       "      <th>value</th>\n",
       "      <th>?,double[]</th>\n",
       "      <td>956\\t0.0\\t0.38235294117647056\\t0.0764705882352...</td>\n",
       "    </tr>\n",
       "    <tr>\n",
       "      <th>double[]</th>\n",
       "      <th>encode</th>\n",
       "      <th>?,double[]</th>\n",
       "      <td>913\\t0.0\\t0.38235294117647056\\t0.0764705882352...</td>\n",
       "    </tr>\n",
       "    <tr>\n",
       "      <th>org.apache.commons.math3.optimization.direct.BaseAbstractMultivariateSimpleBoundsOptimizer</th>\n",
       "      <th>PointValuePair</th>\n",
       "      <th>optimize</th>\n",
       "      <th>?,int,FUNC,GoalType,double[],double[],double[]</th>\n",
       "      <td>122\\t0.0\\t0.14594594594594595\\t0.0291891891891...</td>\n",
       "    </tr>\n",
       "    <tr>\n",
       "      <th>org.apache.commons.math3.linear.Array2DRowRealMatrix</th>\n",
       "      <th>?</th>\n",
       "      <th>Array2DRowRealMatrix</th>\n",
       "      <th>?,double[][],boolean</th>\n",
       "      <td>112\\t0.0\\t0.03838383838383838\\t0.0076767676767...</td>\n",
       "    </tr>\n",
       "    <tr>\n",
       "      <th rowspan=\"2\" valign=\"top\">org.apache.commons.math3.linear.AbstractRealMatrix</th>\n",
       "      <th rowspan=\"2\" valign=\"top\">RealMatrix</th>\n",
       "      <th>scalarMultiply</th>\n",
       "      <th>?,double</th>\n",
       "      <td>127\\t0.0\\t0.022408963585434177\\t0.004481792717...</td>\n",
       "    </tr>\n",
       "    <tr>\n",
       "      <th>scalarAdd</th>\n",
       "      <th>?,double</th>\n",
       "      <td>113\\t0.0\\t0.012383900928792574\\t0.002476780185...</td>\n",
       "    </tr>\n",
       "    <tr>\n",
       "      <th>org.apache.commons.math3.util.FastMath</th>\n",
       "      <th>double</th>\n",
       "      <th>sqrt</th>\n",
       "      <th>?,double</th>\n",
       "      <td>375\\t0.0\\t0.004517006802721088\\t9.034013605442...</td>\n",
       "    </tr>\n",
       "    <tr>\n",
       "      <th rowspan=\"2\" valign=\"top\">org.apache.commons.math3.linear.Array2DRowRealMatrix</th>\n",
       "      <th rowspan=\"2\" valign=\"top\">double</th>\n",
       "      <th>getEntry</th>\n",
       "      <th>?,int,int</th>\n",
       "      <td>304\\t0.0\\t0.004188948306595365\\t8.377896613190...</td>\n",
       "    </tr>\n",
       "    <tr>\n",
       "      <th>walkInRowOrder</th>\n",
       "      <th>?,RealMatrixPreservingVisitor</th>\n",
       "      <td>407\\t0.0\\t0.0016859852476290849\\t3.37197049525...</td>\n",
       "    </tr>\n",
       "    <tr>\n",
       "      <th>org.apache.commons.math3.linear.AbstractRealMatrix</th>\n",
       "      <th>RealMatrix</th>\n",
       "      <th>transpose</th>\n",
       "      <th>?</th>\n",
       "      <td>599\\t0.0\\t0.0015915119363395236\\t3.18302387267...</td>\n",
       "    </tr>\n",
       "    <tr>\n",
       "      <th>org.apache.commons.math3.util.Incrementor</th>\n",
       "      <th>int</th>\n",
       "      <th>getMaximalCount</th>\n",
       "      <th>?</th>\n",
       "      <td>105\\t0.0\\t0.0015873015873015888\\t3.17460317460...</td>\n",
       "    </tr>\n",
       "    <tr>\n",
       "      <th rowspan=\"3\" valign=\"top\">org.apache.commons.math3.linear.AbstractRealMatrix</th>\n",
       "      <th>RealMatrix</th>\n",
       "      <th>multiply</th>\n",
       "      <th>?,RealMatrix</th>\n",
       "      <td>144\\t0.0\\t8.608321377331432E-4\\t1.721664275466...</td>\n",
       "    </tr>\n",
       "    <tr>\n",
       "      <th>double</th>\n",
       "      <th>walkInOptimizedOrder</th>\n",
       "      <th>?,RealMatrixPreservingVisitor</th>\n",
       "      <td>873\\t0.0\\t9.318796011555282E-5\\t1.863759202311...</td>\n",
       "    </tr>\n",
       "    <tr>\n",
       "      <th>?</th>\n",
       "      <th>AbstractRealMatrix</th>\n",
       "      <th>?,int,int</th>\n",
       "      <td>68\\t0.0\\t1.2223444566679051E-5\\t2.444688913335...</td>\n",
       "    </tr>\n",
       "    <tr>\n",
       "      <th>org.apache.commons.math3.util.Incrementor</th>\n",
       "      <th>void</th>\n",
       "      <th>incrementCount</th>\n",
       "      <th>?</th>\n",
       "      <td>155\\t0.0\\t7.6145224171542125E-6\\t1.52290448343...</td>\n",
       "    </tr>\n",
       "    <tr>\n",
       "      <th>org.apache.commons.math3.exception.util.ArgUtils</th>\n",
       "      <th>Object[]</th>\n",
       "      <th>flatten</th>\n",
       "      <th>?,Object[]</th>\n",
       "      <td>43\\t0.0\\t0.0\\t0.0\\tarray != null\\t_</td>\n",
       "    </tr>\n",
       "    <tr>\n",
       "      <th>org.apache.commons.math3.linear.MatrixUtils</th>\n",
       "      <th>void</th>\n",
       "      <th>checkRowIndex</th>\n",
       "      <th>?,AnyMatrix,int</th>\n",
       "      <td>402\\t0.0\\t0.0\\t0.0\\t!(row &lt; 0 || row &gt;= m.getR...</td>\n",
       "    </tr>\n",
       "    <tr>\n",
       "      <th rowspan=\"2\" valign=\"top\">org.apache.commons.math3.optimization.direct.CMAESOptimizer</th>\n",
       "      <th rowspan=\"2\" valign=\"top\">RealMatrix</th>\n",
       "      <th>times</th>\n",
       "      <th>?,RealMatrix,RealMatrix</th>\n",
       "      <td>1081\\t0.0\\t0.0\\t0.0\\t!(c &lt; m.getColumnDimensio...</td>\n",
       "    </tr>\n",
       "    <tr>\n",
       "      <th>square</th>\n",
       "      <th>?,RealMatrix</th>\n",
       "      <td>1064\\t0.0\\t0.0\\t0.0\\t!(r &lt; m.getRowDimension()...</td>\n",
       "    </tr>\n",
       "    <tr>\n",
       "      <th rowspan=\"2\" valign=\"top\">org.apache.commons.math3.linear.Array2DRowRealMatrix</th>\n",
       "      <th rowspan=\"2\" valign=\"top\">int</th>\n",
       "      <th>getRowDimension</th>\n",
       "      <th>?</th>\n",
       "      <td>335\\t0.0\\t0.0\\t0.0\\t(data == null) ? 0 : data....</td>\n",
       "    </tr>\n",
       "    <tr>\n",
       "      <th>getColumnDimension</th>\n",
       "      <th>?</th>\n",
       "      <td>341\\t0.0\\t0.0\\t0.0\\t((data == null) || (data[0...</td>\n",
       "    </tr>\n",
       "    <tr>\n",
       "      <th>org.apache.commons.math3.optimization.direct.BaseAbstractMultivariateOptimizer</th>\n",
       "      <th>PointValuePair</th>\n",
       "      <th>optimizeInternal</th>\n",
       "      <th>?,int,MultivariateFunction,GoalType,double[]</th>\n",
       "      <td>128\\t0.0\\t0.0\\t0.0\\t!(f == null)\\t_</td>\n",
       "    </tr>\n",
       "    <tr>\n",
       "      <th>org.apache.commons.math3.linear.DefaultRealMatrixPreservingVisitor</th>\n",
       "      <th>double</th>\n",
       "      <th>end</th>\n",
       "      <th>?</th>\n",
       "      <td>41\\t0.0\\t0.0\\t0.0\\t0==0\\t_</td>\n",
       "    </tr>\n",
       "    <tr>\n",
       "      <th rowspan=\"2\" valign=\"top\">org.apache.commons.math3.optimization.direct.CMAESOptimizer</th>\n",
       "      <th rowspan=\"2\" valign=\"top\">RealMatrix</th>\n",
       "      <th>diag</th>\n",
       "      <th>?,RealMatrix</th>\n",
       "      <td>1155\\t0.0\\t0.0\\t0.0\\tm.getColumnDimension() ==...</td>\n",
       "    </tr>\n",
       "    <tr>\n",
       "      <th>eye</th>\n",
       "      <th>?,int,int</th>\n",
       "      <td>1204\\t0.0\\t0.0\\t0.0\\t!(r &lt; n)\\t_</td>\n",
       "    </tr>\n",
       "    <tr>\n",
       "      <th>org.apache.commons.math3.util.FastMath</th>\n",
       "      <th>double</th>\n",
       "      <th>nextAfter</th>\n",
       "      <th>?,double,double</th>\n",
       "      <td>3235\\t0.0\\t0.0\\t0.0\\t(direction &lt; d) ^ (sign =...</td>\n",
       "    </tr>\n",
       "    <tr>\n",
       "      <th>org.apache.commons.math3.optimization.direct.CMAESOptimizer</th>\n",
       "      <th>RealMatrix</th>\n",
       "      <th>log</th>\n",
       "      <th>?,RealMatrix</th>\n",
       "      <td>1035\\t0.0\\t0.0\\t0.0\\tr &lt; m.getRowDimension()\\t_</td>\n",
       "    </tr>\n",
       "    <tr>\n",
       "      <th>org.apache.commons.math3.linear.MatrixUtils</th>\n",
       "      <th>void</th>\n",
       "      <th>checkColumnIndex</th>\n",
       "      <th>?,AnyMatrix,int</th>\n",
       "      <td>418\\t0.0\\t0.0\\t0.0\\t!(column &lt; 0 || column &gt;= ...</td>\n",
       "    </tr>\n",
       "    <tr>\n",
       "      <th>org.apache.commons.math3.util.FastMath</th>\n",
       "      <th>double</th>\n",
       "      <th>nextUp</th>\n",
       "      <th>?,double</th>\n",
       "      <td>767\\t0.0\\t0.0\\t0.0\\tnextAfter(a,Double.POSITIV...</td>\n",
       "    </tr>\n",
       "    <tr>\n",
       "      <th>org.apache.commons.math3.util.Incrementor</th>\n",
       "      <th>?</th>\n",
       "      <th>Incrementor</th>\n",
       "      <th>?,int,MaxCountExceededCallback</th>\n",
       "      <td>81\\t0.0\\t0.0\\t0.0\\t!(cb == null)\\t_</td>\n",
       "    </tr>\n",
       "    <tr>\n",
       "      <th>org.apache.commons.math3.optimization.direct.CMAESOptimizer</th>\n",
       "      <th>RealMatrix</th>\n",
       "      <th>ones</th>\n",
       "      <th>?,int,int</th>\n",
       "      <td>1191\\t0.0\\t0.0\\t0.0\\tr &lt; n\\t_</td>\n",
       "    </tr>\n",
       "    <tr>\n",
       "      <th>org.apache.commons.math3.optimization.direct.CMAESOptimizer$FitnessFunction</th>\n",
       "      <th>double[]</th>\n",
       "      <th>repair</th>\n",
       "      <th>?,double[]</th>\n",
       "      <td>1003\\t0.0\\t0.0\\t0.0\\t!(x[i] &gt; 1.0)\\t_</td>\n",
       "    </tr>\n",
       "    <tr>\n",
       "      <th>org.apache.commons.math3.optimization.direct.BaseAbstractMultivariateOptimizer</th>\n",
       "      <th>int</th>\n",
       "      <th>getMaxEvaluations</th>\n",
       "      <th>?</th>\n",
       "      <td>72\\t0.0\\t0.0\\t0.0\\tevaluations.getMaximalCount...</td>\n",
       "    </tr>\n",
       "    <tr>\n",
       "      <th rowspan=\"2\" valign=\"top\">org.apache.commons.math3.linear.MatrixUtils</th>\n",
       "      <th>RealMatrix</th>\n",
       "      <th>createColumnRealMatrix</th>\n",
       "      <th>?,double[]</th>\n",
       "      <td>344\\t0.0\\t0.0\\t0.0\\ti &lt; nRows\\t_</td>\n",
       "    </tr>\n",
       "    <tr>\n",
       "      <th>void</th>\n",
       "      <th>checkMultiplicationCompatible</th>\n",
       "      <th>?,AnyMatrix,AnyMatrix</th>\n",
       "      <td>541\\t0.0\\t0.0\\t0.0\\t!(left.getColumnDimension(...</td>\n",
       "    </tr>\n",
       "    <tr>\n",
       "      <th>org.apache.commons.math3.optimization.direct.BaseAbstractMultivariateOptimizer</th>\n",
       "      <th>double</th>\n",
       "      <th>computeObjectiveValue</th>\n",
       "      <th>?,double[]</th>\n",
       "      <td>99\\t0.0\\t0.0\\t0.0\\tfunction.value(point)==0\\t_</td>\n",
       "    </tr>\n",
       "    <tr>\n",
       "      <th>org.apache.commons.math3.optimization.direct.CMAESOptimizer</th>\n",
       "      <th>RealMatrix</th>\n",
       "      <th>sequence</th>\n",
       "      <th>?,double,double,double</th>\n",
       "      <td>1251\\t0.0\\t0.0\\t0.0\\tstep==start\\t_</td>\n",
       "    </tr>\n",
       "  </tbody>\n",
       "</table>\n",
       "</div>"
      ],
      "text/plain": [
       "                                                                                                                                                   line\\toriginal_score\\tmax_predicate_score\\ttotal\\tpredicate\\tlabel\n",
       "org.apache.commons.math3.optimization.direct.CM... double         max                           ?,RealMatrix                                        1270\\t0.0\\t1.8823529411764706\\t0.3764705882352...                \n",
       "                                                   ?              CMAESOptimizer                ?,int,double[],int,double,boolean,int,int,Rando...  319\\t0.0\\t0.92\\t0.18400000000000002\\tdiagonalO...                \n",
       "                                                   void           checkParameters               ?                                                   546\\t0.0\\t0.8999999999999999\\t0.18\\t!(inputSig...                \n",
       "                                                   RealMatrix     repmat                        ?,RealMatrix,int,int                                1228\\t0.0\\t0.8823529411764706\\t0.1764705882352...                \n",
       "                                                   void           initializeCMA                 ?,double[]                                          599\\t0.0\\t0.8823529411764706\\t0.17647058823529...                \n",
       "org.apache.commons.math3.optimization.direct.CM... double[]       decode                        ?,double[]                                          939\\t0.0\\t0.38235294117647056\\t0.0764705882352...                \n",
       "                                                   double         value                         ?,double[]                                          956\\t0.0\\t0.38235294117647056\\t0.0764705882352...                \n",
       "                                                   double[]       encode                        ?,double[]                                          913\\t0.0\\t0.38235294117647056\\t0.0764705882352...                \n",
       "org.apache.commons.math3.optimization.direct.Ba... PointValuePair optimize                      ?,int,FUNC,GoalType,double[],double[],double[]      122\\t0.0\\t0.14594594594594595\\t0.0291891891891...                \n",
       "org.apache.commons.math3.linear.Array2DRowRealM... ?              Array2DRowRealMatrix          ?,double[][],boolean                                112\\t0.0\\t0.03838383838383838\\t0.0076767676767...                \n",
       "org.apache.commons.math3.linear.AbstractRealMatrix RealMatrix     scalarMultiply                ?,double                                            127\\t0.0\\t0.022408963585434177\\t0.004481792717...                \n",
       "                                                                  scalarAdd                     ?,double                                            113\\t0.0\\t0.012383900928792574\\t0.002476780185...                \n",
       "org.apache.commons.math3.util.FastMath             double         sqrt                          ?,double                                            375\\t0.0\\t0.004517006802721088\\t9.034013605442...                \n",
       "org.apache.commons.math3.linear.Array2DRowRealM... double         getEntry                      ?,int,int                                           304\\t0.0\\t0.004188948306595365\\t8.377896613190...                \n",
       "                                                                  walkInRowOrder                ?,RealMatrixPreservingVisitor                       407\\t0.0\\t0.0016859852476290849\\t3.37197049525...                \n",
       "org.apache.commons.math3.linear.AbstractRealMatrix RealMatrix     transpose                     ?                                                   599\\t0.0\\t0.0015915119363395236\\t3.18302387267...                \n",
       "org.apache.commons.math3.util.Incrementor          int            getMaximalCount               ?                                                   105\\t0.0\\t0.0015873015873015888\\t3.17460317460...                \n",
       "org.apache.commons.math3.linear.AbstractRealMatrix RealMatrix     multiply                      ?,RealMatrix                                        144\\t0.0\\t8.608321377331432E-4\\t1.721664275466...                \n",
       "                                                   double         walkInOptimizedOrder          ?,RealMatrixPreservingVisitor                       873\\t0.0\\t9.318796011555282E-5\\t1.863759202311...                \n",
       "                                                   ?              AbstractRealMatrix            ?,int,int                                           68\\t0.0\\t1.2223444566679051E-5\\t2.444688913335...                \n",
       "org.apache.commons.math3.util.Incrementor          void           incrementCount                ?                                                   155\\t0.0\\t7.6145224171542125E-6\\t1.52290448343...                \n",
       "org.apache.commons.math3.exception.util.ArgUtils   Object[]       flatten                       ?,Object[]                                                        43\\t0.0\\t0.0\\t0.0\\tarray != null\\t_                \n",
       "org.apache.commons.math3.linear.MatrixUtils        void           checkRowIndex                 ?,AnyMatrix,int                                     402\\t0.0\\t0.0\\t0.0\\t!(row < 0 || row >= m.getR...                \n",
       "org.apache.commons.math3.optimization.direct.CM... RealMatrix     times                         ?,RealMatrix,RealMatrix                             1081\\t0.0\\t0.0\\t0.0\\t!(c < m.getColumnDimensio...                \n",
       "                                                                  square                        ?,RealMatrix                                        1064\\t0.0\\t0.0\\t0.0\\t!(r < m.getRowDimension()...                \n",
       "org.apache.commons.math3.linear.Array2DRowRealM... int            getRowDimension               ?                                                   335\\t0.0\\t0.0\\t0.0\\t(data == null) ? 0 : data....                \n",
       "                                                                  getColumnDimension            ?                                                   341\\t0.0\\t0.0\\t0.0\\t((data == null) || (data[0...                \n",
       "org.apache.commons.math3.optimization.direct.Ba... PointValuePair optimizeInternal              ?,int,MultivariateFunction,GoalType,double[]                      128\\t0.0\\t0.0\\t0.0\\t!(f == null)\\t_                \n",
       "org.apache.commons.math3.linear.DefaultRealMatr... double         end                           ?                                                                          41\\t0.0\\t0.0\\t0.0\\t0==0\\t_                \n",
       "org.apache.commons.math3.optimization.direct.CM... RealMatrix     diag                          ?,RealMatrix                                        1155\\t0.0\\t0.0\\t0.0\\tm.getColumnDimension() ==...                \n",
       "                                                                  eye                           ?,int,int                                                            1204\\t0.0\\t0.0\\t0.0\\t!(r < n)\\t_                \n",
       "org.apache.commons.math3.util.FastMath             double         nextAfter                     ?,double,double                                     3235\\t0.0\\t0.0\\t0.0\\t(direction < d) ^ (sign =...                \n",
       "org.apache.commons.math3.optimization.direct.CM... RealMatrix     log                           ?,RealMatrix                                          1035\\t0.0\\t0.0\\t0.0\\tr < m.getRowDimension()\\t_                \n",
       "org.apache.commons.math3.linear.MatrixUtils        void           checkColumnIndex              ?,AnyMatrix,int                                     418\\t0.0\\t0.0\\t0.0\\t!(column < 0 || column >= ...                \n",
       "org.apache.commons.math3.util.FastMath             double         nextUp                        ?,double                                            767\\t0.0\\t0.0\\t0.0\\tnextAfter(a,Double.POSITIV...                \n",
       "org.apache.commons.math3.util.Incrementor          ?              Incrementor                   ?,int,MaxCountExceededCallback                                    81\\t0.0\\t0.0\\t0.0\\t!(cb == null)\\t_                \n",
       "org.apache.commons.math3.optimization.direct.CM... RealMatrix     ones                          ?,int,int                                                               1191\\t0.0\\t0.0\\t0.0\\tr < n\\t_                \n",
       "org.apache.commons.math3.optimization.direct.CM... double[]       repair                        ?,double[]                                                      1003\\t0.0\\t0.0\\t0.0\\t!(x[i] > 1.0)\\t_                \n",
       "org.apache.commons.math3.optimization.direct.Ba... int            getMaxEvaluations             ?                                                   72\\t0.0\\t0.0\\t0.0\\tevaluations.getMaximalCount...                \n",
       "org.apache.commons.math3.linear.MatrixUtils        RealMatrix     createColumnRealMatrix        ?,double[]                                                           344\\t0.0\\t0.0\\t0.0\\ti < nRows\\t_                \n",
       "                                                   void           checkMultiplicationCompatible ?,AnyMatrix,AnyMatrix                               541\\t0.0\\t0.0\\t0.0\\t!(left.getColumnDimension(...                \n",
       "org.apache.commons.math3.optimization.direct.Ba... double         computeObjectiveValue         ?,double[]                                             99\\t0.0\\t0.0\\t0.0\\tfunction.value(point)==0\\t_                \n",
       "org.apache.commons.math3.optimization.direct.CM... RealMatrix     sequence                      ?,double,double,double                                            1251\\t0.0\\t0.0\\t0.0\\tstep==start\\t_                "
      ]
     },
     "execution_count": 26,
     "metadata": {},
     "output_type": "execute_result"
    }
   ],
   "source": [
    "slow_tables_dict['object_csv_licensed.zip_StatisticalDebugging_coverage_sd_1230.csv']"
   ]
  },
  {
   "cell_type": "code",
   "execution_count": 27,
   "metadata": {},
   "outputs": [],
   "source": [
    "with open('/home/francesco.pugnaloni/GNNTE/Datasets/CoreEvaluationDatasets/100k_valid_wikitables/100k_tables.pkl', 'rb') as f:\n",
    "    table_dict = pickle.load(f)"
   ]
  },
  {
   "cell_type": "code",
   "execution_count": 28,
   "metadata": {},
   "outputs": [],
   "source": [
    "i = 0\n",
    "out = {}\n",
    "for k in table_dict.keys():\n",
    "    if i >= 1000:\n",
    "        break\n",
    "    out[k] = table_dict[k]\n",
    "    i+=1"
   ]
  },
  {
   "cell_type": "code",
   "execution_count": 30,
   "metadata": {},
   "outputs": [
    {
     "data": {
      "text/plain": [
       "1000"
      ]
     },
     "execution_count": 30,
     "metadata": {},
     "output_type": "execute_result"
    }
   ],
   "source": [
    "len(out)"
   ]
  },
  {
   "cell_type": "code",
   "execution_count": 31,
   "metadata": {},
   "outputs": [],
   "source": [
    "with open('/home/francesco.pugnaloni/GNNTE/Datasets/just_1k_tables.pkl', 'wb') as f:\n",
    "    pickle.dump(out,f)"
   ]
  },
  {
   "cell_type": "code",
   "execution_count": 32,
   "metadata": {},
   "outputs": [],
   "source": [
    "from data_visualization import *"
   ]
  },
  {
   "cell_type": "code",
   "execution_count": 33,
   "metadata": {},
   "outputs": [
    {
     "name": "stderr",
     "output_type": "stream",
     "text": [
      "100%|██████████| 455252/455252 [00:00<00:00, 2142164.31it/s]\n"
     ]
    },
    {
     "data": {
      "text/plain": [
       "{0.5: 15904,\n",
       " 0.8: 55893,\n",
       " 0.6: 24241,\n",
       " 0.7: 31533,\n",
       " 0.3: 39331,\n",
       " 0.4: 19390,\n",
       " 0.2: 59283,\n",
       " 0.1: 96863,\n",
       " 0.9: 51051,\n",
       " 0.0: 61763}"
      ]
     },
     "execution_count": 33,
     "metadata": {},
     "output_type": "execute_result"
    },
    {
     "data": {
      "image/png": "[encoded data removed]",
      "text/plain": [
       "<Figure size 640x480 with 1 Axes>"
      ]
     },
     "metadata": {},
     "output_type": "display_data"
    }
   ],
   "source": [
    "show_samples_distribution(pd.read_csv('/home/francesco.pugnaloni/GNNTE/Datasets/CoreEvaluationDatasets/1M_wikitables_disjointed/train.csv'))"
   ]
  },
  {
   "cell_type": "code",
   "execution_count": 34,
   "metadata": {},
   "outputs": [
    {
     "name": "stderr",
     "output_type": "stream",
     "text": [
      "100%|██████████| 52350/52350 [00:00<00:00, 1720337.33it/s]\n"
     ]
    },
    {
     "data": {
      "text/plain": [
       "{0.4: 2204,\n",
       " 0.6: 2810,\n",
       " 0.9: 5972,\n",
       " 0.3: 4928,\n",
       " 0.5: 1986,\n",
       " 0.8: 7023,\n",
       " 0.7: 3402,\n",
       " 0.1: 10531,\n",
       " 0.2: 6805,\n",
       " 0.0: 6689}"
      ]
     },
     "execution_count": 34,
     "metadata": {},
     "output_type": "execute_result"
    },
    {
     "data": {
      "image/png": "[encoded data removed]",
      "text/plain": [
       "<Figure size 640x480 with 1 Axes>"
      ]
     },
     "metadata": {},
     "output_type": "display_data"
    }
   ],
   "source": [
    "show_samples_distribution(pd.read_csv('/home/francesco.pugnaloni/GNNTE/Datasets/CoreEvaluationDatasets/1M_wikitables_disjointed/test.csv'))"
   ]
  },
  {
   "cell_type": "code",
   "execution_count": 35,
   "metadata": {},
   "outputs": [
    {
     "name": "stderr",
     "output_type": "stream",
     "text": [
      "100%|██████████| 52530/52530 [00:00<00:00, 1930354.39it/s]\n"
     ]
    },
    {
     "data": {
      "text/plain": [
       "{0.8: 6326,\n",
       " 0.5: 1860,\n",
       " 0.6: 2731,\n",
       " 0.7: 3458,\n",
       " 0.9: 5465,\n",
       " 0.3: 4712,\n",
       " 0.2: 7086,\n",
       " 0.4: 2272,\n",
       " 0.1: 11469,\n",
       " 0.0: 7151}"
      ]
     },
     "execution_count": 35,
     "metadata": {},
     "output_type": "execute_result"
    },
    {
     "data": {
      "image/png": "[encoded data removed]",
      "text/plain": [
       "<Figure size 640x480 with 1 Axes>"
      ]
     },
     "metadata": {},
     "output_type": "display_data"
    }
   ],
   "source": [
    "show_samples_distribution(pd.read_csv('/home/francesco.pugnaloni/GNNTE/Datasets/CoreEvaluationDatasets/1M_wikitables_disjointed/valid.csv'))"
   ]
  },
  {
   "cell_type": "code",
   "execution_count": null,
   "metadata": {},
   "outputs": [],
   "source": []
  }
 ],
 "metadata": {
  "kernelspec": {
   "display_name": "GNNTE",
   "language": "python",
   "name": "python3"
  },
  "language_info": {
   "codemirror_mode": {
    "name": "ipython",
    "version": 3
   },
   "file_extension": ".py",
   "mimetype": "text/x-python",
   "name": "python",
   "nbconvert_exporter": "python",
   "pygments_lexer": "ipython3",
   "version": "3.11.3"
  }
 },
 "nbformat": 4,
 "nbformat_minor": 2
}
